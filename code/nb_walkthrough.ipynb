{
 "cells": [
  {
   "cell_type": "code",
   "execution_count": 1,
   "metadata": {},
   "outputs": [],
   "source": [
    "from csv_load import * # the file with our modules"
   ]
  },
  {
   "cell_type": "markdown",
   "metadata": {},
   "source": [
    "## Files\n",
    "\n",
    "The first thing is to get acces to csv files, in this example we use a csv from a 'Ball on bar' exercise"
   ]
  },
  {
   "cell_type": "code",
   "execution_count": 2,
   "metadata": {},
   "outputs": [],
   "source": [
    "ball_exercise = \"../files/utf8/Ball_on_Bar_-_Child_-_RIGHT_-_11_59.csv\""
   ]
  },
  {
   "cell_type": "markdown",
   "metadata": {},
   "source": [
    "*IMPORTANT* : before loading csv's, please convert them to utf8. To do so you can use the convert.sh file located in the same dir as this notebook.  \n",
    "Note that the script requires you to have saved the csv files into the *files/set1* folder located at the root of the git repo.  \n",
    "The script automatically converts every csv to the right format, and save them into a new subfolder *utf8*. "
   ]
  },
  {
   "cell_type": "markdown",
   "metadata": {},
   "source": [
    "## Dataframe extraction"
   ]
  },
  {
   "cell_type": "markdown",
   "metadata": {},
   "source": [
    "Depending on the exercise type ('ball_on_bar, circuit_exo, object_hit, guided_reaching) the csv formatting is slightly different,   \n",
    "these if conditions address the problem with different **extract_dataframes()** settings base on the input file."
   ]
  },
  {
   "cell_type": "code",
   "execution_count": 3,
   "metadata": {},
   "outputs": [],
   "source": [
    "EXERCISE = ball_exercise\n",
    "dfs = extract_dataframes(EXERCISE)"
   ]
  },
  {
   "cell_type": "code",
   "execution_count": 4,
   "metadata": {},
   "outputs": [
    {
     "data": {
      "text/plain": [
       "3"
      ]
     },
     "execution_count": 4,
     "metadata": {},
     "output_type": "execute_result"
    }
   ],
   "source": [
    "len(dfs)"
   ]
  },
  {
   "cell_type": "markdown",
   "metadata": {},
   "source": [
    "## Trial analysis"
   ]
  },
  {
   "cell_type": "markdown",
   "metadata": {},
   "source": [
    "Previous line means that we have 3 dataframes in the file, ie. 3 Trials for which we want to access data"
   ]
  },
  {
   "cell_type": "code",
   "execution_count": 5,
   "metadata": {},
   "outputs": [
    {
     "name": "stdout",
     "output_type": "stream",
     "text": [
      "65528.0 | 65.527\n",
      "61899.0 | 61.898\n",
      "2792.0 | 2.791\n"
     ]
    },
    {
     "name": "stderr",
     "output_type": "stream",
     "text": [
      "/opt/anaconda3/lib/python3.8/site-packages/numpy/core/fromnumeric.py:3474: RuntimeWarning: Mean of empty slice.\n",
      "  return _methods._mean(a, axis=axis, dtype=dtype,\n",
      "/opt/anaconda3/lib/python3.8/site-packages/numpy/core/_methods.py:189: RuntimeWarning: invalid value encountered in double_scalars\n",
      "  ret = ret.dtype.type(ret / rcount)\n",
      "/opt/anaconda3/lib/python3.8/site-packages/numpy/core/_methods.py:264: RuntimeWarning: Degrees of freedom <= 0 for slice\n",
      "  ret = _var(a, axis=axis, dtype=dtype, out=out, ddof=ddof,\n",
      "/opt/anaconda3/lib/python3.8/site-packages/numpy/core/_methods.py:222: RuntimeWarning: invalid value encountered in true_divide\n",
      "  arrmean = um.true_divide(arrmean, div, out=arrmean, casting='unsafe',\n",
      "/opt/anaconda3/lib/python3.8/site-packages/numpy/core/_methods.py:256: RuntimeWarning: invalid value encountered in double_scalars\n",
      "  ret = ret.dtype.type(ret / rcount)\n"
     ]
    }
   ],
   "source": [
    "for i in range(len(dfs)):\n",
    "    trial = Trial(dfs[i], EXERCISE)\n",
    "    print(trial.count, trial.duration, sep=' | ')"
   ]
  },
  {
   "cell_type": "markdown",
   "metadata": {},
   "source": [
    "These are the frames count and trial duration (seconds) of each of the 3 trials.  \n",
    "These numbers confirm that we have one frame per ms, we can access the rate with the following line :"
   ]
  },
  {
   "cell_type": "code",
   "execution_count": 6,
   "metadata": {},
   "outputs": [
    {
     "name": "stdout",
     "output_type": "stream",
     "text": [
      "0.001\n",
      "0.001\n",
      "0.001\n"
     ]
    }
   ],
   "source": [
    "for i in range(len(dfs)):\n",
    "    trial = Trial(dfs[i], EXERCISE)\n",
    "    print(trial.rate)   # in frame/s"
   ]
  },
  {
   "cell_type": "markdown",
   "metadata": {},
   "source": [
    "### Events\n",
    "Before plotting the kinematics, it might be interesting to access events from a trial :"
   ]
  },
  {
   "cell_type": "code",
   "execution_count": 7,
   "metadata": {},
   "outputs": [
    {
     "name": "stdout",
     "output_type": "stream",
     "text": [
      "0 {'saccades': 72, 'fixations': 15, 'blinks': 2}\n",
      "1 {'saccades': 81, 'fixations': 23, 'blinks': 0}\n",
      "2 {'saccades': 15, 'fixations': 2, 'blinks': 0}\n"
     ]
    }
   ],
   "source": [
    "for i in range(len(dfs)):\n",
    "    trial = Trial(dfs[i], EXERCISE)\n",
    "    print(i, trial.events_cnt)     # counts the events for each Trial"
   ]
  },
  {
   "cell_type": "markdown",
   "metadata": {},
   "source": [
    "It is also possible to access every single event start in an ordered list, getting its frame # and time.  \n",
    "**Warning** wordy output "
   ]
  },
  {
   "cell_type": "code",
   "execution_count": 8,
   "metadata": {},
   "outputs": [],
   "source": [
    "for i in range(len(dfs)):\n",
    "    trial = Trial(dfs[i], EXERCISE)\n",
    "    #print(trial.events)"
   ]
  },
  {
   "cell_type": "markdown",
   "metadata": {},
   "source": [
    "Or even access only a certain type of event individually, without loading the whole event dict:"
   ]
  },
  {
   "cell_type": "code",
   "execution_count": 9,
   "metadata": {},
   "outputs": [
    {
     "name": "stdout",
     "output_type": "stream",
     "text": [
      "0 [(1488.0, 1.48800004), (1629.0, 1.62899995), (3858.0, 3.85800004), (3957.0, 3.95700002), (6212.0, 6.21199989), (8106.0, 8.10599995), (12533.0, 12.533), (13977.0, 13.9770002), (14025.0, 14.0249996), (14270.0, 14.2700005), (24144.0, 24.1439991), (24386.0, 24.3859997), (24817.0, 24.8169994), (26062.0, 26.0620003), (27593.0, 27.5930004), (27843.0, 27.8430004), (35943.0, 35.9430008), (37592.0, 37.5919991), (37857.0, 37.8569984), (39502.0, 39.5019989), (42721.0, 42.7210007), (43270.0, 43.2700005), (51647.0, 51.6469994), (53798.0, 53.7980003), (57902.0, 57.9020004), (58747.0, 58.7470016), (59961.0, 59.9609985), (60908.0, 60.9080009), (62882.0, 62.882), (63174.0, 63.1739998)]\n",
      "1 [(755.0, 0.754999995), (2546.0, 2.546), (2593.0, 2.59299994), (3239.0, 3.23900008), (3263.0, 3.26300001), (4761.0, 4.76100016), (6014.0, 6.01399994), (6162.0, 6.16200018), (9241.0, 9.24100018), (9437.0, 9.43700027), (13149.0, 13.1490002), (13298.0, 13.2980003), (14852.0, 14.8520002), (15543.0, 15.5430002), (15660.0, 15.6599998), (15661.0, 15.6610003), (15858.0, 15.8579998), (15859.0, 15.8590002), (22289.0, 22.2889996), (22583.0, 22.5830002), (22607.0, 22.6070004), (22949.0, 22.9489994), (22973.0, 22.9729996), (24667.0, 24.6669998), (24692.0, 24.6919994), (24887.0, 24.8869991), (24929.0, 24.9290009), (25278.0, 25.2779999), (25653.0, 25.6529999), (26298.0, 26.2980003), (31906.0, 31.9060001), (32304.0, 32.3040009), (35074.0, 35.0740013), (35568.0, 35.5680008), (35594.0, 35.5940018), (36894.0, 36.894001), (37476.0, 37.4760017), (38317.0, 38.3170013), (38898.0, 38.8979988), (38943.0, 38.9430008), (51340.0, 51.3400002), (51586.0, 51.5859985), (55362.0, 55.3619995), (56303.0, 56.3030014), (60844.0, 60.8440018), (61544.0, 61.5439987)]\n",
      "2 [(518.0, 0.518000007), (768.0, 0.768000007), (2478.0, 2.47799993), (2676.0, 2.67600012)]\n"
     ]
    }
   ],
   "source": [
    "for i in range(len(dfs)):\n",
    "    trial = Trial(dfs[i], EXERCISE)\n",
    "    # print(trial.saccades)\n",
    "    print(i, trial.fixations)\n",
    "    #print(trial.blinks)"
   ]
  },
  {
   "cell_type": "markdown",
   "metadata": {},
   "source": [
    "### Plots"
   ]
  },
  {
   "cell_type": "markdown",
   "metadata": {},
   "source": [
    "The plot have many points and lag out on .ipynb notebooks. In this example they are saved, but it is an option that can be deactivated too. "
   ]
  },
  {
   "cell_type": "code",
   "execution_count": 10,
   "metadata": {},
   "outputs": [],
   "source": [
    "for i in range(len(dfs)):\n",
    "    trial = Trial(dfs[i], EXERCISE)\n",
    "    title = str(i) + \"_example.png\"  # png saves and loads faster, but other resolutions are possible\n",
    "    trial.plot_movements(name = title,save=True, show=False)"
   ]
  },
  {
   "cell_type": "markdown",
   "metadata": {},
   "source": [
    "## Animations : check anim_showcase.py "
   ]
  },
  {
   "cell_type": "markdown",
   "metadata": {},
   "source": []
  }
 ],
 "metadata": {
  "interpreter": {
   "hash": "40d3a090f54c6569ab1632332b64b2c03c39dcf918b08424e98f38b5ae0af88f"
  },
  "kernelspec": {
   "display_name": "Python 3.8.8 ('base')",
   "language": "python",
   "name": "python3"
  },
  "language_info": {
   "codemirror_mode": {
    "name": "ipython",
    "version": 3
   },
   "file_extension": ".py",
   "mimetype": "text/x-python",
   "name": "python",
   "nbconvert_exporter": "python",
   "pygments_lexer": "ipython3",
   "version": "3.8.8"
  },
  "orig_nbformat": 4
 },
 "nbformat": 4,
 "nbformat_minor": 2
}
