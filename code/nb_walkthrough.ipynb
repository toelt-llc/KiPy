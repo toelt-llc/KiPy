{
 "cells": [
  {
   "cell_type": "code",
   "execution_count": 1,
   "metadata": {},
   "outputs": [],
   "source": [
    "from csv_load import * # the file with our modules"
   ]
  },
  {
   "cell_type": "markdown",
   "metadata": {},
   "source": [
    "## Files\n",
    "\n",
    "The first thing is to get acces to csv files, in this example we use a csv from a 'Ball on bar' exercise"
   ]
  },
  {
   "cell_type": "code",
   "execution_count": 2,
   "metadata": {},
   "outputs": [],
   "source": [
    "ball_exercise = \"../files/utf8/Ball_on_Bar_-_Child_-_RIGHT_-_11_59.csv\""
   ]
  },
  {
   "cell_type": "markdown",
   "metadata": {},
   "source": [
    "*IMPORTANT* : before loading csv's, please convert them to utf8. To do so you can use the convert.sh file located in the same dir as this notebook.  \n",
    "Note that the script requires you to have saved the csv files into the *files/set1* folder located at the root of the git repo.  \n",
    "The script automatically converts every csv to the right format, and save them into a new subfolder *utf8*. "
   ]
  },
  {
   "cell_type": "markdown",
   "metadata": {},
   "source": [
    "## Dataframe extraction"
   ]
  },
  {
   "cell_type": "markdown",
   "metadata": {},
   "source": [
    "Depending on the exercise type ('ball_on_bar, circuit_exo, object_hit, guided_reaching) the csv formatting is slightly different,   \n",
    "these if conditions address the problem with different **extract_dataframes()** settings base on the input file."
   ]
  },
  {
   "cell_type": "code",
   "execution_count": 3,
   "metadata": {},
   "outputs": [],
   "source": [
    "EXERCISE = ball_exercise\n",
    "dfs = extract_dataframes(EXERCISE)"
   ]
  },
  {
   "cell_type": "code",
   "execution_count": 4,
   "metadata": {},
   "outputs": [
    {
     "data": {
      "text/plain": [
       "3"
      ]
     },
     "execution_count": 4,
     "metadata": {},
     "output_type": "execute_result"
    }
   ],
   "source": [
    "len(dfs)"
   ]
  },
  {
   "cell_type": "markdown",
   "metadata": {},
   "source": [
    "## Trial analysis"
   ]
  },
  {
   "cell_type": "markdown",
   "metadata": {},
   "source": [
    "Previous line means that we have 3 dataframes in the file, ie. 3 Trials for which we want to access data"
   ]
  },
  {
   "cell_type": "code",
   "execution_count": 5,
   "metadata": {},
   "outputs": [
    {
     "name": "stdout",
     "output_type": "stream",
     "text": [
      "65528.0 | 65.527\n",
      "61899.0 | 61.898\n",
      "2792.0 | 2.791\n"
     ]
    }
   ],
   "source": [
    "for i in range(len(dfs)):\n",
    "    trial = Trial(dfs[i], EXERCISE, filter=None)\n",
    "    print(trial.count, trial.duration, sep=' | ')"
   ]
  },
  {
   "cell_type": "markdown",
   "metadata": {},
   "source": [
    "These are the frames count and trial duration (seconds) of each of the 3 trials.  \n",
    "These numbers confirm that we have one frame per ms, we can access the rate with the following line :"
   ]
  },
  {
   "cell_type": "code",
   "execution_count": 6,
   "metadata": {},
   "outputs": [
    {
     "name": "stdout",
     "output_type": "stream",
     "text": [
      "0.001\n",
      "0.001\n",
      "0.001\n"
     ]
    }
   ],
   "source": [
    "for i in range(len(dfs)):\n",
    "    trial = Trial(dfs[i], EXERCISE, filter=None)\n",
    "    print(trial.rate)   # in frame/s"
   ]
  },
  {
   "cell_type": "markdown",
   "metadata": {},
   "source": [
    "### Events\n",
    "Before plotting the kinematics, it might be interesting to access events from a trial :"
   ]
  },
  {
   "cell_type": "code",
   "execution_count": 7,
   "metadata": {},
   "outputs": [
    {
     "name": "stdout",
     "output_type": "stream",
     "text": [
      "0 {'saccades': 72, 'fixations': 15, 'blinks': 2}\n",
      "1 {'saccades': 81, 'fixations': 23, 'blinks': 0}\n",
      "2 {'saccades': 15, 'fixations': 2, 'blinks': 0}\n"
     ]
    }
   ],
   "source": [
    "for i in range(len(dfs)):\n",
    "    trial = Trial(dfs[i], EXERCISE, filter=None)\n",
    "    print(i, trial.events_cnt)     # counts the events for each Trial"
   ]
  },
  {
   "cell_type": "markdown",
   "metadata": {},
   "source": [
    "It is also possible to access every single event start in an ordered list, getting its frame # and frame time.  \n",
    "**Warning** wordy output, uncomment the line to display"
   ]
  },
  {
   "cell_type": "code",
   "execution_count": 8,
   "metadata": {},
   "outputs": [],
   "source": [
    "for i in range(len(dfs)):\n",
    "    trial = Trial(dfs[i], EXERCISE, filter=None)\n",
    "    #print(trial.events)"
   ]
  },
  {
   "cell_type": "markdown",
   "metadata": {},
   "source": [
    "Or even access only a certain type of event individually, without loading the whole event dict:\n",
    "Currently outputs the start of the chosen event, in frame # and frame time (s)"
   ]
  },
  {
   "cell_type": "code",
   "execution_count": 9,
   "metadata": {},
   "outputs": [
    {
     "name": "stdout",
     "output_type": "stream",
     "text": [
      "0 [(1488.0, 1.48800004), (1629.0, 1.62899995), (3858.0, 3.85800004), (3957.0, 3.95700002), (6212.0, 6.21199989), (8106.0, 8.10599995), (12533.0, 12.533), (13977.0, 13.9770002), (14025.0, 14.0249996), (14270.0, 14.2700005), (24144.0, 24.1439991), (24386.0, 24.3859997), (24817.0, 24.8169994), (26062.0, 26.0620003), (27593.0, 27.5930004), (27843.0, 27.8430004), (35943.0, 35.9430008), (37592.0, 37.5919991), (37857.0, 37.8569984), (39502.0, 39.5019989), (42721.0, 42.7210007), (43270.0, 43.2700005), (51647.0, 51.6469994), (53798.0, 53.7980003), (57902.0, 57.9020004), (58747.0, 58.7470016), (59961.0, 59.9609985), (60908.0, 60.9080009), (62882.0, 62.882), (63174.0, 63.1739998)]\n",
      "1 [(755.0, 0.754999995), (2546.0, 2.546), (2593.0, 2.59299994), (3239.0, 3.23900008), (3263.0, 3.26300001), (4761.0, 4.76100016), (6014.0, 6.01399994), (6162.0, 6.16200018), (9241.0, 9.24100018), (9437.0, 9.43700027), (13149.0, 13.1490002), (13298.0, 13.2980003), (14852.0, 14.8520002), (15543.0, 15.5430002), (15660.0, 15.6599998), (15661.0, 15.6610003), (15858.0, 15.8579998), (15859.0, 15.8590002), (22289.0, 22.2889996), (22583.0, 22.5830002), (22607.0, 22.6070004), (22949.0, 22.9489994), (22973.0, 22.9729996), (24667.0, 24.6669998), (24692.0, 24.6919994), (24887.0, 24.8869991), (24929.0, 24.9290009), (25278.0, 25.2779999), (25653.0, 25.6529999), (26298.0, 26.2980003), (31906.0, 31.9060001), (32304.0, 32.3040009), (35074.0, 35.0740013), (35568.0, 35.5680008), (35594.0, 35.5940018), (36894.0, 36.894001), (37476.0, 37.4760017), (38317.0, 38.3170013), (38898.0, 38.8979988), (38943.0, 38.9430008), (51340.0, 51.3400002), (51586.0, 51.5859985), (55362.0, 55.3619995), (56303.0, 56.3030014), (60844.0, 60.8440018), (61544.0, 61.5439987)]\n",
      "2 [(518.0, 0.518000007), (768.0, 0.768000007), (2478.0, 2.47799993), (2676.0, 2.67600012)]\n"
     ]
    }
   ],
   "source": [
    "for i in range(len(dfs)):\n",
    "    trial = Trial(dfs[i], EXERCISE, filter=None)\n",
    "    # print(trial.saccades)\n",
    "    print(i, trial.fixations)\n",
    "    #print(trial.blinks)"
   ]
  },
  {
   "cell_type": "markdown",
   "metadata": {},
   "source": [
    "Statistics for the events for each trial are also available:  \n",
    "Currently outputs mean and std, in seconds"
   ]
  },
  {
   "cell_type": "code",
   "execution_count": 10,
   "metadata": {},
   "outputs": [
    {
     "name": "stdout",
     "output_type": "stream",
     "text": [
      "0 {'saccades': (0.04, 0.03), 'fixations': (0.91, 0.69), 'blinks': (0.08, 0.03)}\n",
      "1 {'saccades': (0.03, 0.02), 'fixations': (0.59, 0.52), 'blinks': None}\n",
      "2 {'saccades': (0.04, 0.04), 'fixations': (0.22, 0.03), 'blinks': None}\n"
     ]
    }
   ],
   "source": [
    "for i in range(len(dfs)):\n",
    "    trial = Trial(dfs[i], EXERCISE, filter=None)\n",
    "    print(i, trial.event_mean)"
   ]
  },
  {
   "cell_type": "markdown",
   "metadata": {},
   "source": [
    "### Plots"
   ]
  },
  {
   "cell_type": "markdown",
   "metadata": {},
   "source": [
    "The plot have many points and lag out on .ipynb notebooks. In this example they are saved, but it is an option that can be deactivated too. "
   ]
  },
  {
   "cell_type": "code",
   "execution_count": 11,
   "metadata": {},
   "outputs": [],
   "source": [
    "for i in range(len(dfs)):\n",
    "    trial = Trial(dfs[i], EXERCISE, filter = None)\n",
    "    title = str(i) + \"_example.png\"  # png saves and loads faster, but other resolutions are possible\n",
    "    trial.plot_movements(name = title,save=True, show=False)"
   ]
  },
  {
   "cell_type": "markdown",
   "metadata": {},
   "source": [
    "## Animations : check anim_showcase.py "
   ]
  },
  {
   "cell_type": "markdown",
   "metadata": {},
   "source": [
    "## Saving all the trials as pickle dataframes for faster load"
   ]
  },
  {
   "cell_type": "markdown",
   "metadata": {},
   "source": [
    "This way all data from the files can be extracted and re-used without uploading the large CSVs"
   ]
  },
  {
   "cell_type": "code",
   "execution_count": 12,
   "metadata": {},
   "outputs": [
    {
     "name": "stdout",
     "output_type": "stream",
     "text": [
      "Compressing file :  ../files/utf8/Ball_on_Bar_-_Child_-_RIGHT_-_11_59.csv              File contains 3 trials: \n",
      "Compressing file :  ../files/utf8/Ball_on_Bar_-_[Child_-_practice_2_(30s_per_level)]_-_RIGHT_-_11_57.csv              File contains 2 trials: \n",
      "Compressing file :  ../files/utf8/Circuit_Exo_-_[Circuit2exo_ExTrialLisaD(youngerchildren)]_-_RIGHT_-_12_05.csv              File contains 1 trials: \n",
      "Compressing file :  ../files/utf8/Circuit_Exo_-_[Circuit2exo_ExTrialLisaD(youngerchildren)]_-_RIGHT_-_12_08.csv              File contains 1 trials: \n",
      "Compressing file :  ../files/utf8/Circuit_Exo_-_[b_Circuit1_(youngerchildren)]_-_RIGHT_-_12_09.csv              File contains 1 trials: \n",
      "Compressing file :  ../files/utf8/Circuit_Exo_-_[c_Circuit1_rotated_(youngerchildren)]_-_RIGHT_-_12_11.csv              File contains 1 trials: \n",
      "Compressing file :  ../files/utf8/Object_Hit_-_Child_-_RIGHT_-_12_02.csv              File contains 1 trials: \n",
      "Compressing file :  ../files/utf8/Object_Hit_-_[Child_-_practice]_-_RIGHT_-_12_02.csv              File contains 1 trials: \n",
      "Compressing file :  ../files/utf8/Visually_Guided_Reaching_-_Child_v2_(4_target)_-_LEFT_-_11_50.csv              File contains 24 trials: \n",
      "Compressing file :  ../files/utf8/Visually_Guided_Reaching_-_Child_v2_(4_target)_-_RIGHT_-_11_47.csv              File contains 24 trials: \n",
      "Compressing file :  ../files/utf8/Visually_Guided_Reaching_-_[Child_v2_-_practice]_-_LEFT_-_11_49.csv              File contains 3 trials: \n",
      "Compressing file :  ../files/utf8/Visually_Guided_Reaching_-_[Child_v2_-_practice]_-_RIGHT_-_11_47.csv              File contains 3 trials: \n"
     ]
    }
   ],
   "source": [
    "## Compressed\n",
    "import pickle, blosc, os\n",
    "\n",
    "pickledir = \"../files/pickles/1/\"\n",
    "DIR = \"../files/utf8/\"\n",
    "FILES = []\n",
    "for root, dir, files in os.walk(DIR, topdown=False):\n",
    "    for file in sorted(files):\n",
    "        FILES.append(os.path.join(root, file))\n",
    "\n",
    "for f in FILES:\n",
    "    print(\"Compressing file : \", f, end=\"              \")\n",
    "    data = extract_dataframes(f)\n",
    "    print(\"File contains {} trials: \".format(len(data)))\n",
    "    pickled_data = pickle.dumps(data)  # returns data as a bytes object\n",
    "    compressed_pickle = blosc.compress(pickled_data)\n",
    "    with open(pickledir+f[13:-4]+\".pickle\", \"wb\") as f:\n",
    "        f.write(compressed_pickle)"
   ]
  },
  {
   "cell_type": "markdown",
   "metadata": {},
   "source": [
    "And to read it:"
   ]
  },
  {
   "cell_type": "code",
   "execution_count": 13,
   "metadata": {},
   "outputs": [
    {
     "name": "stdout",
     "output_type": "stream",
     "text": [
      "Object contains 2 dataframes, first dataframe :\n"
     ]
    },
    {
     "data": {
      "text/html": [
       "<div>\n",
       "<style scoped>\n",
       "    .dataframe tbody tr th:only-of-type {\n",
       "        vertical-align: middle;\n",
       "    }\n",
       "\n",
       "    .dataframe tbody tr th {\n",
       "        vertical-align: top;\n",
       "    }\n",
       "\n",
       "    .dataframe thead th {\n",
       "        text-align: right;\n",
       "    }\n",
       "</style>\n",
       "<table border=\"1\" class=\"dataframe\">\n",
       "  <thead>\n",
       "    <tr style=\"text-align: right;\">\n",
       "      <th></th>\n",
       "      <th>Trial #</th>\n",
       "      <th>TP Row</th>\n",
       "      <th>Block Row</th>\n",
       "      <th>Sample duration (s)</th>\n",
       "      <th>Sample count</th>\n",
       "      <th>Event name</th>\n",
       "      <th>Event time (s)</th>\n",
       "      <th>Video frame sent</th>\n",
       "      <th>Video frame ACKed</th>\n",
       "      <th>Frame #</th>\n",
       "      <th>...</th>\n",
       "      <th>Left: Shoulder angle</th>\n",
       "      <th>Left: Elbow angle</th>\n",
       "      <th>Left: Shoulder velocity</th>\n",
       "      <th>Left: Elbow velocity</th>\n",
       "      <th>Left: Shoulder acceleration</th>\n",
       "      <th>Left: Elbow acceleration</th>\n",
       "      <th>Left: Cmd shoulder torque</th>\n",
       "      <th>Left: Cmd elbow torque</th>\n",
       "      <th>Video frame interval time</th>\n",
       "      <th>Video frame drop count</th>\n",
       "    </tr>\n",
       "  </thead>\n",
       "  <tbody>\n",
       "    <tr>\n",
       "      <th>0</th>\n",
       "      <td>1.0</td>\n",
       "      <td>1.0</td>\n",
       "      <td>1.0</td>\n",
       "      <td>0.001</td>\n",
       "      <td>36015.0</td>\n",
       "      <td>NaN</td>\n",
       "      <td>NaN</td>\n",
       "      <td>NaN</td>\n",
       "      <td>NaN</td>\n",
       "      <td>0</td>\n",
       "      <td>...</td>\n",
       "      <td>0.24217</td>\n",
       "      <td>1.797675</td>\n",
       "      <td>-0.009587</td>\n",
       "      <td>0.009587</td>\n",
       "      <td>0.000000e+00</td>\n",
       "      <td>-1.776357e-09</td>\n",
       "      <td>0.0</td>\n",
       "      <td>0.0</td>\n",
       "      <td>8.000001</td>\n",
       "      <td>0</td>\n",
       "    </tr>\n",
       "    <tr>\n",
       "      <th>1</th>\n",
       "      <td>NaN</td>\n",
       "      <td>NaN</td>\n",
       "      <td>NaN</td>\n",
       "      <td>NaN</td>\n",
       "      <td>NaN</td>\n",
       "      <td>NaN</td>\n",
       "      <td>NaN</td>\n",
       "      <td>Video Frame 0</td>\n",
       "      <td>NaN</td>\n",
       "      <td>1</td>\n",
       "      <td>...</td>\n",
       "      <td>0.24216</td>\n",
       "      <td>1.797685</td>\n",
       "      <td>-0.009587</td>\n",
       "      <td>0.009587</td>\n",
       "      <td>-8.881784e-10</td>\n",
       "      <td>1.776357e-09</td>\n",
       "      <td>0.0</td>\n",
       "      <td>0.0</td>\n",
       "      <td>8.000001</td>\n",
       "      <td>0</td>\n",
       "    </tr>\n",
       "    <tr>\n",
       "      <th>2</th>\n",
       "      <td>NaN</td>\n",
       "      <td>NaN</td>\n",
       "      <td>NaN</td>\n",
       "      <td>NaN</td>\n",
       "      <td>NaN</td>\n",
       "      <td>NaN</td>\n",
       "      <td>NaN</td>\n",
       "      <td>NaN</td>\n",
       "      <td>NaN</td>\n",
       "      <td>2</td>\n",
       "      <td>...</td>\n",
       "      <td>0.24216</td>\n",
       "      <td>1.797685</td>\n",
       "      <td>0.000000</td>\n",
       "      <td>0.000000</td>\n",
       "      <td>9.587379e+00</td>\n",
       "      <td>-9.587379e+00</td>\n",
       "      <td>0.0</td>\n",
       "      <td>0.0</td>\n",
       "      <td>8.000001</td>\n",
       "      <td>0</td>\n",
       "    </tr>\n",
       "    <tr>\n",
       "      <th>3</th>\n",
       "      <td>NaN</td>\n",
       "      <td>NaN</td>\n",
       "      <td>NaN</td>\n",
       "      <td>NaN</td>\n",
       "      <td>NaN</td>\n",
       "      <td>NaN</td>\n",
       "      <td>NaN</td>\n",
       "      <td>NaN</td>\n",
       "      <td>NaN</td>\n",
       "      <td>3</td>\n",
       "      <td>...</td>\n",
       "      <td>0.24215</td>\n",
       "      <td>1.797695</td>\n",
       "      <td>-0.009587</td>\n",
       "      <td>0.009587</td>\n",
       "      <td>-9.587379e+00</td>\n",
       "      <td>9.587379e+00</td>\n",
       "      <td>0.0</td>\n",
       "      <td>0.0</td>\n",
       "      <td>8.000001</td>\n",
       "      <td>0</td>\n",
       "    </tr>\n",
       "  </tbody>\n",
       "</table>\n",
       "<p>4 rows × 102 columns</p>\n",
       "</div>"
      ],
      "text/plain": [
       "   Trial #  TP Row  Block Row  Sample duration (s)  Sample count Event name  \\\n",
       "0      1.0     1.0        1.0                0.001       36015.0        NaN   \n",
       "1      NaN     NaN        NaN                  NaN           NaN        NaN   \n",
       "2      NaN     NaN        NaN                  NaN           NaN        NaN   \n",
       "3      NaN     NaN        NaN                  NaN           NaN        NaN   \n",
       "\n",
       "   Event time (s) Video frame sent Video frame ACKed  Frame #  ...  \\\n",
       "0             NaN              NaN               NaN        0  ...   \n",
       "1             NaN    Video Frame 0               NaN        1  ...   \n",
       "2             NaN              NaN               NaN        2  ...   \n",
       "3             NaN              NaN               NaN        3  ...   \n",
       "\n",
       "   Left: Shoulder angle  Left: Elbow angle  Left: Shoulder velocity  \\\n",
       "0               0.24217           1.797675                -0.009587   \n",
       "1               0.24216           1.797685                -0.009587   \n",
       "2               0.24216           1.797685                 0.000000   \n",
       "3               0.24215           1.797695                -0.009587   \n",
       "\n",
       "   Left: Elbow velocity  Left: Shoulder acceleration  \\\n",
       "0              0.009587                 0.000000e+00   \n",
       "1              0.009587                -8.881784e-10   \n",
       "2              0.000000                 9.587379e+00   \n",
       "3              0.009587                -9.587379e+00   \n",
       "\n",
       "   Left: Elbow acceleration  Left: Cmd shoulder torque  \\\n",
       "0             -1.776357e-09                        0.0   \n",
       "1              1.776357e-09                        0.0   \n",
       "2             -9.587379e+00                        0.0   \n",
       "3              9.587379e+00                        0.0   \n",
       "\n",
       "   Left: Cmd elbow torque  Video frame interval time  Video frame drop count  \n",
       "0                     0.0                   8.000001                       0  \n",
       "1                     0.0                   8.000001                       0  \n",
       "2                     0.0                   8.000001                       0  \n",
       "3                     0.0                   8.000001                       0  \n",
       "\n",
       "[4 rows x 102 columns]"
      ]
     },
     "execution_count": 13,
     "metadata": {},
     "output_type": "execute_result"
    }
   ],
   "source": [
    "with open(\"../files/pickles/1/Ball_on_Bar_-_[Child_-_practice_2_(30s_per_level)]_-_RIGHT_-_11_57.pickle\", \"rb\") as f:\n",
    "    compressed_pickle = f.read()\n",
    "\n",
    "depressed_pickle = blosc.decompress(compressed_pickle)\n",
    "dataframes = pickle.loads(depressed_pickle)\n",
    "print(\"Object contains {} dataframes, first dataframe :\".format(len(dataframes)))\n",
    "dataframes[0].head(4)\n"
   ]
  },
  {
   "cell_type": "markdown",
   "metadata": {},
   "source": [
    "Same process, for the flickering data"
   ]
  },
  {
   "cell_type": "code",
   "execution_count": 14,
   "metadata": {},
   "outputs": [
    {
     "name": "stdout",
     "output_type": "stream",
     "text": [
      "Compressing file :  ../files/utf8_2/Ball_on_Bar_-_Child_-_RIGHT_-_10_21.csv              File contains 1 trials\n",
      "Compressing file :  ../files/utf8_2/Ball_on_Bar_-_Child_-_RIGHT_-_10_25.csv              File contains 1 trials\n",
      "Compressing file :  ../files/utf8_2/Circuit_Exo_-_[Circuit2exo_ExTrialLisaD(olderchilden)]_-_RIGHT_-_10_36.csv              File contains 1 trials\n",
      "Compressing file :  ../files/utf8_2/Circuit_Exo_-_[Circuit2exo_ExTrialLisaD(youngerchildren)]_-_RIGHT_-_10_33.csv              File contains 1 trials\n",
      "Compressing file :  ../files/utf8_2/Circuit_Exo_-_[Circuit2exo_ExTrialLisaD(youngerchildren)]_-_RIGHT_-_10_34.csv              File contains 1 trials\n",
      "Compressing file :  ../files/utf8_2/Circuit_Exo_-_[b_Circuit1_(olderchildren)]_-_RIGHT_-_10_37.csv              File contains 1 trials\n",
      "Compressing file :  ../files/utf8_2/Circuit_Exo_-_[c_Circuit1_rotated_(olderchildren)]_-_RIGHT_-_10_38.csv              File contains 1 trials\n",
      "Compressing file :  ../files/utf8_2/Object_Hit_-_Child_-_RIGHT_-_10_28.2.csv              File contains 1 trials\n",
      "Compressing file :  ../files/utf8_2/Object_Hit_-_Child_-_RIGHT_-_10_28.csv              File contains 1 trials\n",
      "Compressing file :  ../files/utf8_2/Visually_Guided_Reaching_-_Child__4_target_-_LEFT_-_10_06.csv              File contains 1 trials\n",
      "Compressing file :  ../files/utf8_2/Visually_Guided_Reaching_-_Child__4_target_-_LEFT_-_10_07.csv              File contains 9 trials\n",
      "Compressing file :  ../files/utf8_2/Visually_Guided_Reaching_-_Child__4_target_-_RIGHT_-_10_03.2.csv              File contains 9 trials\n",
      "Compressing file :  ../files/utf8_2/Visually_Guided_Reaching_-_Child__4_target_-_RIGHT_-_10_03.csv              File contains 1 trials\n"
     ]
    }
   ],
   "source": [
    "pickledir = \"../files/pickles/2/\"\n",
    "DIR = \"../files/utf8_2/\"\n",
    "FILES = []\n",
    "for root, dir, files in os.walk(DIR, topdown=False):\n",
    "    for file in sorted(files):\n",
    "        FILES.append(os.path.join(root, file))\n",
    "\n",
    "for f in FILES:\n",
    "    print(\"Compressing file : \", f, end=\"              \")\n",
    "    data = extract_dataframes(f, set=2)\n",
    "    print(\"File contains {} trials\".format(len(data)))\n",
    "    pickled_data = pickle.dumps(data)  # returns data as a bytes object\n",
    "    compressed_pickle = blosc.compress(pickled_data)\n",
    "    with open(pickledir+f[16:-4]+\".pickle\", \"wb\") as f:\n",
    "        f.write(compressed_pickle)\n"
   ]
  },
  {
   "cell_type": "code",
   "execution_count": null,
   "metadata": {},
   "outputs": [],
   "source": []
  }
 ],
 "metadata": {
  "interpreter": {
   "hash": "40d3a090f54c6569ab1632332b64b2c03c39dcf918b08424e98f38b5ae0af88f"
  },
  "kernelspec": {
   "display_name": "Python 3.8.8 ('base')",
   "language": "python",
   "name": "python3"
  },
  "language_info": {
   "codemirror_mode": {
    "name": "ipython",
    "version": 3
   },
   "file_extension": ".py",
   "mimetype": "text/x-python",
   "name": "python",
   "nbconvert_exporter": "python",
   "pygments_lexer": "ipython3",
   "version": "3.8.8"
  },
  "orig_nbformat": 4
 },
 "nbformat": 4,
 "nbformat_minor": 2
}
