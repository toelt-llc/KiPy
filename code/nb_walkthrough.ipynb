{
 "cells": [
  {
   "cell_type": "code",
   "execution_count": 10,
   "metadata": {},
   "outputs": [],
   "source": [
    "from csv_load import * # the file with our modules"
   ]
  },
  {
   "cell_type": "markdown",
   "metadata": {},
   "source": [
    "## Files\n",
    "\n",
    "The first thing is to get acces to csv files, in this example we use a csv from a 'Ball on bar' exercise"
   ]
  },
  {
   "cell_type": "code",
   "execution_count": 11,
   "metadata": {},
   "outputs": [],
   "source": [
    "ball_exercise = \"../files/utf8/Ball_on_Bar_-_Child_-_RIGHT_-_11_59.csv\""
   ]
  },
  {
   "cell_type": "markdown",
   "metadata": {},
   "source": [
    "*IMPORTANT* : before loading csv's, please convert them to utf8. To do so you can use the convert.sh file located in the same dir as this notebook.  \n",
    "Note that the script requires you to have saved the csv files into the *files* folder located at the root of the git repo.  \n",
    "The script automatically converts every csv to the right format, and save them into a new subfolder. "
   ]
  },
  {
   "cell_type": "markdown",
   "metadata": {},
   "source": [
    "## Dataframe extraction"
   ]
  },
  {
   "cell_type": "markdown",
   "metadata": {},
   "source": [
    "Depending on the exercise type ('ball_on_bar, circuit_exo, object_hit, guided_reaching) the csv formatting is slightly different,   \n",
    "these if conditions address the problem with different **extract_dataframes()** settings base on the input file."
   ]
  },
  {
   "cell_type": "code",
   "execution_count": 3,
   "metadata": {},
   "outputs": [],
   "source": [
    "# Here we are on the first case \n",
    "EXERCISE = ball_exercise\n",
    "\n",
    "if EXERCISE[14] == 'B':\n",
    "    dfs = extract_dataframes(EXERCISE, offset=6)\n",
    "elif EXERCISE[14] == 'C':\n",
    "    dfs = extract_dataframes(EXERCISE, offset=0)\n",
    "elif EXERCISE[14] == 'O' or 'R' :\n",
    "    dfs = extract_dataframes(EXERCISE, offset=3)"
   ]
  },
  {
   "cell_type": "code",
   "execution_count": 4,
   "metadata": {},
   "outputs": [
    {
     "data": {
      "text/plain": [
       "3"
      ]
     },
     "execution_count": 4,
     "metadata": {},
     "output_type": "execute_result"
    }
   ],
   "source": [
    "len(dfs)"
   ]
  },
  {
   "cell_type": "markdown",
   "metadata": {},
   "source": [
    "## Trial analysis"
   ]
  },
  {
   "cell_type": "markdown",
   "metadata": {},
   "source": [
    "Previous line means that we have 3 dataframes in the file, ie. 3 Trials for which we want to access data"
   ]
  },
  {
   "cell_type": "code",
   "execution_count": 5,
   "metadata": {},
   "outputs": [
    {
     "name": "stdout",
     "output_type": "stream",
     "text": [
      "65528.0 | 65.5270004\n",
      "61899.0 | 61.8979988\n",
      "2792.0 | 2.79099989\n"
     ]
    }
   ],
   "source": [
    "for i in range(len(dfs)):\n",
    "    trial = Trial(dfs[i])\n",
    "    print(trial.count, trial.duration, sep=' | ')"
   ]
  },
  {
   "cell_type": "markdown",
   "metadata": {},
   "source": [
    "These are the frames count and trial duration (seconds) of each of the 3 trials.  \n",
    "These numbers confirm that we have one frame per ms, we can access the rate with the following line :"
   ]
  },
  {
   "cell_type": "code",
   "execution_count": 6,
   "metadata": {},
   "outputs": [
    {
     "name": "stdout",
     "output_type": "stream",
     "text": [
      "0.001\n",
      "0.001\n",
      "0.001\n"
     ]
    }
   ],
   "source": [
    "for i in range(len(dfs)):\n",
    "    trial = Trial(dfs[i])\n",
    "    print(trial.rate)   # in frame/s"
   ]
  },
  {
   "cell_type": "markdown",
   "metadata": {},
   "source": [
    "### Events\n",
    "Before plotting the kinematics, it might be interesting to access events from a trial :"
   ]
  },
  {
   "cell_type": "code",
   "execution_count": 7,
   "metadata": {},
   "outputs": [
    {
     "name": "stdout",
     "output_type": "stream",
     "text": [
      "0 {'saccades': 72, 'fixations': 15, 'blinks': 2}\n",
      "1 {'saccades': 81, 'fixations': 23, 'blinks': 0}\n",
      "2 {'saccades': 15, 'fixations': 2, 'blinks': 0}\n"
     ]
    }
   ],
   "source": [
    "for i in range(len(dfs)):\n",
    "    trial = Trial(dfs[i])\n",
    "    print(i, trial.events_cnt)     # counts the events for each Trial"
   ]
  },
  {
   "cell_type": "markdown",
   "metadata": {},
   "source": [
    "It is also possible to access every single event start in an ordered list, getting its frame # and time.  \n",
    "**Warning** wordy output "
   ]
  },
  {
   "cell_type": "code",
   "execution_count": 8,
   "metadata": {},
   "outputs": [],
   "source": [
    "for i in range(len(dfs)):\n",
    "    trial = Trial(dfs[i])\n",
    "    #print(trial.events)"
   ]
  },
  {
   "cell_type": "markdown",
   "metadata": {},
   "source": [
    "Or even access only a certain type of event individually, without loading the whole event dict:"
   ]
  },
  {
   "cell_type": "code",
   "execution_count": 18,
   "metadata": {},
   "outputs": [
    {
     "name": "stdout",
     "output_type": "stream",
     "text": [
      "0 [(1488.0, 1.48800004), (3858.0, 3.85800004), (6212.0, 6.21199989), (12533.0, 12.533), (14025.0, 14.0249996), (24144.0, 24.1439991), (24817.0, 24.8169994), (27593.0, 27.5930004), (35943.0, 35.9430008), (37857.0, 37.8569984), (42721.0, 42.7210007), (51647.0, 51.6469994), (57902.0, 57.9020004), (59961.0, 59.9609985), (62882.0, 62.882)]\n",
      "1 [(755.0, 0.754999995), (2593.0, 2.59299994), (3263.0, 3.26300001), (6014.0, 6.01399994), (9241.0, 9.24100018), (13149.0, 13.1490002), (14852.0, 14.8520002), (15660.0, 15.6599998), (15661.0, 15.6610003), (22289.0, 22.2889996), (22607.0, 22.6070004), (22973.0, 22.9729996), (24692.0, 24.6919994), (24929.0, 24.9290009), (25653.0, 25.6529999), (31906.0, 31.9060001), (35074.0, 35.0740013), (35594.0, 35.5940018), (37476.0, 37.4760017), (38898.0, 38.8979988), (51340.0, 51.3400002), (55362.0, 55.3619995), (60844.0, 60.8440018)]\n",
      "2 [(518.0, 0.518000007), (2478.0, 2.47799993)]\n"
     ]
    }
   ],
   "source": [
    "for i in range(len(dfs)):\n",
    "    trial = Trial(dfs[i])\n",
    "    # print(trial.saccades)\n",
    "    print(i, trial.fixations)\n",
    "    #print(trial.blinks)"
   ]
  },
  {
   "cell_type": "markdown",
   "metadata": {},
   "source": [
    "### Plots"
   ]
  },
  {
   "cell_type": "markdown",
   "metadata": {},
   "source": [
    "The plot have many points and lag out on .ipynb notebooks. In this example they are saved, but it is an option that can be deactivated too. "
   ]
  },
  {
   "cell_type": "code",
   "execution_count": 9,
   "metadata": {},
   "outputs": [],
   "source": [
    "for i in range(len(dfs)):\n",
    "    trial = Trial(dfs[i])\n",
    "    title = str(i) + \"_example.png\"  # png saves and loads faster, but other resolutions are possible\n",
    "    trial.plot_movements(name = title,save=True, show=False)"
   ]
  },
  {
   "cell_type": "markdown",
   "metadata": {},
   "source": [
    "## Animations : check anim_showcase.py "
   ]
  },
  {
   "cell_type": "markdown",
   "metadata": {},
   "source": []
  }
 ],
 "metadata": {
  "interpreter": {
   "hash": "40d3a090f54c6569ab1632332b64b2c03c39dcf918b08424e98f38b5ae0af88f"
  },
  "kernelspec": {
   "display_name": "Python 3.8.8 ('base')",
   "language": "python",
   "name": "python3"
  },
  "language_info": {
   "codemirror_mode": {
    "name": "ipython",
    "version": 3
   },
   "file_extension": ".py",
   "mimetype": "text/x-python",
   "name": "python",
   "nbconvert_exporter": "python",
   "pygments_lexer": "ipython3",
   "version": "3.8.8"
  },
  "orig_nbformat": 4
 },
 "nbformat": 4,
 "nbformat_minor": 2
}
