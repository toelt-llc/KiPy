{
 "cells": [
  {
   "cell_type": "code",
   "execution_count": 1,
   "metadata": {},
   "outputs": [],
   "source": [
    "from csv_load import * # the file with our modules"
   ]
  },
  {
   "cell_type": "markdown",
   "metadata": {},
   "source": [
    "## Files\n",
    "\n",
    "The first thing is to get acces to csv files, in this example we use a csv from a 'Ball on bar' exercise"
   ]
  },
  {
   "cell_type": "code",
   "execution_count": 2,
   "metadata": {},
   "outputs": [],
   "source": [
    "ball_exercise = \"../files/utf8/Ball_on_Bar_-_Child_-_RIGHT_-_11_59.csv\""
   ]
  },
  {
   "cell_type": "markdown",
   "metadata": {},
   "source": [
    "## Dataframe extraction"
   ]
  },
  {
   "cell_type": "markdown",
   "metadata": {},
   "source": [
    "Depending on the exercise type ('ball_on_bar, circuit_exo, object_hit, guided_reaching) the csv formatting is slightly different,   \n",
    "these if conditions address the problem with different **extract_dataframes()** settings base on the input file."
   ]
  },
  {
   "cell_type": "code",
   "execution_count": 3,
   "metadata": {},
   "outputs": [],
   "source": [
    "# Here we are on the first case \n",
    "EXERCISE = ball_exercise\n",
    "\n",
    "if EXERCISE[14] == 'B':\n",
    "    dfs = extract_dataframes(EXERCISE, offset=6)\n",
    "elif EXERCISE[14] == 'C':\n",
    "    dfs = extract_dataframes(EXERCISE, offset=0)\n",
    "elif EXERCISE[14] == 'O' or 'R' :\n",
    "    dfs = extract_dataframes(EXERCISE, offset=3)"
   ]
  },
  {
   "cell_type": "code",
   "execution_count": 4,
   "metadata": {},
   "outputs": [
    {
     "data": {
      "text/plain": [
       "3"
      ]
     },
     "execution_count": 4,
     "metadata": {},
     "output_type": "execute_result"
    }
   ],
   "source": [
    "len(dfs)"
   ]
  },
  {
   "cell_type": "markdown",
   "metadata": {},
   "source": [
    "## Trial analysis"
   ]
  },
  {
   "cell_type": "markdown",
   "metadata": {},
   "source": [
    "Previous line means that we have 3 dataframes in the file, ie. 3 Trials for which we want to access data"
   ]
  },
  {
   "cell_type": "code",
   "execution_count": 5,
   "metadata": {},
   "outputs": [
    {
     "name": "stdout",
     "output_type": "stream",
     "text": [
      "65528.0 | 65.5270004\n",
      "61899.0 | 61.8979988\n",
      "2792.0 | 2.79099989\n"
     ]
    }
   ],
   "source": [
    "for i in range(len(dfs)):\n",
    "    trial = Trial(dfs[i])\n",
    "    print(trial.count, trial.duration, sep=' | ')"
   ]
  },
  {
   "cell_type": "markdown",
   "metadata": {},
   "source": [
    "These are the frames count and trial duration (seconds) of each of the 3 trials.  \n",
    "These numbers confirm that we have one frame per ms, we can access the rate with the following line :"
   ]
  },
  {
   "cell_type": "code",
   "execution_count": 6,
   "metadata": {},
   "outputs": [
    {
     "name": "stdout",
     "output_type": "stream",
     "text": [
      "0.001\n",
      "0.001\n",
      "0.001\n"
     ]
    }
   ],
   "source": [
    "for i in range(len(dfs)):\n",
    "    trial = Trial(dfs[i])\n",
    "    print(trial.rate)   # in frame/s"
   ]
  },
  {
   "cell_type": "markdown",
   "metadata": {},
   "source": [
    "### Events\n",
    "Before plotting the kinematics, it might be interesting to access events from a trial :"
   ]
  },
  {
   "cell_type": "code",
   "execution_count": 7,
   "metadata": {},
   "outputs": [
    {
     "name": "stdout",
     "output_type": "stream",
     "text": [
      "0 {'saccades': 72, 'fixations': 15, 'blinks': 2}\n",
      "1 {'saccades': 81, 'fixations': 23, 'blinks': 0}\n",
      "2 {'saccades': 15, 'fixations': 2, 'blinks': 0}\n"
     ]
    }
   ],
   "source": [
    "for i in range(len(dfs)):\n",
    "    trial = Trial(dfs[i])\n",
    "    print(i, trial.events_cnt)     # counts the events for each Trial"
   ]
  },
  {
   "cell_type": "markdown",
   "metadata": {},
   "source": [
    "It is also possible to access every single event start in an ordered list, getting its frame # and time.  \n",
    "**Warning** wordy output "
   ]
  },
  {
   "cell_type": "code",
   "execution_count": 8,
   "metadata": {},
   "outputs": [],
   "source": [
    "for i in range(len(dfs)):\n",
    "    trial = Trial(dfs[i])\n",
    "    #print(trial.events)"
   ]
  },
  {
   "cell_type": "markdown",
   "metadata": {},
   "source": [
    "### Plots"
   ]
  },
  {
   "cell_type": "markdown",
   "metadata": {},
   "source": [
    "The plot have many points and lag out on .ipynb notebooks. In this example they are saved, but it is an option that can be deactivated too. "
   ]
  },
  {
   "cell_type": "code",
   "execution_count": 9,
   "metadata": {},
   "outputs": [],
   "source": [
    "for i in range(len(dfs)):\n",
    "    trial = Trial(dfs[i])\n",
    "    title = str(i) + \"_example.png\"  # png saves and loads faster, but other resolutions are possible\n",
    "    trial.plot_movements(name = title,save=True, show=False)"
   ]
  }
 ],
 "metadata": {
  "interpreter": {
   "hash": "40d3a090f54c6569ab1632332b64b2c03c39dcf918b08424e98f38b5ae0af88f"
  },
  "kernelspec": {
   "display_name": "Python 3.8.8 ('base')",
   "language": "python",
   "name": "python3"
  },
  "language_info": {
   "codemirror_mode": {
    "name": "ipython",
    "version": 3
   },
   "file_extension": ".py",
   "mimetype": "text/x-python",
   "name": "python",
   "nbconvert_exporter": "python",
   "pygments_lexer": "ipython3",
   "version": "3.8.8"
  },
  "orig_nbformat": 4
 },
 "nbformat": 4,
 "nbformat_minor": 2
}
