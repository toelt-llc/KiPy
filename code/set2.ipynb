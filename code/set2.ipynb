{
 "cells": [
  {
   "cell_type": "code",
   "execution_count": 23,
   "metadata": {},
   "outputs": [
    {
     "name": "stdout",
     "output_type": "stream",
     "text": [
      "1 ../files/utf8_2/Ball_on_Bar_-_Child_-_RIGHT_-_10_21.csv\n",
      "Process finished -- 2.02 seconds --\n"
     ]
    }
   ],
   "source": [
    "#!/usr/bin/env python3\n",
    "import time, sys, os\n",
    "from csv_load import *\n",
    "sys.path.append('./animations/')\n",
    "import anim\n",
    "\n",
    "start_time = time.time()\n",
    "\n",
    "#practice_object = \"../files/utf8/Object_Hit_-_[Child_-_practice]_-_RIGHT_-_12_02.csv\"\n",
    "#EXERCISE = practice_object\n",
    "#dfs = extract_dataframes(EXERCISE)\n",
    "\n",
    "DIR = \"../files/utf8_2/\"\n",
    "FILES = []\n",
    "for root, dir, files in os.walk(DIR, topdown=False):\n",
    "#    print(os.path.abspath(os.getcwd()))\n",
    "    for file in sorted(files):\n",
    "        FILES.append(os.path.join(root, file))\n",
    "for f in (FILES)[:1]:\n",
    "    dfs = extract_dataframes(f, set=2)\n",
    "    print(len(dfs), f)\n",
    "    trial = Trial(dfs[0])\n",
    "    \n",
    "\n",
    "\n",
    "print(\"Process finished -- %s seconds --\" % round((time.time() - start_time),2))"
   ]
  },
  {
   "cell_type": "code",
   "execution_count": 24,
   "metadata": {},
   "outputs": [],
   "source": [
    "#list(dfs[0][dfs[0]['Event name'].notna()]['Event name'])"
   ]
  },
  {
   "cell_type": "code",
   "execution_count": 2,
   "metadata": {},
   "outputs": [],
   "source": [
    "vis = \"../files/utf8_2/Visually_Guided_Reaching_-_Child__4_target_-_LEFT_-_10_06.csv\"\n",
    "dfs = extract_dataframes(vis, set=2)"
   ]
  },
  {
   "cell_type": "code",
   "execution_count": 15,
   "metadata": {},
   "outputs": [
    {
     "data": {
      "text/plain": [
       "array([0, 4, 6, 7, 6, 3, 3, 6])"
      ]
     },
     "execution_count": 15,
     "metadata": {},
     "output_type": "execute_result"
    }
   ],
   "source": [
    "from scipy.signal import medfilt\n",
    "from scipy.ndimage import median_filter\n",
    "X = [0, 4, 7, 6, 8, 3, 2, 6]\n",
    "\n",
    "median_filter(X,3)"
   ]
  }
 ],
 "metadata": {
  "interpreter": {
   "hash": "40d3a090f54c6569ab1632332b64b2c03c39dcf918b08424e98f38b5ae0af88f"
  },
  "kernelspec": {
   "display_name": "Python 3.8.8 ('base')",
   "language": "python",
   "name": "python3"
  },
  "language_info": {
   "codemirror_mode": {
    "name": "ipython",
    "version": 3
   },
   "file_extension": ".py",
   "mimetype": "text/x-python",
   "name": "python",
   "nbconvert_exporter": "python",
   "pygments_lexer": "ipython3",
   "version": "3.8.8"
  },
  "orig_nbformat": 4
 },
 "nbformat": 4,
 "nbformat_minor": 2
}
