{
 "cells": [
  {
   "cell_type": "code",
   "execution_count": 1,
   "metadata": {},
   "outputs": [
    {
     "name": "stdout",
     "output_type": "stream",
     "text": [
      ".\n",
      "1 ../files/utf8_2/Ball_on_Bar_-_Child_-_RIGHT_-_10_21.csv\n",
      "   Trial #  TP Row  Block Row  Sample duration (s)  Sample count  \\\n",
      "0      1.0     1.0        1.0                0.001       70534.0   \n",
      "1      NaN     NaN        NaN                  NaN           NaN   \n",
      "2      NaN     NaN        NaN                  NaN           NaN   \n",
      "3      NaN     NaN        NaN                  NaN           NaN   \n",
      "4      NaN     NaN        NaN                  NaN           NaN   \n",
      "\n",
      "           Event name  Event time (s) Video frame sent Video frame ACKed  \\\n",
      "0    Gaze blink start             0.0              NaN               NaN   \n",
      "1  Gaze saccade start             0.0              NaN               NaN   \n",
      "2                 NaN             NaN              NaN               NaN   \n",
      "3                 NaN             NaN              NaN               NaN   \n",
      "4                 NaN             NaN              NaN               NaN   \n",
      "\n",
      "   Frame #  ...  Left: Shoulder angle  Left: Elbow angle  \\\n",
      "0        0  ...              0.309711           1.834171   \n",
      "1        1  ...              0.309750           1.834468   \n",
      "2        2  ...              0.309788           1.834765   \n",
      "3        3  ...              0.309826           1.835063   \n",
      "4        4  ...              0.309864           1.835360   \n",
      "\n",
      "   Left: Shoulder velocity  Left: Elbow velocity  Left: Shoulder acceleration  \\\n",
      "0                  0.03835              0.297209                -9.587379e+00   \n",
      "1                  0.03835              0.297209                 0.000000e+00   \n",
      "2                  0.03835              0.297209                 8.881784e-10   \n",
      "3                  0.03835              0.297209                -8.881784e-10   \n",
      "4                  0.03835              0.297209                 8.881784e-10   \n",
      "\n",
      "   Left: Elbow acceleration  Left: Cmd shoulder torque  \\\n",
      "0              9.587379e+00                        0.0   \n",
      "1              8.881783e-10                        0.0   \n",
      "2             -1.776357e-09                        0.0   \n",
      "3              1.776357e-09                        0.0   \n",
      "4             -1.776357e-09                        0.0   \n",
      "\n",
      "   Left: Cmd elbow torque  Video frame interval time  Video frame drop count  \n",
      "0                     0.0                   8.000001                       0  \n",
      "1                     0.0                   8.000001                       0  \n",
      "2                     0.0                   8.000001                       0  \n",
      "3                     0.0                   8.000001                       0  \n",
      "4                     0.0                   8.000001                       0  \n",
      "\n",
      "[5 rows x 102 columns]\n",
      "Process finished -- 2.09 seconds --\n"
     ]
    }
   ],
   "source": [
    "#!/usr/bin/env python3\n",
    "import time, sys, os\n",
    "from csv_load import *\n",
    "sys.path.append('./animations/')\n",
    "import anim\n",
    "\n",
    "start_time = time.time()\n",
    "\n",
    "#practice_object = \"../files/utf8/Object_Hit_-_[Child_-_practice]_-_RIGHT_-_12_02.csv\"\n",
    "#EXERCISE = practice_object\n",
    "#dfs = extract_dataframes(EXERCISE)\n",
    "\n",
    "DIR = \"../files/utf8_2/\"\n",
    "FILES = []\n",
    "for root, dir, files in os.walk(DIR, topdown=False):\n",
    "#    print(os.path.abspath(os.getcwd()))\n",
    "    for file in sorted(files):\n",
    "        FILES.append(os.path.join(root, file))\n",
    "for f in (FILES)[:1]:\n",
    "    dfs = extract_dataframes(f, set=2)\n",
    "    print(len(dfs), f)\n",
    "\n",
    "\n",
    "print(\"Process finished -- %s seconds --\" % round((time.time() - start_time),2))"
   ]
  },
  {
   "cell_type": "code",
   "execution_count": null,
   "metadata": {},
   "outputs": [],
   "source": []
  }
 ],
 "metadata": {
  "interpreter": {
   "hash": "40d3a090f54c6569ab1632332b64b2c03c39dcf918b08424e98f38b5ae0af88f"
  },
  "kernelspec": {
   "display_name": "Python 3.8.8 ('base')",
   "language": "python",
   "name": "python3"
  },
  "language_info": {
   "codemirror_mode": {
    "name": "ipython",
    "version": 3
   },
   "file_extension": ".py",
   "mimetype": "text/x-python",
   "name": "python",
   "nbconvert_exporter": "python",
   "pygments_lexer": "ipython3",
   "version": "3.8.8"
  },
  "orig_nbformat": 4
 },
 "nbformat": 4,
 "nbformat_minor": 2
}
