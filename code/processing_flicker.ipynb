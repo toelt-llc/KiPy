{
 "cells": [
  {
   "cell_type": "code",
   "execution_count": 4,
   "metadata": {},
   "outputs": [],
   "source": [
    "import time, sys, os\n",
    "from csv_load import *\n",
    "sys.path.append('./animations/')\n",
    "import anim\n",
    "\n",
    "from scipy.ndimage import median_filter\n",
    "from scipy.signal import medfilt"
   ]
  },
  {
   "cell_type": "markdown",
   "metadata": {},
   "source": [
    "# Loading the files\n",
    "IMPORTANT NOTE: only a couple of files of Visually guided experiments are uploaded in Github due to the size of the files.  \n",
    "One contains only a single trial in it.  The other contains 9 (short) trials.  "
   ]
  },
  {
   "cell_type": "code",
   "execution_count": 5,
   "metadata": {},
   "outputs": [],
   "source": [
    "def df_gap(df):\n",
    "    \"\"\" takes a dataframe in input (required to have the GazeX column) and measures all the NaNs Gaps in the given df.\n",
    "        the first part of the returned tuple contains a list of successive gaps length, \n",
    "        the second part contains start and end coordinates of the gaps\n",
    "    \"\"\"\n",
    "    array = [0]\n",
    "    df_sub = df.loc[df['Gaze_X'].isna()]\n",
    "    arridx = list(df_sub.index)\n",
    "    for i,j in enumerate(arridx[:-1]):\n",
    "        if arridx[i]+1 != arridx[i+1]:\n",
    "            array.append(j)\n",
    "            array.append(arridx[i+1])\n",
    "\n",
    "    array.append(arridx[-1]) #includes the last element \n",
    "\n",
    "    na_array = []\n",
    "    for i in range(1, len(array), 2):\n",
    "        #print(i)\n",
    "        na_array.append(array[i]-array[i-1])\n",
    "    \n",
    "    print(na_array, array[::2])\n",
    "    return na_array, array"
   ]
  },
  {
   "cell_type": "code",
   "execution_count": 29,
   "metadata": {},
   "outputs": [],
   "source": [
    "def df_split(df, gap_size = 15):\n",
    "    \"\"\" aim: remove large gaps, gapi_size is the threshold value\n",
    "        returns: splitted df / or just numbered (add column)\n",
    "    \"\"\"\n",
    "    # usable for the function above\n",
    "    _, splits = df_gap(df)\n",
    "    na_starts = splits[::2]\n",
    "    dfs = []\n",
    "    for i, row in enumerate(splits[:-1]):\n",
    "        dfs.append(df.loc[row:splits[i+1]])\n",
    "        #print(df.loc[splits[i]:splits[i+1]])\n",
    "        #print(len(df.loc[splits[i]:splits[i+1]]))\n",
    "        #print(row)\n",
    "        #     df['R'] == i\n",
    "    \n",
    "    # for i in range(1, len(splits), 2):\n",
    "    #     print(\"{}: {}\".format(splits[i-1], splits[i]-splits[i-1]))\n",
    "    # return splits\n",
    "\n",
    "    return dfs[::2]\n",
    "    #print(splits)\n",
    "    #return df.loc[splits[1]]\n",
    "    #return (len(splits))\n",
    "    "
   ]
  },
  {
   "cell_type": "code",
   "execution_count": 30,
   "metadata": {},
   "outputs": [
    {
     "name": "stdout",
     "output_type": "stream",
     "text": [
      "Processing file :  ../files/utf8_2/Ball_on_Bar_-_Child_-_RIGHT_-_10_21.csv\n",
      "Trials:  1\n",
      "Trial 0 , NaNs gaps detected \n",
      "[534, 48, 48, 47, 48, 140, 11, 15, 125, 49, 75, 68, 1050, 11, 121, 7, 17, 11, 858, 5, 4, 1121, 69, 219, 12, 3, 7, 9, 17, 73, 15, 7, 1, 50, 69, 69, 190, 69, 69, 69, 69, 69, 68, 140, 15, 13, 2, 1059, 140, 211, 69, 69, 290, 69, 69, 69, 1369, 69, 140, 1107, 674, 190, 153, 3, 3, 1, 329, 1, 13, 9, 319, 7, 182, 154, 149, 91, 149, 69, 65, 60, 23, 6, 22, 509, 161, 11, 33, 229, 983, 1018, 211, 69, 140, 69, 69, 390, 11, 573, 1246, 332, 11, 165, 410, 11, 125, 25, 445, 50, 85, 462, 705, 495, 140, 69, 69, 140, 140, 11, 215, 37, 243, 29, 239, 31, 9, 47, 155, 95, 57, 57, 1, 39, 1, 49, 147, 45, 1, 153, 289, 113, 252, 11, 83, 7, 1, 1, 1, 101, 72, 314, 22, 18, 16, 1400, 11, 136, 91, 11, 11, 3, 23, 197, 1, 50, 15, 50, 11, 185, 300, 48, 98, 148, 269, 69, 198, 48, 48, 48, 48, 48, 48, 48, 48, 48, 48, 48, 86] [0, 536, 586, 636, 686, 736, 878, 902, 980, 1112, 1955, 2037, 2823, 3875, 4541, 4665, 4677, 4709, 5512, 6377, 6388, 6398, 7521, 7592, 7813, 8306, 8312, 8324, 8344, 8366, 8444, 8462, 8472, 8506, 8558, 8629, 8700, 8892, 8963, 9034, 9105, 9176, 9247, 9318, 9460, 9478, 10118, 10126, 11187, 11329, 11542, 11613, 11684, 11976, 12047, 12118, 12189, 13560, 13631, 13773, 14882, 15558, 15750, 15934, 15944, 15954, 16228, 16564, 16572, 16594, 16622, 16954, 18367, 18691, 21437, 21591, 23728, 23884, 26631, 26701, 26767, 26794, 26805, 27531, 28469, 28669, 28687, 29397, 30025, 31624, 32644, 32857, 32928, 33070, 33141, 33212, 33604, 34100, 34863, 36111, 36445, 36459, 36631, 37043, 37339, 37495, 37523, 38127, 38179, 38970, 39942, 40649, 41146, 41288, 41359, 41430, 41572, 41714, 42918, 43140, 45323, 45577, 48928, 50248, 50286, 50310, 50818, 50980, 51080, 53047, 53111, 53541, 54183, 54191, 55191, 55345, 55585, 55589, 56105, 57362, 58358, 58612, 59058, 59278, 59292, 59816, 59824, 59832, 60025, 60103, 60423, 60451, 60585, 60607, 62009, 64596, 65358, 65456, 65472, 65486, 65494, 65662, 65864, 66000, 66052, 66594, 66646, 66712, 68753, 69055, 69105, 69205, 69355, 69626, 69697, 69897, 69947, 69997, 70047, 70097, 70147, 70197, 70247, 70297, 70347, 70397, 70447]\n"
     ]
    }
   ],
   "source": [
    "DIR = \"../files/utf8_2/\"\n",
    "FILES = []\n",
    "for root, dir, files in os.walk(DIR, topdown=False):\n",
    "    for file in sorted(files):\n",
    "        FILES.append(os.path.join(root, file))\n",
    "\n",
    "# Median filter window sizes to test\n",
    "FILTERS = [7]#, 150, 500]\n",
    "\n",
    "for f in FILES[:1]:\n",
    "    print(\"Processing file : \", f)\n",
    "    dfs = extract_dataframes(f, set=2)\n",
    "    print(\"Trials: \", len(dfs))\n",
    "    for i in range(len(dfs)):\n",
    "        print(\"Trial {} , NaNs gaps detected \".format(i))\n",
    "        nummed_df = df_split(dfs[i])"
   ]
  },
  {
   "cell_type": "code",
   "execution_count": 36,
   "metadata": {},
   "outputs": [
    {
     "data": {
      "text/plain": [
       "array([ 535,   49,   49,   48,   49,  141,   12,   16,  126,   50,   76,\n",
       "         69, 1051,   12,  122,    8,   18,   12,  859,    6,    5, 1122,\n",
       "         70,  220,   13,    4,    8,   10,   18,   74,   16,    8,    2,\n",
       "         51,   70,   70,  191,   70,   70,   70,   70,   70,   69,  141,\n",
       "         16,   14,    3, 1060,  141,  212,   70,   70,  291,   70,   70,\n",
       "         70, 1370,   70,  141, 1108,  675,  191,  154,    4,    4,    2,\n",
       "        330,    2,   14,   10,  320,    8,  183,  155,  150,   92,  150,\n",
       "         70,   66,   61,   24,    7,   23,  510,  162,   12,   34,  230,\n",
       "        984, 1019,  212,   70,  141,   70,   70,  391,   12,  574, 1247,\n",
       "        333,   12,  166,  411,   12,  126,   26,  446,   51,   86,  463,\n",
       "        706,  496,  141,   70,   70,  141,  141,   12,  216,   38,  244,\n",
       "         30,  240,   32,   10,   48,  156,   96,   58,   58,    2,   40,\n",
       "          2,   50,  148,   46,    2,  154,  290,  114,  253,   12,   84,\n",
       "          8,    2,    2,    2,  102,   73,  315,   23,   19,   17, 1401,\n",
       "         12,  137,   92,   12,   12,    4,   24,  198,    2,   51,   16,\n",
       "         51,   12,  186,  301,   49,   99,  149,  270,   70,  199,   49,\n",
       "         49,   49,   49,   49,   49,   49,   49,   49,   49,   49,   87])"
      ]
     },
     "execution_count": 36,
     "metadata": {},
     "output_type": "execute_result"
    }
   ],
   "source": [
    "np.array([len(i) for i in nummed_df])"
   ]
  },
  {
   "cell_type": "code",
   "execution_count": 27,
   "metadata": {},
   "outputs": [
    {
     "name": "stdout",
     "output_type": "stream",
     "text": [
      "Processing file :  ../files/utf8_2/Visually_Guided_Reaching_-_Child__4_target_-_LEFT_-_10_07.csv\n",
      "Trials:  9\n"
     ]
    },
    {
     "name": "stderr",
     "output_type": "stream",
     "text": [
      "/opt/anaconda3/lib/python3.8/site-packages/numpy/core/fromnumeric.py:3474: RuntimeWarning: Mean of empty slice.\n",
      "  return _methods._mean(a, axis=axis, dtype=dtype,\n",
      "/opt/anaconda3/lib/python3.8/site-packages/numpy/core/_methods.py:189: RuntimeWarning: invalid value encountered in double_scalars\n",
      "  ret = ret.dtype.type(ret / rcount)\n",
      "/opt/anaconda3/lib/python3.8/site-packages/numpy/core/_methods.py:264: RuntimeWarning: Degrees of freedom <= 0 for slice\n",
      "  ret = _var(a, axis=axis, dtype=dtype, out=out, ddof=ddof,\n",
      "/opt/anaconda3/lib/python3.8/site-packages/numpy/core/_methods.py:222: RuntimeWarning: invalid value encountered in true_divide\n",
      "  arrmean = um.true_divide(arrmean, div, out=arrmean, casting='unsafe',\n",
      "/opt/anaconda3/lib/python3.8/site-packages/numpy/core/_methods.py:256: RuntimeWarning: invalid value encountered in double_scalars\n",
      "  ret = ret.dtype.type(ret / rcount)\n",
      "/opt/anaconda3/lib/python3.8/site-packages/numpy/lib/nanfunctions.py:1216: RuntimeWarning: Mean of empty slice\n",
      "  return np.nanmean(a, axis, out=out, keepdims=keepdims)\n",
      "/opt/anaconda3/lib/python3.8/site-packages/numpy/lib/nanfunctions.py:1218: RuntimeWarning: All-NaN slice encountered\n",
      "  r, k = function_base._ureduce(a, func=_nanmedian, axis=axis, out=out,\n"
     ]
    },
    {
     "name": "stdout",
     "output_type": "stream",
     "text": [
      "\n",
      "NaNs gaps detected : \n",
      "[0, 280, 2475, 2488, 3105, 3352]\n",
      "\n",
      "NaNs gaps detected : \n",
      "[0, 35, 52, 53, 1615, 1908, 1915, 1924, 2685, 3002, 3009, 3020, 3033, 3036, 5258, 5401, 5882, 6039, 7184, 7185]\n"
     ]
    },
    {
     "ename": "KeyboardInterrupt",
     "evalue": "",
     "output_type": "error",
     "traceback": [
      "\u001b[0;31m---------------------------------------------------------------------------\u001b[0m",
      "\u001b[0;31mKeyboardInterrupt\u001b[0m                         Traceback (most recent call last)",
      "\u001b[0;32m/var/folders/pj/_64wh_0d44z5f2y6mk2zml0w0000gn/T/ipykernel_28044/1340996853.py\u001b[0m in \u001b[0;36m<module>\u001b[0;34m\u001b[0m\n\u001b[1;32m     15\u001b[0m     \u001b[0mprint\u001b[0m\u001b[0;34m(\u001b[0m\u001b[0;34m\"Processing file : \"\u001b[0m\u001b[0;34m,\u001b[0m \u001b[0mf\u001b[0m\u001b[0;34m)\u001b[0m\u001b[0;34m,\u001b[0m \u001b[0mprint\u001b[0m\u001b[0;34m(\u001b[0m\u001b[0;34m\"Trials: \"\u001b[0m\u001b[0;34m,\u001b[0m \u001b[0mlen\u001b[0m\u001b[0;34m(\u001b[0m\u001b[0mdfs\u001b[0m\u001b[0;34m)\u001b[0m\u001b[0;34m)\u001b[0m\u001b[0;34m\u001b[0m\u001b[0;34m\u001b[0m\u001b[0m\n\u001b[1;32m     16\u001b[0m     \u001b[0;32mfor\u001b[0m \u001b[0mi\u001b[0m \u001b[0;32min\u001b[0m \u001b[0mrange\u001b[0m\u001b[0;34m(\u001b[0m\u001b[0mlen\u001b[0m\u001b[0;34m(\u001b[0m\u001b[0mdfs\u001b[0m\u001b[0;34m)\u001b[0m\u001b[0;34m)\u001b[0m\u001b[0;34m:\u001b[0m\u001b[0;34m\u001b[0m\u001b[0;34m\u001b[0m\u001b[0m\n\u001b[0;32m---> 17\u001b[0;31m         \u001b[0mtrial\u001b[0m \u001b[0;34m=\u001b[0m \u001b[0mTrial\u001b[0m\u001b[0;34m(\u001b[0m\u001b[0mdfs\u001b[0m\u001b[0;34m[\u001b[0m\u001b[0mi\u001b[0m\u001b[0;34m]\u001b[0m\u001b[0;34m,\u001b[0m \u001b[0mfilename\u001b[0m\u001b[0;34m,\u001b[0m \u001b[0mFILTERS\u001b[0m\u001b[0;34m[\u001b[0m\u001b[0;36m0\u001b[0m\u001b[0;34m]\u001b[0m\u001b[0;34m)\u001b[0m\u001b[0;34m\u001b[0m\u001b[0;34m\u001b[0m\u001b[0m\n\u001b[0m\u001b[1;32m     18\u001b[0m         \u001b[0mprint\u001b[0m\u001b[0;34m(\u001b[0m\u001b[0;34m'NaNs gaps detected : '\u001b[0m\u001b[0;34m)\u001b[0m\u001b[0;34m\u001b[0m\u001b[0;34m\u001b[0m\u001b[0m\n\u001b[1;32m     19\u001b[0m         \u001b[0;31m#print(df_gap(dfs[i]))\u001b[0m\u001b[0;34m\u001b[0m\u001b[0;34m\u001b[0m\u001b[0;34m\u001b[0m\u001b[0m\n",
      "\u001b[0;32m~/Documents/GitHub/gaze-kuleuven/code/csv_load.py\u001b[0m in \u001b[0;36m__init__\u001b[0;34m(self, df, name, filter)\u001b[0m\n\u001b[1;32m     27\u001b[0m         \u001b[0mself\u001b[0m\u001b[0;34m.\u001b[0m\u001b[0mevent_list\u001b[0m \u001b[0;34m=\u001b[0m \u001b[0mEvents\u001b[0m\u001b[0;34m(\u001b[0m\u001b[0mdf\u001b[0m\u001b[0;34m)\u001b[0m\u001b[0;34m.\u001b[0m\u001b[0mevent_list\u001b[0m\u001b[0;34m\u001b[0m\u001b[0;34m\u001b[0m\u001b[0m\n\u001b[1;32m     28\u001b[0m \u001b[0;34m\u001b[0m\u001b[0m\n\u001b[0;32m---> 29\u001b[0;31m         \u001b[0mself\u001b[0m\u001b[0;34m.\u001b[0m\u001b[0mkinematics\u001b[0m \u001b[0;34m=\u001b[0m \u001b[0mKinematics\u001b[0m\u001b[0;34m(\u001b[0m\u001b[0mdf\u001b[0m\u001b[0;34m,\u001b[0m \u001b[0mfilter\u001b[0m\u001b[0;34m)\u001b[0m\u001b[0;34m.\u001b[0m\u001b[0mvalues\u001b[0m\u001b[0;34m\u001b[0m\u001b[0;34m\u001b[0m\u001b[0m\n\u001b[0m\u001b[1;32m     30\u001b[0m         \u001b[0;31m#self.plot = self.plots()\u001b[0m\u001b[0;34m\u001b[0m\u001b[0;34m\u001b[0m\u001b[0;34m\u001b[0m\u001b[0m\n\u001b[1;32m     31\u001b[0m \u001b[0;34m\u001b[0m\u001b[0m\n",
      "\u001b[0;32m~/Documents/GitHub/gaze-kuleuven/code/csv_load.py\u001b[0m in \u001b[0;36m__init__\u001b[0;34m(self, df, filter)\u001b[0m\n\u001b[1;32m     84\u001b[0m         \u001b[0mself\u001b[0m\u001b[0;34m.\u001b[0m\u001b[0mvalues\u001b[0m\u001b[0;34m[\u001b[0m\u001b[0;34m'gaze_y'\u001b[0m\u001b[0;34m]\u001b[0m \u001b[0;34m=\u001b[0m \u001b[0;34m[\u001b[0m\u001b[0mfloat\u001b[0m\u001b[0;34m(\u001b[0m\u001b[0mi\u001b[0m\u001b[0;34m)\u001b[0m \u001b[0;32mfor\u001b[0m \u001b[0mi\u001b[0m \u001b[0;32min\u001b[0m \u001b[0mdf\u001b[0m\u001b[0;34m[\u001b[0m\u001b[0;34m'Gaze_Y'\u001b[0m\u001b[0;34m]\u001b[0m\u001b[0;34m]\u001b[0m\u001b[0;34m\u001b[0m\u001b[0;34m\u001b[0m\u001b[0m\n\u001b[1;32m     85\u001b[0m         \u001b[0mself\u001b[0m\u001b[0;34m.\u001b[0m\u001b[0mvalues\u001b[0m\u001b[0;34m[\u001b[0m\u001b[0;34m'filtered_x'\u001b[0m\u001b[0;34m]\u001b[0m\u001b[0;34m,\u001b[0m \u001b[0m_\u001b[0m \u001b[0;34m=\u001b[0m \u001b[0mmedfilt\u001b[0m\u001b[0;34m(\u001b[0m\u001b[0mdf\u001b[0m\u001b[0;34m,\u001b[0m \u001b[0mfilter\u001b[0m\u001b[0;34m)\u001b[0m\u001b[0;34m\u001b[0m\u001b[0;34m\u001b[0m\u001b[0m\n\u001b[0;32m---> 86\u001b[0;31m         \u001b[0m_\u001b[0m\u001b[0;34m,\u001b[0m \u001b[0mself\u001b[0m\u001b[0;34m.\u001b[0m\u001b[0mvalues\u001b[0m\u001b[0;34m[\u001b[0m\u001b[0;34m'filtered_y'\u001b[0m\u001b[0;34m]\u001b[0m \u001b[0;34m=\u001b[0m \u001b[0mmedfilt\u001b[0m\u001b[0;34m(\u001b[0m\u001b[0mdf\u001b[0m\u001b[0;34m,\u001b[0m \u001b[0mfilter\u001b[0m\u001b[0;34m)\u001b[0m\u001b[0;34m\u001b[0m\u001b[0;34m\u001b[0m\u001b[0m\n\u001b[0m\u001b[1;32m     87\u001b[0m         \u001b[0mself\u001b[0m\u001b[0;34m.\u001b[0m\u001b[0mvalues\u001b[0m\u001b[0;34m[\u001b[0m\u001b[0;34m'right_x'\u001b[0m\u001b[0;34m]\u001b[0m \u001b[0;34m=\u001b[0m \u001b[0mlist\u001b[0m\u001b[0;34m(\u001b[0m\u001b[0mdf\u001b[0m\u001b[0;34m[\u001b[0m\u001b[0;34m'Right: Hand position X'\u001b[0m\u001b[0;34m]\u001b[0m\u001b[0;34m)\u001b[0m\u001b[0;34m\u001b[0m\u001b[0;34m\u001b[0m\u001b[0m\n\u001b[1;32m     88\u001b[0m         \u001b[0mself\u001b[0m\u001b[0;34m.\u001b[0m\u001b[0mvalues\u001b[0m\u001b[0;34m[\u001b[0m\u001b[0;34m'right_y'\u001b[0m\u001b[0;34m]\u001b[0m \u001b[0;34m=\u001b[0m \u001b[0mlist\u001b[0m\u001b[0;34m(\u001b[0m\u001b[0mdf\u001b[0m\u001b[0;34m[\u001b[0m\u001b[0;34m'Right: Hand position Y'\u001b[0m\u001b[0;34m]\u001b[0m\u001b[0;34m)\u001b[0m\u001b[0;34m\u001b[0m\u001b[0;34m\u001b[0m\u001b[0m\n",
      "\u001b[0;32m~/Documents/GitHub/gaze-kuleuven/code/csv_load.py\u001b[0m in \u001b[0;36mmedfilt\u001b[0;34m(df, f)\u001b[0m\n\u001b[1;32m    142\u001b[0m             \u001b[0;32mfor\u001b[0m \u001b[0mi\u001b[0m \u001b[0;32min\u001b[0m \u001b[0mrange\u001b[0m\u001b[0;34m(\u001b[0m\u001b[0mlen\u001b[0m\u001b[0;34m(\u001b[0m\u001b[0mdf\u001b[0m\u001b[0;34m)\u001b[0m\u001b[0;34m)\u001b[0m\u001b[0;34m:\u001b[0m\u001b[0;34m\u001b[0m\u001b[0;34m\u001b[0m\u001b[0m\n\u001b[1;32m    143\u001b[0m                 \u001b[0marrx\u001b[0m\u001b[0;34m.\u001b[0m\u001b[0mappend\u001b[0m\u001b[0;34m(\u001b[0m\u001b[0mnp\u001b[0m\u001b[0;34m.\u001b[0m\u001b[0mnanmedian\u001b[0m\u001b[0;34m(\u001b[0m\u001b[0mdf\u001b[0m\u001b[0;34m[\u001b[0m\u001b[0;34m'Gaze_X'\u001b[0m\u001b[0;34m]\u001b[0m\u001b[0;34m[\u001b[0m\u001b[0mi\u001b[0m\u001b[0;34m-\u001b[0m\u001b[0mf\u001b[0m\u001b[0;34m:\u001b[0m\u001b[0mi\u001b[0m\u001b[0;34m+\u001b[0m\u001b[0mf\u001b[0m\u001b[0;34m]\u001b[0m\u001b[0;34m)\u001b[0m\u001b[0;34m)\u001b[0m\u001b[0;34m\u001b[0m\u001b[0;34m\u001b[0m\u001b[0m\n\u001b[0;32m--> 144\u001b[0;31m                 \u001b[0marry\u001b[0m\u001b[0;34m.\u001b[0m\u001b[0mappend\u001b[0m\u001b[0;34m(\u001b[0m\u001b[0mnp\u001b[0m\u001b[0;34m.\u001b[0m\u001b[0mnanmedian\u001b[0m\u001b[0;34m(\u001b[0m\u001b[0mdf\u001b[0m\u001b[0;34m[\u001b[0m\u001b[0;34m'Gaze_Y'\u001b[0m\u001b[0;34m]\u001b[0m\u001b[0;34m[\u001b[0m\u001b[0mi\u001b[0m\u001b[0;34m-\u001b[0m\u001b[0mf\u001b[0m\u001b[0;34m:\u001b[0m\u001b[0mi\u001b[0m\u001b[0;34m+\u001b[0m\u001b[0mf\u001b[0m\u001b[0;34m]\u001b[0m\u001b[0;34m)\u001b[0m\u001b[0;34m)\u001b[0m\u001b[0;34m\u001b[0m\u001b[0;34m\u001b[0m\u001b[0m\n\u001b[0m\u001b[1;32m    145\u001b[0m             \u001b[0;31m# newdf['X filter'], newdf['Y filter'] = arrx, arry\u001b[0m\u001b[0;34m\u001b[0m\u001b[0;34m\u001b[0m\u001b[0;34m\u001b[0m\u001b[0m\n\u001b[1;32m    146\u001b[0m             \u001b[0;31m# newdf['Frame time (s)'] = df['Frame time (s)']\u001b[0m\u001b[0;34m\u001b[0m\u001b[0;34m\u001b[0m\u001b[0;34m\u001b[0m\u001b[0m\n",
      "\u001b[0;32m/opt/anaconda3/lib/python3.8/site-packages/numpy/core/overrides.py\u001b[0m in \u001b[0;36mnanmedian\u001b[0;34m(*args, **kwargs)\u001b[0m\n",
      "\u001b[0;32m/opt/anaconda3/lib/python3.8/site-packages/numpy/lib/nanfunctions.py\u001b[0m in \u001b[0;36mnanmedian\u001b[0;34m(a, axis, out, overwrite_input, keepdims)\u001b[0m\n\u001b[1;32m   1216\u001b[0m         \u001b[0;32mreturn\u001b[0m \u001b[0mnp\u001b[0m\u001b[0;34m.\u001b[0m\u001b[0mnanmean\u001b[0m\u001b[0;34m(\u001b[0m\u001b[0ma\u001b[0m\u001b[0;34m,\u001b[0m \u001b[0maxis\u001b[0m\u001b[0;34m,\u001b[0m \u001b[0mout\u001b[0m\u001b[0;34m=\u001b[0m\u001b[0mout\u001b[0m\u001b[0;34m,\u001b[0m \u001b[0mkeepdims\u001b[0m\u001b[0;34m=\u001b[0m\u001b[0mkeepdims\u001b[0m\u001b[0;34m)\u001b[0m\u001b[0;34m\u001b[0m\u001b[0;34m\u001b[0m\u001b[0m\n\u001b[1;32m   1217\u001b[0m \u001b[0;34m\u001b[0m\u001b[0m\n\u001b[0;32m-> 1218\u001b[0;31m     r, k = function_base._ureduce(a, func=_nanmedian, axis=axis, out=out,\n\u001b[0m\u001b[1;32m   1219\u001b[0m                                   overwrite_input=overwrite_input)\n\u001b[1;32m   1220\u001b[0m     \u001b[0;32mif\u001b[0m \u001b[0mkeepdims\u001b[0m \u001b[0;32mand\u001b[0m \u001b[0mkeepdims\u001b[0m \u001b[0;32mis\u001b[0m \u001b[0;32mnot\u001b[0m \u001b[0mnp\u001b[0m\u001b[0;34m.\u001b[0m\u001b[0m_NoValue\u001b[0m\u001b[0;34m:\u001b[0m\u001b[0;34m\u001b[0m\u001b[0;34m\u001b[0m\u001b[0m\n",
      "\u001b[0;32m/opt/anaconda3/lib/python3.8/site-packages/numpy/lib/function_base.py\u001b[0m in \u001b[0;36m_ureduce\u001b[0;34m(a, func, **kwargs)\u001b[0m\n\u001b[1;32m   3700\u001b[0m         \u001b[0mkeepdim\u001b[0m \u001b[0;34m=\u001b[0m \u001b[0;34m(\u001b[0m\u001b[0;36m1\u001b[0m\u001b[0;34m,\u001b[0m\u001b[0;34m)\u001b[0m \u001b[0;34m*\u001b[0m \u001b[0ma\u001b[0m\u001b[0;34m.\u001b[0m\u001b[0mndim\u001b[0m\u001b[0;34m\u001b[0m\u001b[0;34m\u001b[0m\u001b[0m\n\u001b[1;32m   3701\u001b[0m \u001b[0;34m\u001b[0m\u001b[0m\n\u001b[0;32m-> 3702\u001b[0;31m     \u001b[0mr\u001b[0m \u001b[0;34m=\u001b[0m \u001b[0mfunc\u001b[0m\u001b[0;34m(\u001b[0m\u001b[0ma\u001b[0m\u001b[0;34m,\u001b[0m \u001b[0;34m**\u001b[0m\u001b[0mkwargs\u001b[0m\u001b[0;34m)\u001b[0m\u001b[0;34m\u001b[0m\u001b[0;34m\u001b[0m\u001b[0m\n\u001b[0m\u001b[1;32m   3703\u001b[0m     \u001b[0;32mreturn\u001b[0m \u001b[0mr\u001b[0m\u001b[0;34m,\u001b[0m \u001b[0mkeepdim\u001b[0m\u001b[0;34m\u001b[0m\u001b[0;34m\u001b[0m\u001b[0m\n\u001b[1;32m   3704\u001b[0m \u001b[0;34m\u001b[0m\u001b[0m\n",
      "\u001b[0;32m/opt/anaconda3/lib/python3.8/site-packages/numpy/lib/nanfunctions.py\u001b[0m in \u001b[0;36m_nanmedian\u001b[0;34m(a, axis, out, overwrite_input)\u001b[0m\n\u001b[1;32m   1084\u001b[0m         \u001b[0mpart\u001b[0m \u001b[0;34m=\u001b[0m \u001b[0ma\u001b[0m\u001b[0;34m.\u001b[0m\u001b[0mravel\u001b[0m\u001b[0;34m(\u001b[0m\u001b[0;34m)\u001b[0m\u001b[0;34m\u001b[0m\u001b[0;34m\u001b[0m\u001b[0m\n\u001b[1;32m   1085\u001b[0m         \u001b[0;32mif\u001b[0m \u001b[0mout\u001b[0m \u001b[0;32mis\u001b[0m \u001b[0;32mNone\u001b[0m\u001b[0;34m:\u001b[0m\u001b[0;34m\u001b[0m\u001b[0;34m\u001b[0m\u001b[0m\n\u001b[0;32m-> 1086\u001b[0;31m             \u001b[0;32mreturn\u001b[0m \u001b[0m_nanmedian1d\u001b[0m\u001b[0;34m(\u001b[0m\u001b[0mpart\u001b[0m\u001b[0;34m,\u001b[0m \u001b[0moverwrite_input\u001b[0m\u001b[0;34m)\u001b[0m\u001b[0;34m\u001b[0m\u001b[0;34m\u001b[0m\u001b[0m\n\u001b[0m\u001b[1;32m   1087\u001b[0m         \u001b[0;32melse\u001b[0m\u001b[0;34m:\u001b[0m\u001b[0;34m\u001b[0m\u001b[0;34m\u001b[0m\u001b[0m\n\u001b[1;32m   1088\u001b[0m             \u001b[0mout\u001b[0m\u001b[0;34m[\u001b[0m\u001b[0;34m...\u001b[0m\u001b[0;34m]\u001b[0m \u001b[0;34m=\u001b[0m \u001b[0m_nanmedian1d\u001b[0m\u001b[0;34m(\u001b[0m\u001b[0mpart\u001b[0m\u001b[0;34m,\u001b[0m \u001b[0moverwrite_input\u001b[0m\u001b[0;34m)\u001b[0m\u001b[0;34m\u001b[0m\u001b[0;34m\u001b[0m\u001b[0m\n",
      "\u001b[0;32m/opt/anaconda3/lib/python3.8/site-packages/numpy/lib/nanfunctions.py\u001b[0m in \u001b[0;36m_nanmedian1d\u001b[0;34m(arr1d, overwrite_input)\u001b[0m\n\u001b[1;32m   1071\u001b[0m         \u001b[0;32mreturn\u001b[0m \u001b[0marr1d\u001b[0m\u001b[0;34m[\u001b[0m\u001b[0;34m-\u001b[0m\u001b[0;36m1\u001b[0m\u001b[0;34m]\u001b[0m\u001b[0;34m\u001b[0m\u001b[0;34m\u001b[0m\u001b[0m\n\u001b[1;32m   1072\u001b[0m \u001b[0;34m\u001b[0m\u001b[0m\n\u001b[0;32m-> 1073\u001b[0;31m     \u001b[0;32mreturn\u001b[0m \u001b[0mnp\u001b[0m\u001b[0;34m.\u001b[0m\u001b[0mmedian\u001b[0m\u001b[0;34m(\u001b[0m\u001b[0marr1d_parsed\u001b[0m\u001b[0;34m,\u001b[0m \u001b[0moverwrite_input\u001b[0m\u001b[0;34m=\u001b[0m\u001b[0moverwrite_input\u001b[0m\u001b[0;34m)\u001b[0m\u001b[0;34m\u001b[0m\u001b[0;34m\u001b[0m\u001b[0m\n\u001b[0m\u001b[1;32m   1074\u001b[0m \u001b[0;34m\u001b[0m\u001b[0m\n\u001b[1;32m   1075\u001b[0m \u001b[0;34m\u001b[0m\u001b[0m\n",
      "\u001b[0;32m/opt/anaconda3/lib/python3.8/site-packages/numpy/core/overrides.py\u001b[0m in \u001b[0;36mmedian\u001b[0;34m(*args, **kwargs)\u001b[0m\n",
      "\u001b[0;32m/opt/anaconda3/lib/python3.8/site-packages/numpy/lib/function_base.py\u001b[0m in \u001b[0;36mmedian\u001b[0;34m(a, axis, out, overwrite_input, keepdims)\u001b[0m\n\u001b[1;32m   3791\u001b[0m \u001b[0;34m\u001b[0m\u001b[0m\n\u001b[1;32m   3792\u001b[0m     \"\"\"\n\u001b[0;32m-> 3793\u001b[0;31m     r, k = _ureduce(a, func=_median, axis=axis, out=out,\n\u001b[0m\u001b[1;32m   3794\u001b[0m                     overwrite_input=overwrite_input)\n\u001b[1;32m   3795\u001b[0m     \u001b[0;32mif\u001b[0m \u001b[0mkeepdims\u001b[0m\u001b[0;34m:\u001b[0m\u001b[0;34m\u001b[0m\u001b[0;34m\u001b[0m\u001b[0m\n",
      "\u001b[0;32m/opt/anaconda3/lib/python3.8/site-packages/numpy/lib/function_base.py\u001b[0m in \u001b[0;36m_ureduce\u001b[0;34m(a, func, **kwargs)\u001b[0m\n\u001b[1;32m   3700\u001b[0m         \u001b[0mkeepdim\u001b[0m \u001b[0;34m=\u001b[0m \u001b[0;34m(\u001b[0m\u001b[0;36m1\u001b[0m\u001b[0;34m,\u001b[0m\u001b[0;34m)\u001b[0m \u001b[0;34m*\u001b[0m \u001b[0ma\u001b[0m\u001b[0;34m.\u001b[0m\u001b[0mndim\u001b[0m\u001b[0;34m\u001b[0m\u001b[0;34m\u001b[0m\u001b[0m\n\u001b[1;32m   3701\u001b[0m \u001b[0;34m\u001b[0m\u001b[0m\n\u001b[0;32m-> 3702\u001b[0;31m     \u001b[0mr\u001b[0m \u001b[0;34m=\u001b[0m \u001b[0mfunc\u001b[0m\u001b[0;34m(\u001b[0m\u001b[0ma\u001b[0m\u001b[0;34m,\u001b[0m \u001b[0;34m**\u001b[0m\u001b[0mkwargs\u001b[0m\u001b[0;34m)\u001b[0m\u001b[0;34m\u001b[0m\u001b[0;34m\u001b[0m\u001b[0m\n\u001b[0m\u001b[1;32m   3703\u001b[0m     \u001b[0;32mreturn\u001b[0m \u001b[0mr\u001b[0m\u001b[0;34m,\u001b[0m \u001b[0mkeepdim\u001b[0m\u001b[0;34m\u001b[0m\u001b[0;34m\u001b[0m\u001b[0m\n\u001b[1;32m   3704\u001b[0m \u001b[0;34m\u001b[0m\u001b[0m\n",
      "\u001b[0;32m/opt/anaconda3/lib/python3.8/site-packages/numpy/lib/function_base.py\u001b[0m in \u001b[0;36m_median\u001b[0;34m(a, axis, out, overwrite_input)\u001b[0m\n\u001b[1;32m   3845\u001b[0m     \u001b[0;31m# Use mean in both odd and even case to coerce data type,\u001b[0m\u001b[0;34m\u001b[0m\u001b[0;34m\u001b[0m\u001b[0;34m\u001b[0m\u001b[0m\n\u001b[1;32m   3846\u001b[0m     \u001b[0;31m# using out array if needed.\u001b[0m\u001b[0;34m\u001b[0m\u001b[0;34m\u001b[0m\u001b[0;34m\u001b[0m\u001b[0m\n\u001b[0;32m-> 3847\u001b[0;31m     \u001b[0mrout\u001b[0m \u001b[0;34m=\u001b[0m \u001b[0mmean\u001b[0m\u001b[0;34m(\u001b[0m\u001b[0mpart\u001b[0m\u001b[0;34m[\u001b[0m\u001b[0mindexer\u001b[0m\u001b[0;34m]\u001b[0m\u001b[0;34m,\u001b[0m \u001b[0maxis\u001b[0m\u001b[0;34m=\u001b[0m\u001b[0maxis\u001b[0m\u001b[0;34m,\u001b[0m \u001b[0mout\u001b[0m\u001b[0;34m=\u001b[0m\u001b[0mout\u001b[0m\u001b[0;34m)\u001b[0m\u001b[0;34m\u001b[0m\u001b[0;34m\u001b[0m\u001b[0m\n\u001b[0m\u001b[1;32m   3848\u001b[0m     \u001b[0;31m# Check if the array contains any nan's\u001b[0m\u001b[0;34m\u001b[0m\u001b[0;34m\u001b[0m\u001b[0;34m\u001b[0m\u001b[0m\n\u001b[1;32m   3849\u001b[0m     \u001b[0;32mif\u001b[0m \u001b[0mnp\u001b[0m\u001b[0;34m.\u001b[0m\u001b[0missubdtype\u001b[0m\u001b[0;34m(\u001b[0m\u001b[0ma\u001b[0m\u001b[0;34m.\u001b[0m\u001b[0mdtype\u001b[0m\u001b[0;34m,\u001b[0m \u001b[0mnp\u001b[0m\u001b[0;34m.\u001b[0m\u001b[0minexact\u001b[0m\u001b[0;34m)\u001b[0m \u001b[0;32mand\u001b[0m \u001b[0msz\u001b[0m \u001b[0;34m>\u001b[0m \u001b[0;36m0\u001b[0m\u001b[0;34m:\u001b[0m\u001b[0;34m\u001b[0m\u001b[0;34m\u001b[0m\u001b[0m\n",
      "\u001b[0;32m/opt/anaconda3/lib/python3.8/site-packages/numpy/core/overrides.py\u001b[0m in \u001b[0;36mmean\u001b[0;34m(*args, **kwargs)\u001b[0m\n",
      "\u001b[0;32m/opt/anaconda3/lib/python3.8/site-packages/numpy/core/fromnumeric.py\u001b[0m in \u001b[0;36mmean\u001b[0;34m(a, axis, dtype, out, keepdims, where)\u001b[0m\n\u001b[1;32m   3472\u001b[0m             \u001b[0;32mreturn\u001b[0m \u001b[0mmean\u001b[0m\u001b[0;34m(\u001b[0m\u001b[0maxis\u001b[0m\u001b[0;34m=\u001b[0m\u001b[0maxis\u001b[0m\u001b[0;34m,\u001b[0m \u001b[0mdtype\u001b[0m\u001b[0;34m=\u001b[0m\u001b[0mdtype\u001b[0m\u001b[0;34m,\u001b[0m \u001b[0mout\u001b[0m\u001b[0;34m=\u001b[0m\u001b[0mout\u001b[0m\u001b[0;34m,\u001b[0m \u001b[0;34m**\u001b[0m\u001b[0mkwargs\u001b[0m\u001b[0;34m)\u001b[0m\u001b[0;34m\u001b[0m\u001b[0;34m\u001b[0m\u001b[0m\n\u001b[1;32m   3473\u001b[0m \u001b[0;34m\u001b[0m\u001b[0m\n\u001b[0;32m-> 3474\u001b[0;31m     return _methods._mean(a, axis=axis, dtype=dtype,\n\u001b[0m\u001b[1;32m   3475\u001b[0m                           out=out, **kwargs)\n\u001b[1;32m   3476\u001b[0m \u001b[0;34m\u001b[0m\u001b[0m\n",
      "\u001b[0;32m/opt/anaconda3/lib/python3.8/site-packages/numpy/core/_methods.py\u001b[0m in \u001b[0;36m_mean\u001b[0;34m(a, axis, dtype, out, keepdims, where)\u001b[0m\n\u001b[1;32m    177\u001b[0m             \u001b[0mis_float16_result\u001b[0m \u001b[0;34m=\u001b[0m \u001b[0;32mTrue\u001b[0m\u001b[0;34m\u001b[0m\u001b[0;34m\u001b[0m\u001b[0m\n\u001b[1;32m    178\u001b[0m \u001b[0;34m\u001b[0m\u001b[0m\n\u001b[0;32m--> 179\u001b[0;31m     \u001b[0mret\u001b[0m \u001b[0;34m=\u001b[0m \u001b[0mumr_sum\u001b[0m\u001b[0;34m(\u001b[0m\u001b[0marr\u001b[0m\u001b[0;34m,\u001b[0m \u001b[0maxis\u001b[0m\u001b[0;34m,\u001b[0m \u001b[0mdtype\u001b[0m\u001b[0;34m,\u001b[0m \u001b[0mout\u001b[0m\u001b[0;34m,\u001b[0m \u001b[0mkeepdims\u001b[0m\u001b[0;34m,\u001b[0m \u001b[0mwhere\u001b[0m\u001b[0;34m=\u001b[0m\u001b[0mwhere\u001b[0m\u001b[0;34m)\u001b[0m\u001b[0;34m\u001b[0m\u001b[0;34m\u001b[0m\u001b[0m\n\u001b[0m\u001b[1;32m    180\u001b[0m     \u001b[0;32mif\u001b[0m \u001b[0misinstance\u001b[0m\u001b[0;34m(\u001b[0m\u001b[0mret\u001b[0m\u001b[0;34m,\u001b[0m \u001b[0mmu\u001b[0m\u001b[0;34m.\u001b[0m\u001b[0mndarray\u001b[0m\u001b[0;34m)\u001b[0m\u001b[0;34m:\u001b[0m\u001b[0;34m\u001b[0m\u001b[0;34m\u001b[0m\u001b[0m\n\u001b[1;32m    181\u001b[0m         ret = um.true_divide(\n",
      "\u001b[0;31mKeyboardInterrupt\u001b[0m: "
     ]
    }
   ],
   "source": [
    "start_time = time.time()\n",
    "\n",
    "DIR = \"../files/utf8_2/\"\n",
    "FILES = []\n",
    "for root, dir, files in os.walk(DIR, topdown=False):\n",
    "    for file in sorted(files):\n",
    "        FILES.append(os.path.join(root, file))\n",
    "\n",
    "# Median filter window sizes to test\n",
    "FILTERS = [7]#, 150, 500]\n",
    "\n",
    "for f in FILES[10:11]:\n",
    "    filename = \" \" + f[16:]\n",
    "    dfs = extract_dataframes(f, set=2)\n",
    "    print(\"Processing file : \", f), print(\"Trials: \", len(dfs))\n",
    "    for i in range(len(dfs)):\n",
    "        trial = Trial(dfs[i], filename, FILTERS[0])\n",
    "        print('NaNs gaps detected : ')\n",
    "        #print(df_gap(dfs[i]))\n",
    "        print(df_split(dfs[i]))\n",
    "    #     #trial.plot_movements()\n",
    "    #     print(\"Trial {} duration : {} (s)\".format((i+1), tr£ial.duration))\n",
    "    #     anim.static_gaze_single_medfilt(trial, plot=True, save=False, filename=f[16:21]+str(7))\n",
    "    \n",
    "\n",
    "print(\"Process finished -- %s seconds --\" % round((time.time() - start_time),2))"
   ]
  },
  {
   "cell_type": "markdown",
   "metadata": {},
   "source": [
    "Further animations and plots are done with the **anim_showcase2.py** script"
   ]
  },
  {
   "cell_type": "markdown",
   "metadata": {},
   "source": [
    "## Checking for the amount of missing values"
   ]
  },
  {
   "cell_type": "code",
   "execution_count": 7,
   "metadata": {},
   "outputs": [],
   "source": [
    "file1 = \"../files/utf8_2/Visually_Guided_Reaching_-_Child__4_target_-_LEFT_-_10_06.csv\"\n",
    "file2 = \"../files/utf8_2/Visually_Guided_Reaching_-_Child__4_target_-_LEFT_-_10_07.csv\"\n",
    "dataframe1 = extract_dataframes(file1, set=2)\n",
    "dataframes2 = extract_dataframes(file2, set=2)"
   ]
  },
  {
   "cell_type": "code",
   "execution_count": 8,
   "metadata": {},
   "outputs": [
    {
     "data": {
      "text/html": [
       "<div>\n",
       "<style scoped>\n",
       "    .dataframe tbody tr th:only-of-type {\n",
       "        vertical-align: middle;\n",
       "    }\n",
       "\n",
       "    .dataframe tbody tr th {\n",
       "        vertical-align: top;\n",
       "    }\n",
       "\n",
       "    .dataframe thead th {\n",
       "        text-align: right;\n",
       "    }\n",
       "</style>\n",
       "<table border=\"1\" class=\"dataframe\">\n",
       "  <thead>\n",
       "    <tr style=\"text-align: right;\">\n",
       "      <th></th>\n",
       "      <th>Na X</th>\n",
       "      <th>Na Y</th>\n",
       "      <th>Total</th>\n",
       "      <th>Na %</th>\n",
       "    </tr>\n",
       "    <tr>\n",
       "      <th>Trial</th>\n",
       "      <th></th>\n",
       "      <th></th>\n",
       "      <th></th>\n",
       "      <th></th>\n",
       "    </tr>\n",
       "  </thead>\n",
       "  <tbody>\n",
       "    <tr>\n",
       "      <th>0</th>\n",
       "      <td>798</td>\n",
       "      <td>798</td>\n",
       "      <td>4736</td>\n",
       "      <td>16.85</td>\n",
       "    </tr>\n",
       "  </tbody>\n",
       "</table>\n",
       "</div>"
      ],
      "text/plain": [
       "       Na X  Na Y  Total   Na %\n",
       "Trial                          \n",
       "0       798   798   4736  16.85"
      ]
     },
     "execution_count": 8,
     "metadata": {},
     "output_type": "execute_result"
    }
   ],
   "source": [
    "def check_na(df):\n",
    "    trials, nax, nay, lengths, percents = [], [], [], [], []\n",
    "    for i in range(len(df)):\n",
    "        trials.append(i)\n",
    "        na_X, na_Y =  df[i]['Gaze_X'].isna().sum(), df[i]['Gaze_Y'].isna().sum()\n",
    "        nax.append(na_X), nay.append(na_Y)\n",
    "        lengths.append(len(df[i]))\n",
    "        percents.append(round(na_X / len(df[i]) * 100, 2))\n",
    "    d = {'Trial': trials, 'Na X': nax, 'Na Y': nay, 'Total': lengths ,'Na %': percents}\n",
    "    df_na = pd.DataFrame(d)\n",
    "    return df_na.set_index('Trial')\n",
    "\n",
    "df_recap = check_na(dataframe1)\n",
    "df_recap"
   ]
  },
  {
   "cell_type": "markdown",
   "metadata": {},
   "source": [
    "Mean of missing values for the file1: "
   ]
  },
  {
   "cell_type": "code",
   "execution_count": 9,
   "metadata": {},
   "outputs": [
    {
     "data": {
      "text/plain": [
       "16.85"
      ]
     },
     "execution_count": 9,
     "metadata": {},
     "output_type": "execute_result"
    }
   ],
   "source": [
    "df_recap['Na %'].mean()"
   ]
  },
  {
   "cell_type": "markdown",
   "metadata": {},
   "source": [
    "Mean of missing values for the file2:"
   ]
  },
  {
   "cell_type": "code",
   "execution_count": 10,
   "metadata": {},
   "outputs": [
    {
     "data": {
      "text/html": [
       "<div>\n",
       "<style scoped>\n",
       "    .dataframe tbody tr th:only-of-type {\n",
       "        vertical-align: middle;\n",
       "    }\n",
       "\n",
       "    .dataframe tbody tr th {\n",
       "        vertical-align: top;\n",
       "    }\n",
       "\n",
       "    .dataframe thead th {\n",
       "        text-align: right;\n",
       "    }\n",
       "</style>\n",
       "<table border=\"1\" class=\"dataframe\">\n",
       "  <thead>\n",
       "    <tr style=\"text-align: right;\">\n",
       "      <th></th>\n",
       "      <th>Na X</th>\n",
       "      <th>Na Y</th>\n",
       "      <th>Total</th>\n",
       "      <th>Na %</th>\n",
       "    </tr>\n",
       "    <tr>\n",
       "      <th>Trial</th>\n",
       "      <th></th>\n",
       "      <th></th>\n",
       "      <th></th>\n",
       "      <th></th>\n",
       "    </tr>\n",
       "  </thead>\n",
       "  <tbody>\n",
       "    <tr>\n",
       "      <th>0</th>\n",
       "      <td>543</td>\n",
       "      <td>543</td>\n",
       "      <td>3353</td>\n",
       "      <td>16.19</td>\n",
       "    </tr>\n",
       "    <tr>\n",
       "      <th>1</th>\n",
       "      <td>980</td>\n",
       "      <td>980</td>\n",
       "      <td>8414</td>\n",
       "      <td>11.65</td>\n",
       "    </tr>\n",
       "    <tr>\n",
       "      <th>2</th>\n",
       "      <td>539</td>\n",
       "      <td>539</td>\n",
       "      <td>5857</td>\n",
       "      <td>9.20</td>\n",
       "    </tr>\n",
       "    <tr>\n",
       "      <th>3</th>\n",
       "      <td>1132</td>\n",
       "      <td>1132</td>\n",
       "      <td>4838</td>\n",
       "      <td>23.40</td>\n",
       "    </tr>\n",
       "    <tr>\n",
       "      <th>4</th>\n",
       "      <td>1299</td>\n",
       "      <td>1299</td>\n",
       "      <td>8258</td>\n",
       "      <td>15.73</td>\n",
       "    </tr>\n",
       "    <tr>\n",
       "      <th>5</th>\n",
       "      <td>654</td>\n",
       "      <td>654</td>\n",
       "      <td>6666</td>\n",
       "      <td>9.81</td>\n",
       "    </tr>\n",
       "    <tr>\n",
       "      <th>6</th>\n",
       "      <td>2355</td>\n",
       "      <td>2355</td>\n",
       "      <td>8880</td>\n",
       "      <td>26.52</td>\n",
       "    </tr>\n",
       "    <tr>\n",
       "      <th>7</th>\n",
       "      <td>200</td>\n",
       "      <td>200</td>\n",
       "      <td>1269</td>\n",
       "      <td>15.76</td>\n",
       "    </tr>\n",
       "    <tr>\n",
       "      <th>8</th>\n",
       "      <td>210</td>\n",
       "      <td>210</td>\n",
       "      <td>2586</td>\n",
       "      <td>8.12</td>\n",
       "    </tr>\n",
       "  </tbody>\n",
       "</table>\n",
       "</div>"
      ],
      "text/plain": [
       "       Na X  Na Y  Total   Na %\n",
       "Trial                          \n",
       "0       543   543   3353  16.19\n",
       "1       980   980   8414  11.65\n",
       "2       539   539   5857   9.20\n",
       "3      1132  1132   4838  23.40\n",
       "4      1299  1299   8258  15.73\n",
       "5       654   654   6666   9.81\n",
       "6      2355  2355   8880  26.52\n",
       "7       200   200   1269  15.76\n",
       "8       210   210   2586   8.12"
      ]
     },
     "execution_count": 10,
     "metadata": {},
     "output_type": "execute_result"
    }
   ],
   "source": [
    "df_recap = check_na(dataframes2)\n",
    "df_recap"
   ]
  },
  {
   "cell_type": "code",
   "execution_count": 11,
   "metadata": {},
   "outputs": [
    {
     "data": {
      "text/plain": [
       "15.153333333333332"
      ]
     },
     "execution_count": 11,
     "metadata": {},
     "output_type": "execute_result"
    }
   ],
   "source": [
    "df_recap['Na %'].mean()"
   ]
  },
  {
   "cell_type": "markdown",
   "metadata": {},
   "source": [
    "These statistics and animations can be automatically computed for any CSV file (not all are present online)."
   ]
  },
  {
   "cell_type": "markdown",
   "metadata": {},
   "source": [
    "## Filling the NAs rows"
   ]
  },
  {
   "cell_type": "markdown",
   "metadata": {},
   "source": [
    "Dataframe with only gaze X,Y and Time"
   ]
  },
  {
   "cell_type": "code",
   "execution_count": 59,
   "metadata": {},
   "outputs": [
    {
     "name": "stdout",
     "output_type": "stream",
     "text": [
      "280 2475\n",
      "2488 3105\n"
     ]
    }
   ],
   "source": [
    "df1 = extract_dataframes(file2, set=2)[0]\n",
    "df = df1[['Gaze_X', 'Gaze_Y', 'Frame time (s)']]\n",
    "#for i in range (0,len(df[0]),100):\n",
    "nona_len = len(df.dropna())\n",
    "\n",
    "# Original df with the NANs : \n",
    "df\n",
    "df_sub = df.loc[df['Gaze_X'].isna() ]\n",
    "arridx = list(df_sub.index)\n",
    "for i,j in enumerate(arridx[:-1]):\n",
    "    if arridx[i]+1 != arridx[i+1]:\n",
    "        print(j, arridx[i+1])\n"
   ]
  },
  {
   "cell_type": "markdown",
   "metadata": {},
   "source": [
    "NANs from 0 to 280, from 2475 to 2488, from 3105 to end"
   ]
  },
  {
   "cell_type": "code",
   "execution_count": 86,
   "metadata": {},
   "outputs": [],
   "source": [
    "def df_gap(df):\n",
    "    array = [0]\n",
    "    df_sub = df.loc[df['Gaze_X'].isna()]\n",
    "    arridx = list(df_sub.index)\n",
    "    for i,j in enumerate(arridx[:-1]):\n",
    "        if arridx[i]+1 != arridx[i+1]:\n",
    "            array.append(j)\n",
    "            array.append(arridx[i+1])\n",
    "\n",
    "    array.append(arridx[-1])\n",
    "\n",
    "    na_array = []\n",
    "    for i in range(1, len(array), 2):\n",
    "        #print(i)\n",
    "        na_array.append(array[i]-array[i-1])\n",
    "    return na_array, array"
   ]
  },
  {
   "cell_type": "code",
   "execution_count": 87,
   "metadata": {},
   "outputs": [
    {
     "data": {
      "text/plain": [
       "([280, 13, 247], [0, 280, 2475, 2488, 3105, 3352])"
      ]
     },
     "execution_count": 87,
     "metadata": {},
     "output_type": "execute_result"
    }
   ],
   "source": [
    "df_gap(df)"
   ]
  },
  {
   "cell_type": "code",
   "execution_count": 60,
   "metadata": {},
   "outputs": [
    {
     "data": {
      "text/plain": [
       "array([   0,    1,    2,    3,    4,    5,    6,    7,    8,    9,   10,\n",
       "         11,   12,   13,   14,   15,   16,   17,   18,   19,   20,   21,\n",
       "         22,   23,   24,   25,   26,   27,   28,   29,   30,   31,   32,\n",
       "         33,   34,   35,   36,   37,   38,   39,   40,   41,   42,   43,\n",
       "         44,   45,   46,   47,   48,   49,   50,   51,   52,   53,   54,\n",
       "         55,   56,   57,   58,   59,   60,   61,   62,   63,   64,   65,\n",
       "         66,   67,   68,   69,   70,   71,   72,   73,   74,   75,   76,\n",
       "         77,   78,   79,   80,   81,   82,   83,   84,   85,   86,   87,\n",
       "         88,   89,   90,   91,   92,   93,   94,   95,   96,   97,   98,\n",
       "         99,  100,  101,  102,  103,  104,  105,  106,  107,  108,  109,\n",
       "        110,  111,  112,  113,  114,  115,  116,  117,  118,  119,  120,\n",
       "        121,  122,  123,  124,  125,  126,  127,  128,  129,  130,  131,\n",
       "        132,  133,  134,  135,  136,  137,  138,  139,  140,  141,  142,\n",
       "        143,  144,  145,  146,  147,  148,  149,  150,  151,  152,  153,\n",
       "        154,  155,  156,  157,  158,  159,  160,  161,  162,  163,  164,\n",
       "        165,  166,  167,  168,  169,  170,  171,  172,  173,  174,  175,\n",
       "        176,  177,  178,  179,  180,  181,  182,  183,  184,  185,  186,\n",
       "        187,  188,  189,  190,  191,  192,  193,  194,  195,  196,  197,\n",
       "        198,  199,  200,  201,  202,  203,  204,  205,  206,  207,  208,\n",
       "        209,  210,  211,  212,  213,  214,  215,  216,  217,  218,  219,\n",
       "        220,  221,  222,  223,  224,  225,  226,  227,  228,  229,  230,\n",
       "        231,  232,  233,  234,  235,  236,  237,  238,  239,  240,  241,\n",
       "        242,  243,  244,  245,  246,  247,  248,  249,  250,  251,  252,\n",
       "        253,  254,  255,  256,  257,  258,  259,  260,  261,  262,  263,\n",
       "        264,  265,  266,  267,  268,  269,  270,  271,  272,  273,  274,\n",
       "        275,  276,  277,  278,  279,  280, 2475, 2476, 2477, 2478, 2479,\n",
       "       2480, 2481, 2482, 2483, 2484, 2485, 2486, 2487, 2488, 3105, 3106,\n",
       "       3107, 3108, 3109, 3110, 3111, 3112, 3113, 3114, 3115, 3116, 3117,\n",
       "       3118, 3119, 3120, 3121, 3122, 3123, 3124, 3125, 3126, 3127, 3128,\n",
       "       3129, 3130, 3131, 3132, 3133, 3134, 3135, 3136, 3137, 3138, 3139,\n",
       "       3140, 3141, 3142, 3143, 3144, 3145, 3146, 3147, 3148, 3149, 3150,\n",
       "       3151, 3152, 3153, 3154, 3155, 3156, 3157, 3158, 3159, 3160, 3161,\n",
       "       3162, 3163, 3164, 3165, 3166, 3167, 3168, 3169, 3170, 3171, 3172,\n",
       "       3173, 3174, 3175, 3176, 3177, 3178, 3179, 3180, 3181, 3182, 3183,\n",
       "       3184, 3185, 3186, 3187, 3188, 3189, 3190, 3191, 3192, 3193, 3194,\n",
       "       3195, 3196, 3197, 3198, 3199, 3200, 3201, 3202, 3203, 3204, 3205,\n",
       "       3206, 3207, 3208, 3209, 3210, 3211, 3212, 3213, 3214, 3215, 3216,\n",
       "       3217, 3218, 3219, 3220, 3221, 3222, 3223, 3224, 3225, 3226, 3227,\n",
       "       3228, 3229, 3230, 3231, 3232, 3233, 3234, 3235, 3236, 3237, 3238,\n",
       "       3239, 3240, 3241, 3242, 3243, 3244, 3245, 3246, 3247, 3248, 3249,\n",
       "       3250, 3251, 3252, 3253, 3254, 3255, 3256, 3257, 3258, 3259, 3260,\n",
       "       3261, 3262, 3263, 3264, 3265, 3266, 3267, 3268, 3269, 3270, 3271,\n",
       "       3272, 3273, 3274, 3275, 3276, 3277, 3278, 3279, 3280, 3281, 3282,\n",
       "       3283, 3284, 3285, 3286, 3287, 3288, 3289, 3290, 3291, 3292, 3293,\n",
       "       3294, 3295, 3296, 3297, 3298, 3299, 3300, 3301, 3302, 3303, 3304,\n",
       "       3305, 3306, 3307, 3308, 3309, 3310, 3311, 3312, 3313, 3314, 3315,\n",
       "       3316, 3317, 3318, 3319, 3320, 3321, 3322, 3323, 3324, 3325, 3326,\n",
       "       3327, 3328, 3329, 3330, 3331, 3332, 3333, 3334, 3335, 3336, 3337,\n",
       "       3338, 3339, 3340, 3341, 3342, 3343, 3344, 3345, 3346, 3347, 3348,\n",
       "       3349, 3350, 3351, 3352])"
      ]
     },
     "execution_count": 60,
     "metadata": {},
     "output_type": "execute_result"
    }
   ],
   "source": [
    "np.array(df_sub.index)"
   ]
  },
  {
   "cell_type": "markdown",
   "metadata": {},
   "source": [
    "Listing the consecutives NAs"
   ]
  },
  {
   "cell_type": "code",
   "execution_count": 13,
   "metadata": {},
   "outputs": [
    {
     "data": {
      "text/plain": [
       "Gaze_X\n",
       "0       204\n",
       "8       162\n",
       "960     156\n",
       "3899    276\n",
       "Name: Gaze_X, dtype: int64"
      ]
     },
     "execution_count": 13,
     "metadata": {},
     "output_type": "execute_result"
    }
   ],
   "source": [
    "# Since X and Y are NAs at the same time, taking either is the same count\n",
    "na_groups = df['Gaze_X'].notna().cumsum()[df['Gaze_X'].isna()]\n",
    "lengths_consecutive_na = na_groups.groupby(na_groups).agg(len)\n",
    "#longest_gap = lengths_consecutive_na.max()\n",
    "lengths_consecutive_na"
   ]
  },
  {
   "cell_type": "markdown",
   "metadata": {},
   "source": [
    "Starting from 0 we have 204 NANs, then 8 good values, then 162 NANs, then ... "
   ]
  },
  {
   "cell_type": "code",
   "execution_count": 14,
   "metadata": {},
   "outputs": [
    {
     "data": {
      "text/plain": [
       "798"
      ]
     },
     "execution_count": 14,
     "metadata": {},
     "output_type": "execute_result"
    }
   ],
   "source": [
    "sum(lengths_consecutive_na)"
   ]
  },
  {
   "cell_type": "code",
   "execution_count": 15,
   "metadata": {},
   "outputs": [
    {
     "data": {
      "text/plain": [
       "Gaze_X            0.13665\n",
       "Gaze_Y            0.58104\n",
       "Frame time (s)    0.20400\n",
       "Name: 204, dtype: float64"
      ]
     },
     "execution_count": 15,
     "metadata": {},
     "output_type": "execute_result"
    }
   ],
   "source": [
    "#df.iloc[203]\n",
    "df.iloc[204]"
   ]
  },
  {
   "cell_type": "markdown",
   "metadata": {},
   "source": [
    "Not using the median filter from scipy because of inconsistencies in NANs handling"
   ]
  },
  {
   "cell_type": "code",
   "execution_count": 16,
   "metadata": {},
   "outputs": [],
   "source": [
    "# newdf = pd.DataFrame()\n",
    "# newdf['filt X'] = median_filter(df['Gaze_X'],7)\n",
    "# newdf['filt Y'] = median_filter(df['Gaze_Y'],7)\n",
    "# newdf['Frame time (s)'] = median_filter(df['Frame time (s)'],7)"
   ]
  },
  {
   "cell_type": "markdown",
   "metadata": {},
   "source": [
    "nanmedian from numpy ignore nans values"
   ]
  },
  {
   "cell_type": "code",
   "execution_count": 17,
   "metadata": {},
   "outputs": [],
   "source": [
    "def medfilt(df, f):\n",
    "    \"\"\" df: raw dataframe\n",
    "        f: filter size, in both directions\n",
    "    \"\"\"\n",
    "    newdf = pd.DataFrame()\n",
    "    arrx, arry = [], []\n",
    "    for i in range(len(df)):\n",
    "        arrx.append(np.nanmedian(df['Gaze_X'][i-f:i+f]))\n",
    "        arry.append(np.nanmedian(df['Gaze_Y'][i-f:i+f]))\n",
    "    newdf['X filter'], newdf['Y filter'] = arrx, arry\n",
    "    newdf['Frame time (s)'] = df['Frame time (s)']\n",
    "\n",
    "    return newdf\n"
   ]
  },
  {
   "cell_type": "code",
   "execution_count": 18,
   "metadata": {},
   "outputs": [
    {
     "name": "stderr",
     "output_type": "stream",
     "text": [
      "/opt/anaconda3/lib/python3.8/site-packages/numpy/lib/nanfunctions.py:1216: RuntimeWarning: Mean of empty slice\n",
      "  return np.nanmean(a, axis, out=out, keepdims=keepdims)\n",
      "/opt/anaconda3/lib/python3.8/site-packages/numpy/lib/nanfunctions.py:1218: RuntimeWarning: All-NaN slice encountered\n",
      "  r, k = function_base._ureduce(a, func=_nanmedian, axis=axis, out=out,\n"
     ]
    },
    {
     "data": {
      "text/html": [
       "<div>\n",
       "<style scoped>\n",
       "    .dataframe tbody tr th:only-of-type {\n",
       "        vertical-align: middle;\n",
       "    }\n",
       "\n",
       "    .dataframe tbody tr th {\n",
       "        vertical-align: top;\n",
       "    }\n",
       "\n",
       "    .dataframe thead th {\n",
       "        text-align: right;\n",
       "    }\n",
       "</style>\n",
       "<table border=\"1\" class=\"dataframe\">\n",
       "  <thead>\n",
       "    <tr style=\"text-align: right;\">\n",
       "      <th></th>\n",
       "      <th>X filter</th>\n",
       "      <th>Y filter</th>\n",
       "      <th>Frame time (s)</th>\n",
       "    </tr>\n",
       "  </thead>\n",
       "  <tbody>\n",
       "    <tr>\n",
       "      <th>0</th>\n",
       "      <td>NaN</td>\n",
       "      <td>NaN</td>\n",
       "      <td>0.000</td>\n",
       "    </tr>\n",
       "    <tr>\n",
       "      <th>1</th>\n",
       "      <td>NaN</td>\n",
       "      <td>NaN</td>\n",
       "      <td>0.001</td>\n",
       "    </tr>\n",
       "    <tr>\n",
       "      <th>2</th>\n",
       "      <td>NaN</td>\n",
       "      <td>NaN</td>\n",
       "      <td>0.002</td>\n",
       "    </tr>\n",
       "    <tr>\n",
       "      <th>3</th>\n",
       "      <td>NaN</td>\n",
       "      <td>NaN</td>\n",
       "      <td>0.003</td>\n",
       "    </tr>\n",
       "    <tr>\n",
       "      <th>4</th>\n",
       "      <td>NaN</td>\n",
       "      <td>NaN</td>\n",
       "      <td>0.004</td>\n",
       "    </tr>\n",
       "    <tr>\n",
       "      <th>...</th>\n",
       "      <td>...</td>\n",
       "      <td>...</td>\n",
       "      <td>...</td>\n",
       "    </tr>\n",
       "    <tr>\n",
       "      <th>4731</th>\n",
       "      <td>-0.179034</td>\n",
       "      <td>0.322148</td>\n",
       "      <td>4.731</td>\n",
       "    </tr>\n",
       "    <tr>\n",
       "      <th>4732</th>\n",
       "      <td>-0.179034</td>\n",
       "      <td>0.322183</td>\n",
       "      <td>4.732</td>\n",
       "    </tr>\n",
       "    <tr>\n",
       "      <th>4733</th>\n",
       "      <td>-0.179034</td>\n",
       "      <td>0.322183</td>\n",
       "      <td>4.733</td>\n",
       "    </tr>\n",
       "    <tr>\n",
       "      <th>4734</th>\n",
       "      <td>-0.179035</td>\n",
       "      <td>0.322183</td>\n",
       "      <td>4.734</td>\n",
       "    </tr>\n",
       "    <tr>\n",
       "      <th>4735</th>\n",
       "      <td>-0.179035</td>\n",
       "      <td>0.322183</td>\n",
       "      <td>4.735</td>\n",
       "    </tr>\n",
       "  </tbody>\n",
       "</table>\n",
       "<p>4736 rows × 3 columns</p>\n",
       "</div>"
      ],
      "text/plain": [
       "      X filter  Y filter  Frame time (s)\n",
       "0          NaN       NaN           0.000\n",
       "1          NaN       NaN           0.001\n",
       "2          NaN       NaN           0.002\n",
       "3          NaN       NaN           0.003\n",
       "4          NaN       NaN           0.004\n",
       "...        ...       ...             ...\n",
       "4731 -0.179034  0.322148           4.731\n",
       "4732 -0.179034  0.322183           4.732\n",
       "4733 -0.179034  0.322183           4.733\n",
       "4734 -0.179035  0.322183           4.734\n",
       "4735 -0.179035  0.322183           4.735\n",
       "\n",
       "[4736 rows x 3 columns]"
      ]
     },
     "execution_count": 18,
     "metadata": {},
     "output_type": "execute_result"
    }
   ],
   "source": [
    "df1 = extract_dataframes(file1, set=2)[0]\n",
    "medfilt(df1, 7)"
   ]
  },
  {
   "cell_type": "code",
   "execution_count": 19,
   "metadata": {},
   "outputs": [
    {
     "name": "stderr",
     "output_type": "stream",
     "text": [
      "/opt/anaconda3/lib/python3.8/site-packages/numpy/lib/nanfunctions.py:1216: RuntimeWarning: Mean of empty slice\n",
      "  return np.nanmean(a, axis, out=out, keepdims=keepdims)\n",
      "/opt/anaconda3/lib/python3.8/site-packages/numpy/lib/nanfunctions.py:1218: RuntimeWarning: All-NaN slice encountered\n",
      "  r, k = function_base._ureduce(a, func=_nanmedian, axis=axis, out=out,\n"
     ]
    },
    {
     "data": {
      "text/plain": [
       "X filter\n",
       "0       198\n",
       "21      149\n",
       "986     143\n",
       "3938    263\n",
       "Name: X filter, dtype: int64"
      ]
     },
     "execution_count": 19,
     "metadata": {},
     "output_type": "execute_result"
    }
   ],
   "source": [
    "filt_df = medfilt(df1, 7)\n",
    "na_groups = filt_df['X filter'].notna().cumsum()[filt_df['X filter'].isna()]\n",
    "na_groups.groupby(na_groups).agg(len)"
   ]
  },
  {
   "cell_type": "code",
   "execution_count": 20,
   "metadata": {},
   "outputs": [
    {
     "data": {
      "text/plain": [
       "753"
      ]
     },
     "execution_count": 20,
     "metadata": {},
     "output_type": "execute_result"
    }
   ],
   "source": [
    "lengths_consecutive_na2 = na_groups.groupby(na_groups).agg(len)\n",
    "sum(lengths_consecutive_na2)"
   ]
  },
  {
   "cell_type": "markdown",
   "metadata": {},
   "source": [
    "From 798 NAs we are now at 753 with this filtering.  \n",
    "With more filtering ? "
   ]
  },
  {
   "cell_type": "code",
   "execution_count": 21,
   "metadata": {},
   "outputs": [
    {
     "data": {
      "text/plain": [
       "592"
      ]
     },
     "execution_count": 21,
     "metadata": {},
     "output_type": "execute_result"
    }
   ],
   "source": [
    "filt_df2 = medfilt(df1, 30)\n",
    "na_groups = filt_df2['X filter'].notna().cumsum()[filt_df2['X filter'].isna()]\n",
    "lengths_consecutive_na3 = na_groups.groupby(na_groups).agg(len)\n",
    "sum(lengths_consecutive_na3)"
   ]
  },
  {
   "cell_type": "markdown",
   "metadata": {},
   "source": [
    "Lower, as expected"
   ]
  },
  {
   "cell_type": "code",
   "execution_count": 22,
   "metadata": {},
   "outputs": [
    {
     "data": {
      "image/png": "[encoded data removed]",
      "image/svg+xml": "<?xml version=\"1.0\" encoding=\"utf-8\" standalone=\"no\"?>\n<!DOCTYPE svg PUBLIC \"-//W3C//DTD SVG 1.1//EN\"\n  \"http://www.w3.org/Graphics/SVG/1.1/DTD/svg11.dtd\">\n<!-- Created with matplotlib (https://matplotlib.org/) -->\n<svg height=\"426.31625pt\" version=\"1.1\" viewBox=\"0 0 712.38125 426.31625\" width=\"712.38125pt\" xmlns=\"http://www.w3.org/2000/svg\" xmlns:xlink=\"http://www.w3.org/1999/xlink\">\n <metadata>\n  <rdf:RDF xmlns:cc=\"http://creativecommons.org/ns#\" xmlns:dc=\"http://purl.org/dc/elements/1.1/\" xmlns:rdf=\"http://www.w3.org/1999/02/22-rdf-syntax-ns#\">\n   <cc:Work>\n    <dc:type rdf:resource=\"http://purl.org/dc/dcmitype/StillImage\"/>\n    <dc:date>2022-06-01T14:08:05.407451</dc:date>\n    <dc:format>image/svg+xml</dc:format>\n    <dc:creator>\n     <cc:Agent>\n      <dc:title>Matplotlib v3.3.4, https://matplotlib.org/</dc:title>\n     </cc:Agent>\n    </dc:creator>\n   </cc:Work>\n  </rdf:RDF>\n </metadata>\n <defs>\n  <style type=\"text/css\">*{stroke-linecap:butt;stroke-linejoin:round;}</style>\n </defs>\n <g id=\"figure_1\">\n  <g id=\"patch_1\">\n   <path d=\"M 0 426.31625 \nL 712.38125 426.31625 \nL 712.38125 0 \nL 0 0 \nz\n\" style=\"fill:none;\"/>\n  </g>\n  <g id=\"axes_1\">\n   <g id=\"patch_2\">\n    <path d=\"M 43.78125 388.76 \nL 357.58125 388.76 \nL 357.58125 49.16 \nL 43.78125 49.16 \nz\n\" style=\"fill:#ffffff;\"/>\n   </g>\n   <g id=\"matplotlib.axis_1\">\n    <g id=\"xtick_1\">\n     <g id=\"line2d_1\">\n      <defs>\n       <path d=\"M 0 0 \nL 0 3.5 \n\" id=\"m29fb7ec006\" style=\"stroke:#000000;stroke-width:0.8;\"/>\n      </defs>\n      <g>\n       <use style=\"stroke:#000000;stroke-width:0.8;\" x=\"75.16125\" xlink:href=\"#m29fb7ec006\" y=\"388.76\"/>\n      </g>\n     </g>\n     <g id=\"text_1\">\n      <!-- −0.4 -->\n      <g transform=\"translate(63.019844 403.358437)scale(0.1 -0.1)\">\n       <defs>\n        <path d=\"M 10.59375 35.5 \nL 73.1875 35.5 \nL 73.1875 27.203125 \nL 10.59375 27.203125 \nz\n\" id=\"DejaVuSans-8722\"/>\n        <path d=\"M 31.78125 66.40625 \nQ 24.171875 66.40625 20.328125 58.90625 \nQ 16.5 51.421875 16.5 36.375 \nQ 16.5 21.390625 20.328125 13.890625 \nQ 24.171875 6.390625 31.78125 6.390625 \nQ 39.453125 6.390625 43.28125 13.890625 \nQ 47.125 21.390625 47.125 36.375 \nQ 47.125 51.421875 43.28125 58.90625 \nQ 39.453125 66.40625 31.78125 66.40625 \nz\nM 31.78125 74.21875 \nQ 44.046875 74.21875 50.515625 64.515625 \nQ 56.984375 54.828125 56.984375 36.375 \nQ 56.984375 17.96875 50.515625 8.265625 \nQ 44.046875 -1.421875 31.78125 -1.421875 \nQ 19.53125 -1.421875 13.0625 8.265625 \nQ 6.59375 17.96875 6.59375 36.375 \nQ 6.59375 54.828125 13.0625 64.515625 \nQ 19.53125 74.21875 31.78125 74.21875 \nz\n\" id=\"DejaVuSans-48\"/>\n        <path d=\"M 10.6875 12.40625 \nL 21 12.40625 \nL 21 0 \nL 10.6875 0 \nz\n\" id=\"DejaVuSans-46\"/>\n        <path d=\"M 37.796875 64.3125 \nL 12.890625 25.390625 \nL 37.796875 25.390625 \nz\nM 35.203125 72.90625 \nL 47.609375 72.90625 \nL 47.609375 25.390625 \nL 58.015625 25.390625 \nL 58.015625 17.1875 \nL 47.609375 17.1875 \nL 47.609375 0 \nL 37.796875 0 \nL 37.796875 17.1875 \nL 4.890625 17.1875 \nL 4.890625 26.703125 \nz\n\" id=\"DejaVuSans-52\"/>\n       </defs>\n       <use xlink:href=\"#DejaVuSans-8722\"/>\n       <use x=\"83.789062\" xlink:href=\"#DejaVuSans-48\"/>\n       <use x=\"147.412109\" xlink:href=\"#DejaVuSans-46\"/>\n       <use x=\"179.199219\" xlink:href=\"#DejaVuSans-52\"/>\n      </g>\n     </g>\n    </g>\n    <g id=\"xtick_2\">\n     <g id=\"line2d_2\">\n      <g>\n       <use style=\"stroke:#000000;stroke-width:0.8;\" x=\"137.92125\" xlink:href=\"#m29fb7ec006\" y=\"388.76\"/>\n      </g>\n     </g>\n     <g id=\"text_2\">\n      <!-- −0.2 -->\n      <g transform=\"translate(125.779844 403.358437)scale(0.1 -0.1)\">\n       <defs>\n        <path d=\"M 19.1875 8.296875 \nL 53.609375 8.296875 \nL 53.609375 0 \nL 7.328125 0 \nL 7.328125 8.296875 \nQ 12.9375 14.109375 22.625 23.890625 \nQ 32.328125 33.6875 34.8125 36.53125 \nQ 39.546875 41.84375 41.421875 45.53125 \nQ 43.3125 49.21875 43.3125 52.78125 \nQ 43.3125 58.59375 39.234375 62.25 \nQ 35.15625 65.921875 28.609375 65.921875 \nQ 23.96875 65.921875 18.8125 64.3125 \nQ 13.671875 62.703125 7.8125 59.421875 \nL 7.8125 69.390625 \nQ 13.765625 71.78125 18.9375 73 \nQ 24.125 74.21875 28.421875 74.21875 \nQ 39.75 74.21875 46.484375 68.546875 \nQ 53.21875 62.890625 53.21875 53.421875 \nQ 53.21875 48.921875 51.53125 44.890625 \nQ 49.859375 40.875 45.40625 35.40625 \nQ 44.1875 33.984375 37.640625 27.21875 \nQ 31.109375 20.453125 19.1875 8.296875 \nz\n\" id=\"DejaVuSans-50\"/>\n       </defs>\n       <use xlink:href=\"#DejaVuSans-8722\"/>\n       <use x=\"83.789062\" xlink:href=\"#DejaVuSans-48\"/>\n       <use x=\"147.412109\" xlink:href=\"#DejaVuSans-46\"/>\n       <use x=\"179.199219\" xlink:href=\"#DejaVuSans-50\"/>\n      </g>\n     </g>\n    </g>\n    <g id=\"xtick_3\">\n     <g id=\"line2d_3\">\n      <g>\n       <use style=\"stroke:#000000;stroke-width:0.8;\" x=\"200.68125\" xlink:href=\"#m29fb7ec006\" y=\"388.76\"/>\n      </g>\n     </g>\n     <g id=\"text_3\">\n      <!-- 0.0 -->\n      <g transform=\"translate(192.729687 403.358437)scale(0.1 -0.1)\">\n       <use xlink:href=\"#DejaVuSans-48\"/>\n       <use x=\"63.623047\" xlink:href=\"#DejaVuSans-46\"/>\n       <use x=\"95.410156\" xlink:href=\"#DejaVuSans-48\"/>\n      </g>\n     </g>\n    </g>\n    <g id=\"xtick_4\">\n     <g id=\"line2d_4\">\n      <g>\n       <use style=\"stroke:#000000;stroke-width:0.8;\" x=\"263.44125\" xlink:href=\"#m29fb7ec006\" y=\"388.76\"/>\n      </g>\n     </g>\n     <g id=\"text_4\">\n      <!-- 0.2 -->\n      <g transform=\"translate(255.489687 403.358437)scale(0.1 -0.1)\">\n       <use xlink:href=\"#DejaVuSans-48\"/>\n       <use x=\"63.623047\" xlink:href=\"#DejaVuSans-46\"/>\n       <use x=\"95.410156\" xlink:href=\"#DejaVuSans-50\"/>\n      </g>\n     </g>\n    </g>\n    <g id=\"xtick_5\">\n     <g id=\"line2d_5\">\n      <g>\n       <use style=\"stroke:#000000;stroke-width:0.8;\" x=\"326.20125\" xlink:href=\"#m29fb7ec006\" y=\"388.76\"/>\n      </g>\n     </g>\n     <g id=\"text_5\">\n      <!-- 0.4 -->\n      <g transform=\"translate(318.249687 403.358437)scale(0.1 -0.1)\">\n       <use xlink:href=\"#DejaVuSans-48\"/>\n       <use x=\"63.623047\" xlink:href=\"#DejaVuSans-46\"/>\n       <use x=\"95.410156\" xlink:href=\"#DejaVuSans-52\"/>\n      </g>\n     </g>\n    </g>\n    <g id=\"text_6\">\n     <!-- Gaze X position (m) -->\n     <g transform=\"translate(151.273437 417.036562)scale(0.1 -0.1)\">\n      <defs>\n       <path d=\"M 59.515625 10.40625 \nL 59.515625 29.984375 \nL 43.40625 29.984375 \nL 43.40625 38.09375 \nL 69.28125 38.09375 \nL 69.28125 6.78125 \nQ 63.578125 2.734375 56.6875 0.65625 \nQ 49.8125 -1.421875 42 -1.421875 \nQ 24.90625 -1.421875 15.25 8.5625 \nQ 5.609375 18.5625 5.609375 36.375 \nQ 5.609375 54.25 15.25 64.234375 \nQ 24.90625 74.21875 42 74.21875 \nQ 49.125 74.21875 55.546875 72.453125 \nQ 61.96875 70.703125 67.390625 67.28125 \nL 67.390625 56.78125 \nQ 61.921875 61.421875 55.765625 63.765625 \nQ 49.609375 66.109375 42.828125 66.109375 \nQ 29.4375 66.109375 22.71875 58.640625 \nQ 16.015625 51.171875 16.015625 36.375 \nQ 16.015625 21.625 22.71875 14.15625 \nQ 29.4375 6.6875 42.828125 6.6875 \nQ 48.046875 6.6875 52.140625 7.59375 \nQ 56.25 8.5 59.515625 10.40625 \nz\n\" id=\"DejaVuSans-71\"/>\n       <path d=\"M 34.28125 27.484375 \nQ 23.390625 27.484375 19.1875 25 \nQ 14.984375 22.515625 14.984375 16.5 \nQ 14.984375 11.71875 18.140625 8.90625 \nQ 21.296875 6.109375 26.703125 6.109375 \nQ 34.1875 6.109375 38.703125 11.40625 \nQ 43.21875 16.703125 43.21875 25.484375 \nL 43.21875 27.484375 \nz\nM 52.203125 31.203125 \nL 52.203125 0 \nL 43.21875 0 \nL 43.21875 8.296875 \nQ 40.140625 3.328125 35.546875 0.953125 \nQ 30.953125 -1.421875 24.3125 -1.421875 \nQ 15.921875 -1.421875 10.953125 3.296875 \nQ 6 8.015625 6 15.921875 \nQ 6 25.140625 12.171875 29.828125 \nQ 18.359375 34.515625 30.609375 34.515625 \nL 43.21875 34.515625 \nL 43.21875 35.40625 \nQ 43.21875 41.609375 39.140625 45 \nQ 35.0625 48.390625 27.6875 48.390625 \nQ 23 48.390625 18.546875 47.265625 \nQ 14.109375 46.140625 10.015625 43.890625 \nL 10.015625 52.203125 \nQ 14.9375 54.109375 19.578125 55.046875 \nQ 24.21875 56 28.609375 56 \nQ 40.484375 56 46.34375 49.84375 \nQ 52.203125 43.703125 52.203125 31.203125 \nz\n\" id=\"DejaVuSans-97\"/>\n       <path d=\"M 5.515625 54.6875 \nL 48.1875 54.6875 \nL 48.1875 46.484375 \nL 14.40625 7.171875 \nL 48.1875 7.171875 \nL 48.1875 0 \nL 4.296875 0 \nL 4.296875 8.203125 \nL 38.09375 47.515625 \nL 5.515625 47.515625 \nz\n\" id=\"DejaVuSans-122\"/>\n       <path d=\"M 56.203125 29.59375 \nL 56.203125 25.203125 \nL 14.890625 25.203125 \nQ 15.484375 15.921875 20.484375 11.0625 \nQ 25.484375 6.203125 34.421875 6.203125 \nQ 39.59375 6.203125 44.453125 7.46875 \nQ 49.3125 8.734375 54.109375 11.28125 \nL 54.109375 2.78125 \nQ 49.265625 0.734375 44.1875 -0.34375 \nQ 39.109375 -1.421875 33.890625 -1.421875 \nQ 20.796875 -1.421875 13.15625 6.1875 \nQ 5.515625 13.8125 5.515625 26.8125 \nQ 5.515625 40.234375 12.765625 48.109375 \nQ 20.015625 56 32.328125 56 \nQ 43.359375 56 49.78125 48.890625 \nQ 56.203125 41.796875 56.203125 29.59375 \nz\nM 47.21875 32.234375 \nQ 47.125 39.59375 43.09375 43.984375 \nQ 39.0625 48.390625 32.421875 48.390625 \nQ 24.90625 48.390625 20.390625 44.140625 \nQ 15.875 39.890625 15.1875 32.171875 \nz\n\" id=\"DejaVuSans-101\"/>\n       <path id=\"DejaVuSans-32\"/>\n       <path d=\"M 6.296875 72.90625 \nL 16.890625 72.90625 \nL 35.015625 45.796875 \nL 53.21875 72.90625 \nL 63.8125 72.90625 \nL 40.375 37.890625 \nL 65.375 0 \nL 54.78125 0 \nL 34.28125 31 \nL 13.625 0 \nL 2.984375 0 \nL 29 38.921875 \nz\n\" id=\"DejaVuSans-88\"/>\n       <path d=\"M 18.109375 8.203125 \nL 18.109375 -20.796875 \nL 9.078125 -20.796875 \nL 9.078125 54.6875 \nL 18.109375 54.6875 \nL 18.109375 46.390625 \nQ 20.953125 51.265625 25.265625 53.625 \nQ 29.59375 56 35.59375 56 \nQ 45.5625 56 51.78125 48.09375 \nQ 58.015625 40.1875 58.015625 27.296875 \nQ 58.015625 14.40625 51.78125 6.484375 \nQ 45.5625 -1.421875 35.59375 -1.421875 \nQ 29.59375 -1.421875 25.265625 0.953125 \nQ 20.953125 3.328125 18.109375 8.203125 \nz\nM 48.6875 27.296875 \nQ 48.6875 37.203125 44.609375 42.84375 \nQ 40.53125 48.484375 33.40625 48.484375 \nQ 26.265625 48.484375 22.1875 42.84375 \nQ 18.109375 37.203125 18.109375 27.296875 \nQ 18.109375 17.390625 22.1875 11.75 \nQ 26.265625 6.109375 33.40625 6.109375 \nQ 40.53125 6.109375 44.609375 11.75 \nQ 48.6875 17.390625 48.6875 27.296875 \nz\n\" id=\"DejaVuSans-112\"/>\n       <path d=\"M 30.609375 48.390625 \nQ 23.390625 48.390625 19.1875 42.75 \nQ 14.984375 37.109375 14.984375 27.296875 \nQ 14.984375 17.484375 19.15625 11.84375 \nQ 23.34375 6.203125 30.609375 6.203125 \nQ 37.796875 6.203125 41.984375 11.859375 \nQ 46.1875 17.53125 46.1875 27.296875 \nQ 46.1875 37.015625 41.984375 42.703125 \nQ 37.796875 48.390625 30.609375 48.390625 \nz\nM 30.609375 56 \nQ 42.328125 56 49.015625 48.375 \nQ 55.71875 40.765625 55.71875 27.296875 \nQ 55.71875 13.875 49.015625 6.21875 \nQ 42.328125 -1.421875 30.609375 -1.421875 \nQ 18.84375 -1.421875 12.171875 6.21875 \nQ 5.515625 13.875 5.515625 27.296875 \nQ 5.515625 40.765625 12.171875 48.375 \nQ 18.84375 56 30.609375 56 \nz\n\" id=\"DejaVuSans-111\"/>\n       <path d=\"M 44.28125 53.078125 \nL 44.28125 44.578125 \nQ 40.484375 46.53125 36.375 47.5 \nQ 32.28125 48.484375 27.875 48.484375 \nQ 21.1875 48.484375 17.84375 46.4375 \nQ 14.5 44.390625 14.5 40.28125 \nQ 14.5 37.15625 16.890625 35.375 \nQ 19.28125 33.59375 26.515625 31.984375 \nL 29.59375 31.296875 \nQ 39.15625 29.25 43.1875 25.515625 \nQ 47.21875 21.78125 47.21875 15.09375 \nQ 47.21875 7.46875 41.1875 3.015625 \nQ 35.15625 -1.421875 24.609375 -1.421875 \nQ 20.21875 -1.421875 15.453125 -0.5625 \nQ 10.6875 0.296875 5.421875 2 \nL 5.421875 11.28125 \nQ 10.40625 8.6875 15.234375 7.390625 \nQ 20.0625 6.109375 24.8125 6.109375 \nQ 31.15625 6.109375 34.5625 8.28125 \nQ 37.984375 10.453125 37.984375 14.40625 \nQ 37.984375 18.0625 35.515625 20.015625 \nQ 33.0625 21.96875 24.703125 23.78125 \nL 21.578125 24.515625 \nQ 13.234375 26.265625 9.515625 29.90625 \nQ 5.8125 33.546875 5.8125 39.890625 \nQ 5.8125 47.609375 11.28125 51.796875 \nQ 16.75 56 26.8125 56 \nQ 31.78125 56 36.171875 55.265625 \nQ 40.578125 54.546875 44.28125 53.078125 \nz\n\" id=\"DejaVuSans-115\"/>\n       <path d=\"M 9.421875 54.6875 \nL 18.40625 54.6875 \nL 18.40625 0 \nL 9.421875 0 \nz\nM 9.421875 75.984375 \nL 18.40625 75.984375 \nL 18.40625 64.59375 \nL 9.421875 64.59375 \nz\n\" id=\"DejaVuSans-105\"/>\n       <path d=\"M 18.3125 70.21875 \nL 18.3125 54.6875 \nL 36.8125 54.6875 \nL 36.8125 47.703125 \nL 18.3125 47.703125 \nL 18.3125 18.015625 \nQ 18.3125 11.328125 20.140625 9.421875 \nQ 21.96875 7.515625 27.59375 7.515625 \nL 36.8125 7.515625 \nL 36.8125 0 \nL 27.59375 0 \nQ 17.1875 0 13.234375 3.875 \nQ 9.28125 7.765625 9.28125 18.015625 \nL 9.28125 47.703125 \nL 2.6875 47.703125 \nL 2.6875 54.6875 \nL 9.28125 54.6875 \nL 9.28125 70.21875 \nz\n\" id=\"DejaVuSans-116\"/>\n       <path d=\"M 54.890625 33.015625 \nL 54.890625 0 \nL 45.90625 0 \nL 45.90625 32.71875 \nQ 45.90625 40.484375 42.875 44.328125 \nQ 39.84375 48.1875 33.796875 48.1875 \nQ 26.515625 48.1875 22.3125 43.546875 \nQ 18.109375 38.921875 18.109375 30.90625 \nL 18.109375 0 \nL 9.078125 0 \nL 9.078125 54.6875 \nL 18.109375 54.6875 \nL 18.109375 46.1875 \nQ 21.34375 51.125 25.703125 53.5625 \nQ 30.078125 56 35.796875 56 \nQ 45.21875 56 50.046875 50.171875 \nQ 54.890625 44.34375 54.890625 33.015625 \nz\n\" id=\"DejaVuSans-110\"/>\n       <path d=\"M 31 75.875 \nQ 24.46875 64.65625 21.28125 53.65625 \nQ 18.109375 42.671875 18.109375 31.390625 \nQ 18.109375 20.125 21.3125 9.0625 \nQ 24.515625 -2 31 -13.1875 \nL 23.1875 -13.1875 \nQ 15.875 -1.703125 12.234375 9.375 \nQ 8.59375 20.453125 8.59375 31.390625 \nQ 8.59375 42.28125 12.203125 53.3125 \nQ 15.828125 64.359375 23.1875 75.875 \nz\n\" id=\"DejaVuSans-40\"/>\n       <path d=\"M 52 44.1875 \nQ 55.375 50.25 60.0625 53.125 \nQ 64.75 56 71.09375 56 \nQ 79.640625 56 84.28125 50.015625 \nQ 88.921875 44.046875 88.921875 33.015625 \nL 88.921875 0 \nL 79.890625 0 \nL 79.890625 32.71875 \nQ 79.890625 40.578125 77.09375 44.375 \nQ 74.3125 48.1875 68.609375 48.1875 \nQ 61.625 48.1875 57.5625 43.546875 \nQ 53.515625 38.921875 53.515625 30.90625 \nL 53.515625 0 \nL 44.484375 0 \nL 44.484375 32.71875 \nQ 44.484375 40.625 41.703125 44.40625 \nQ 38.921875 48.1875 33.109375 48.1875 \nQ 26.21875 48.1875 22.15625 43.53125 \nQ 18.109375 38.875 18.109375 30.90625 \nL 18.109375 0 \nL 9.078125 0 \nL 9.078125 54.6875 \nL 18.109375 54.6875 \nL 18.109375 46.1875 \nQ 21.1875 51.21875 25.484375 53.609375 \nQ 29.78125 56 35.6875 56 \nQ 41.65625 56 45.828125 52.96875 \nQ 50 49.953125 52 44.1875 \nz\n\" id=\"DejaVuSans-109\"/>\n       <path d=\"M 8.015625 75.875 \nL 15.828125 75.875 \nQ 23.140625 64.359375 26.78125 53.3125 \nQ 30.421875 42.28125 30.421875 31.390625 \nQ 30.421875 20.453125 26.78125 9.375 \nQ 23.140625 -1.703125 15.828125 -13.1875 \nL 8.015625 -13.1875 \nQ 14.5 -2 17.703125 9.0625 \nQ 20.90625 20.125 20.90625 31.390625 \nQ 20.90625 42.671875 17.703125 53.65625 \nQ 14.5 64.65625 8.015625 75.875 \nz\n\" id=\"DejaVuSans-41\"/>\n      </defs>\n      <use xlink:href=\"#DejaVuSans-71\"/>\n      <use x=\"77.490234\" xlink:href=\"#DejaVuSans-97\"/>\n      <use x=\"138.769531\" xlink:href=\"#DejaVuSans-122\"/>\n      <use x=\"191.259766\" xlink:href=\"#DejaVuSans-101\"/>\n      <use x=\"252.783203\" xlink:href=\"#DejaVuSans-32\"/>\n      <use x=\"284.570312\" xlink:href=\"#DejaVuSans-88\"/>\n      <use x=\"353.076172\" xlink:href=\"#DejaVuSans-32\"/>\n      <use x=\"384.863281\" xlink:href=\"#DejaVuSans-112\"/>\n      <use x=\"448.339844\" xlink:href=\"#DejaVuSans-111\"/>\n      <use x=\"509.521484\" xlink:href=\"#DejaVuSans-115\"/>\n      <use x=\"561.621094\" xlink:href=\"#DejaVuSans-105\"/>\n      <use x=\"589.404297\" xlink:href=\"#DejaVuSans-116\"/>\n      <use x=\"628.613281\" xlink:href=\"#DejaVuSans-105\"/>\n      <use x=\"656.396484\" xlink:href=\"#DejaVuSans-111\"/>\n      <use x=\"717.578125\" xlink:href=\"#DejaVuSans-110\"/>\n      <use x=\"780.957031\" xlink:href=\"#DejaVuSans-32\"/>\n      <use x=\"812.744141\" xlink:href=\"#DejaVuSans-40\"/>\n      <use x=\"851.757812\" xlink:href=\"#DejaVuSans-109\"/>\n      <use x=\"949.169922\" xlink:href=\"#DejaVuSans-41\"/>\n     </g>\n    </g>\n   </g>\n   <g id=\"matplotlib.axis_2\">\n    <g id=\"ytick_1\">\n     <g id=\"line2d_6\">\n      <defs>\n       <path d=\"M 0 0 \nL -3.5 0 \n\" id=\"m106f3a41cb\" style=\"stroke:#000000;stroke-width:0.8;\"/>\n      </defs>\n      <g>\n       <use style=\"stroke:#000000;stroke-width:0.8;\" x=\"43.78125\" xlink:href=\"#m106f3a41cb\" y=\"357.887273\"/>\n      </g>\n     </g>\n     <g id=\"text_7\">\n      <!-- 0.0 -->\n      <g transform=\"translate(20.878125 361.686491)scale(0.1 -0.1)\">\n       <use xlink:href=\"#DejaVuSans-48\"/>\n       <use x=\"63.623047\" xlink:href=\"#DejaVuSans-46\"/>\n       <use x=\"95.410156\" xlink:href=\"#DejaVuSans-48\"/>\n      </g>\n     </g>\n    </g>\n    <g id=\"ytick_2\">\n     <g id=\"line2d_7\">\n      <g>\n       <use style=\"stroke:#000000;stroke-width:0.8;\" x=\"43.78125\" xlink:href=\"#m106f3a41cb\" y=\"296.141818\"/>\n      </g>\n     </g>\n     <g id=\"text_8\">\n      <!-- 0.2 -->\n      <g transform=\"translate(20.878125 299.941037)scale(0.1 -0.1)\">\n       <use xlink:href=\"#DejaVuSans-48\"/>\n       <use x=\"63.623047\" xlink:href=\"#DejaVuSans-46\"/>\n       <use x=\"95.410156\" xlink:href=\"#DejaVuSans-50\"/>\n      </g>\n     </g>\n    </g>\n    <g id=\"ytick_3\">\n     <g id=\"line2d_8\">\n      <g>\n       <use style=\"stroke:#000000;stroke-width:0.8;\" x=\"43.78125\" xlink:href=\"#m106f3a41cb\" y=\"234.396364\"/>\n      </g>\n     </g>\n     <g id=\"text_9\">\n      <!-- 0.4 -->\n      <g transform=\"translate(20.878125 238.195582)scale(0.1 -0.1)\">\n       <use xlink:href=\"#DejaVuSans-48\"/>\n       <use x=\"63.623047\" xlink:href=\"#DejaVuSans-46\"/>\n       <use x=\"95.410156\" xlink:href=\"#DejaVuSans-52\"/>\n      </g>\n     </g>\n    </g>\n    <g id=\"ytick_4\">\n     <g id=\"line2d_9\">\n      <g>\n       <use style=\"stroke:#000000;stroke-width:0.8;\" x=\"43.78125\" xlink:href=\"#m106f3a41cb\" y=\"172.650909\"/>\n      </g>\n     </g>\n     <g id=\"text_10\">\n      <!-- 0.6 -->\n      <g transform=\"translate(20.878125 176.450128)scale(0.1 -0.1)\">\n       <defs>\n        <path d=\"M 33.015625 40.375 \nQ 26.375 40.375 22.484375 35.828125 \nQ 18.609375 31.296875 18.609375 23.390625 \nQ 18.609375 15.53125 22.484375 10.953125 \nQ 26.375 6.390625 33.015625 6.390625 \nQ 39.65625 6.390625 43.53125 10.953125 \nQ 47.40625 15.53125 47.40625 23.390625 \nQ 47.40625 31.296875 43.53125 35.828125 \nQ 39.65625 40.375 33.015625 40.375 \nz\nM 52.59375 71.296875 \nL 52.59375 62.3125 \nQ 48.875 64.0625 45.09375 64.984375 \nQ 41.3125 65.921875 37.59375 65.921875 \nQ 27.828125 65.921875 22.671875 59.328125 \nQ 17.53125 52.734375 16.796875 39.40625 \nQ 19.671875 43.65625 24.015625 45.921875 \nQ 28.375 48.1875 33.59375 48.1875 \nQ 44.578125 48.1875 50.953125 41.515625 \nQ 57.328125 34.859375 57.328125 23.390625 \nQ 57.328125 12.15625 50.6875 5.359375 \nQ 44.046875 -1.421875 33.015625 -1.421875 \nQ 20.359375 -1.421875 13.671875 8.265625 \nQ 6.984375 17.96875 6.984375 36.375 \nQ 6.984375 53.65625 15.1875 63.9375 \nQ 23.390625 74.21875 37.203125 74.21875 \nQ 40.921875 74.21875 44.703125 73.484375 \nQ 48.484375 72.75 52.59375 71.296875 \nz\n\" id=\"DejaVuSans-54\"/>\n       </defs>\n       <use xlink:href=\"#DejaVuSans-48\"/>\n       <use x=\"63.623047\" xlink:href=\"#DejaVuSans-46\"/>\n       <use x=\"95.410156\" xlink:href=\"#DejaVuSans-54\"/>\n      </g>\n     </g>\n    </g>\n    <g id=\"ytick_5\">\n     <g id=\"line2d_10\">\n      <g>\n       <use style=\"stroke:#000000;stroke-width:0.8;\" x=\"43.78125\" xlink:href=\"#m106f3a41cb\" y=\"110.905455\"/>\n      </g>\n     </g>\n     <g id=\"text_11\">\n      <!-- 0.8 -->\n      <g transform=\"translate(20.878125 114.704673)scale(0.1 -0.1)\">\n       <defs>\n        <path d=\"M 31.78125 34.625 \nQ 24.75 34.625 20.71875 30.859375 \nQ 16.703125 27.09375 16.703125 20.515625 \nQ 16.703125 13.921875 20.71875 10.15625 \nQ 24.75 6.390625 31.78125 6.390625 \nQ 38.8125 6.390625 42.859375 10.171875 \nQ 46.921875 13.96875 46.921875 20.515625 \nQ 46.921875 27.09375 42.890625 30.859375 \nQ 38.875 34.625 31.78125 34.625 \nz\nM 21.921875 38.8125 \nQ 15.578125 40.375 12.03125 44.71875 \nQ 8.5 49.078125 8.5 55.328125 \nQ 8.5 64.0625 14.71875 69.140625 \nQ 20.953125 74.21875 31.78125 74.21875 \nQ 42.671875 74.21875 48.875 69.140625 \nQ 55.078125 64.0625 55.078125 55.328125 \nQ 55.078125 49.078125 51.53125 44.71875 \nQ 48 40.375 41.703125 38.8125 \nQ 48.828125 37.15625 52.796875 32.3125 \nQ 56.78125 27.484375 56.78125 20.515625 \nQ 56.78125 9.90625 50.3125 4.234375 \nQ 43.84375 -1.421875 31.78125 -1.421875 \nQ 19.734375 -1.421875 13.25 4.234375 \nQ 6.78125 9.90625 6.78125 20.515625 \nQ 6.78125 27.484375 10.78125 32.3125 \nQ 14.796875 37.15625 21.921875 38.8125 \nz\nM 18.3125 54.390625 \nQ 18.3125 48.734375 21.84375 45.5625 \nQ 25.390625 42.390625 31.78125 42.390625 \nQ 38.140625 42.390625 41.71875 45.5625 \nQ 45.3125 48.734375 45.3125 54.390625 \nQ 45.3125 60.0625 41.71875 63.234375 \nQ 38.140625 66.40625 31.78125 66.40625 \nQ 25.390625 66.40625 21.84375 63.234375 \nQ 18.3125 60.0625 18.3125 54.390625 \nz\n\" id=\"DejaVuSans-56\"/>\n       </defs>\n       <use xlink:href=\"#DejaVuSans-48\"/>\n       <use x=\"63.623047\" xlink:href=\"#DejaVuSans-46\"/>\n       <use x=\"95.410156\" xlink:href=\"#DejaVuSans-56\"/>\n      </g>\n     </g>\n    </g>\n    <g id=\"ytick_6\">\n     <g id=\"line2d_11\">\n      <g>\n       <use style=\"stroke:#000000;stroke-width:0.8;\" x=\"43.78125\" xlink:href=\"#m106f3a41cb\" y=\"49.16\"/>\n      </g>\n     </g>\n     <g id=\"text_12\">\n      <!-- 1.0 -->\n      <g transform=\"translate(20.878125 52.959219)scale(0.1 -0.1)\">\n       <defs>\n        <path d=\"M 12.40625 8.296875 \nL 28.515625 8.296875 \nL 28.515625 63.921875 \nL 10.984375 60.40625 \nL 10.984375 69.390625 \nL 28.421875 72.90625 \nL 38.28125 72.90625 \nL 38.28125 8.296875 \nL 54.390625 8.296875 \nL 54.390625 0 \nL 12.40625 0 \nz\n\" id=\"DejaVuSans-49\"/>\n       </defs>\n       <use xlink:href=\"#DejaVuSans-49\"/>\n       <use x=\"63.623047\" xlink:href=\"#DejaVuSans-46\"/>\n       <use x=\"95.410156\" xlink:href=\"#DejaVuSans-48\"/>\n      </g>\n     </g>\n    </g>\n    <g id=\"text_13\">\n     <!-- Gaze Y position (m) -->\n     <g transform=\"translate(14.798438 267.996719)rotate(-90)scale(0.1 -0.1)\">\n      <defs>\n       <path d=\"M -0.203125 72.90625 \nL 10.40625 72.90625 \nL 30.609375 42.921875 \nL 50.6875 72.90625 \nL 61.28125 72.90625 \nL 35.5 34.71875 \nL 35.5 0 \nL 25.59375 0 \nL 25.59375 34.71875 \nz\n\" id=\"DejaVuSans-89\"/>\n      </defs>\n      <use xlink:href=\"#DejaVuSans-71\"/>\n      <use x=\"77.490234\" xlink:href=\"#DejaVuSans-97\"/>\n      <use x=\"138.769531\" xlink:href=\"#DejaVuSans-122\"/>\n      <use x=\"191.259766\" xlink:href=\"#DejaVuSans-101\"/>\n      <use x=\"252.783203\" xlink:href=\"#DejaVuSans-32\"/>\n      <use x=\"284.570312\" xlink:href=\"#DejaVuSans-89\"/>\n      <use x=\"345.654297\" xlink:href=\"#DejaVuSans-32\"/>\n      <use x=\"377.441406\" xlink:href=\"#DejaVuSans-112\"/>\n      <use x=\"440.917969\" xlink:href=\"#DejaVuSans-111\"/>\n      <use x=\"502.099609\" xlink:href=\"#DejaVuSans-115\"/>\n      <use x=\"554.199219\" xlink:href=\"#DejaVuSans-105\"/>\n      <use x=\"581.982422\" xlink:href=\"#DejaVuSans-116\"/>\n      <use x=\"621.191406\" xlink:href=\"#DejaVuSans-105\"/>\n      <use x=\"648.974609\" xlink:href=\"#DejaVuSans-111\"/>\n      <use x=\"710.15625\" xlink:href=\"#DejaVuSans-110\"/>\n      <use x=\"773.535156\" xlink:href=\"#DejaVuSans-32\"/>\n      <use x=\"805.322266\" xlink:href=\"#DejaVuSans-40\"/>\n      <use x=\"844.335938\" xlink:href=\"#DejaVuSans-109\"/>\n      <use x=\"941.748047\" xlink:href=\"#DejaVuSans-41\"/>\n     </g>\n    </g>\n   </g>\n   <g id=\"line2d_12\">\n    <path clip-path=\"url(#p6918372099)\" d=\"M 243.561893 178.504407 \nL 251.907954 179.931045 \nL 251.907954 179.931045 \nL 237.945184 264.492715 \nL 237.945184 264.492715 \nM 165.440479 251.64476 \nL 164.802637 249.569715 \nL 164.802637 249.569715 \nL 144.062963 209.072255 \nL 144.062963 209.072255 \nL 144.307217 208.981802 \nL 144.307217 208.981802 \nL 143.070663 206.361399 \nL 143.070663 206.361399 \nL 142.8157 207.702 \nL 142.8157 207.702 \nL 143.132362 208.686503 \nL 143.132362 208.686503 \nL 143.113724 209.814189 \nL 143.113724 209.814189 \nL 144.827468 213.063751 \nL 144.771603 213.084122 \nL 147.066768 218.296296 \nL 147.066768 218.296296 \nL 147.489379 219.991642 \nL 147.489379 219.991642 \nL 147.93588 221.002303 \nL 147.93588 221.002303 \nL 147.828159 221.040974 \nL 147.828159 221.040974 \nL 148.053438 221.5547 \nL 148.053438 221.5547 \nL 148.462236 222.010029 \nL 148.462236 222.010029 \nL 150.634788 225.180179 \nL 164.235073 255.173585 \nL 164.235073 255.173585 \nL 152.419489 236.583951 \nL 152.419489 236.583951 \nL 151.745474 236.85012 \nL 151.745474 236.85012 \nL 153.218031 242.853489 \nL 153.218031 242.853489 \nL 151.621191 243.422162 \nL 151.621191 243.422162 \nL 151.066788 247.149457 \nL 151.066788 247.149457 \nL 151.15299 251.566636 \nL 151.15299 251.566636 \nL 151.546923 255.142165 \nL 151.546923 255.142165 \nL 150.485778 255.460677 \nL 150.485778 255.460677 \nL 149.225161 255.280921 \nL 149.225161 255.280921 \nL 145.798805 256.108137 \nL 145.798805 256.108137 \nL 145.8991 258.278971 \nL 145.8991 258.278971 \nL 145.398223 259.230765 \nL 145.398223 259.230765 \nL 143.581304 259.58241 \nL 143.581304 259.58241 \nL 143.544003 259.538081 \nL 143.544003 259.538081 \nL 142.620136 259.673793 \nL 142.630255 259.674105 \nL 141.369077 257.759605 \nL 141.369077 257.759605 \nL 140.925859 257.4958 \nL 140.925859 257.4958 \nL 141.71979 258.896317 \nL 141.71979 258.896317 \nL 141.720795 259.305945 \nL 141.720795 259.305945 \nL 141.49689 259.271847 \nL 141.49689 259.271847 \nL 140.035869 256.88795 \nL 140.035869 256.88795 \nL 139.662436 256.791802 \nL 139.662436 256.791802 \nL 138.459553 254.787106 \nL 139.706863 256.827151 \nL 139.177251 255.940149 \nL 137.384292 253.550216 \nL 137.384292 253.550216 \nL 138.964382 256.134755 \nL 138.058265 254.73387 \nL 137.991435 254.748628 \nL 137.991435 254.748628 \nL 137.122708 253.328266 \nL 137.411613 253.913923 \nL 137.66833 254.391279 \nL 137.66833 254.391279 \nL 136.65964 253.019892 \nL 137.366584 254.146299 \nL 137.034294 254.204208 \nL 137.034294 254.204208 \nL 138.143536 256.218565 \nL 138.143536 256.218565 \nL 139.758799 259.649926 \nL 139.758799 259.649926 \nL 138.785016 261.259788 \nL 138.785016 261.259788 \nL 138.343215 261.31307 \nL 138.343215 261.31307 \nL 138.592211 263.149695 \nL 138.592211 263.149695 \nL 136.781506 263.688033 \nL 136.781506 263.688033 \nL 134.669752 264.683659 \nL 134.669752 264.683659 \nL 135.179682 265.656211 \nL 135.179682 265.656211 \nL 133.969981 265.675606 \nL 133.969981 265.675606 \nL 133.287498 265.431941 \nL 133.287498 265.431941 \nL 131.868342 265.41664 \nL 131.868342 265.41664 \nL 130.972479 266.890671 \nL 130.972479 266.890671 \nL 131.610905 268.413034 \nL 131.610905 268.413034 \nL 129.748853 268.258617 \nL 129.748853 268.258617 \nL 130.15428 271.512062 \nL 130.15428 271.512062 \nL 129.344315 271.400549 \nL 129.344315 271.400549 \nL 128.771849 272.030094 \nL 128.771849 272.030094 \nL 126.40761 271.493725 \nL 126.40761 271.493725 \nL 121.282484 266.02876 \nL 121.282484 266.02876 \nL 121.619341 266.113296 \nL 121.619341 266.113296 \nL 120.044526 264.419753 \nL 120.403492 264.822012 \nL 148.276731 297.640764 \nL 147.985062 297.38057 \nL 148.215274 297.612389 \nL 148.003237 297.339406 \nL 148.05998 297.358944 \nL 148.258275 297.539969 \nL 148.290165 297.49852 \nL 148.159176 297.116673 \nL 148.159176 297.116673 \nL 148.266869 297.175926 \nL 147.966203 296.973399 \nL 147.967274 296.973458 \nL 147.559781 296.576058 \nL 147.748686 296.706939 \nL 148.246482 296.971705 \nL 148.160346 296.993944 \nL 148.303319 297.176478 \nL 147.960059 296.894299 \nL 147.960059 296.894299 \nL 147.895919 296.87478 \nL 148.046036 297.023184 \nL 148.03293 296.992619 \nL 148.280523 297.166049 \nL 148.04332 296.952904 \nL 148.196725 297.032159 \nL 148.157755 296.940487 \nL 148.202069 296.950061 \nL 148.310272 296.958944 \nL 148.24702 296.868141 \nL 148.153673 296.765148 \nL 148.366117 296.913842 \nL 148.365041 296.913777 \nL 148.443593 296.653137 \nL 148.443593 296.653137 \nL 148.705818 296.684779 \nL 148.554886 296.603214 \nL 148.376909 296.512329 \nL 148.530987 296.576315 \nL 148.714468 296.501246 \nL 148.714468 296.501246 \nL 148.583026 296.327526 \nL 148.746719 296.531981 \nL 148.632886 296.512982 \nL 148.462073 296.474168 \nL 148.815203 296.504324 \nL 148.768065 296.454239 \nL 148.615782 296.336557 \nL 148.897477 296.484303 \nL 148.468138 295.647831 \nL 148.822437 296.162547 \nL 148.647882 295.715766 \nL 148.688231 295.695441 \nL 148.853649 295.741164 \nL 148.845172 295.747209 \nL 148.487866 295.369172 \nL 148.487866 295.369172 \nL 148.39241 295.352173 \nL 148.744708 295.514406 \nL 148.734416 295.439029 \nL 148.742431 294.990697 \nL 148.742431 294.990697 \nL 126.820841 269.258375 \nL 127.836572 270.320265 \nL 128.057447 270.39125 \nL 128.057447 270.39125 \nL 128.642529 270.836411 \nL 128.642529 270.836411 \nL 128.189053 270.15306 \nL 128.25656 270.201198 \nL 127.912043 270.115382 \nL 128.221939 270.299932 \nL 128.438517 270.455747 \nL 128.438517 270.455747 \nL 129.075881 270.571521 \nL 129.075881 270.571521 \nL 129.288849 270.946057 \nL 129.288849 270.946057 \nL 128.578773 270.353205 \nL 128.614175 270.356462 \nL 129.31431 270.4708 \nL 129.31431 270.4708 \nL 129.20397 270.310412 \nL 130.025368 270.429709 \nL 130.025368 270.429709 \nL 131.368002 271.739911 \nL 133.326108 274.145963 \nL 133.326108 274.145963 \nL 133.97181 274.240832 \nL 133.97181 274.240832 \nL 135.639785 276.054419 \nL 135.639785 276.054419 \nL 136.1329 276.115254 \nL 137.333857 277.113696 \nL 137.333857 277.113696 \nL 137.297 276.832456 \nL 136.479643 275.709738 \nL 136.479643 275.709738 \nL 136.750457 275.520267 \nL 136.77633 275.315724 \nL 136.77633 275.315724 \nL 137.231892 274.907789 \nL 137.231892 274.907789 \nL 137.81632 274.942163 \nL 166.412094 289.636252 \nL 164.78841 288.750984 \nL 171.598783 306.93134 \nL 171.598783 306.93134 \nL 168.623473 307.816957 \nL 168.623473 307.816957 \nM 180.845677 286.528349 \nL 148.049165 258.621296 \nL 148.049165 258.621296 \nL 146.275685 255.19828 \nL 144.694492 255.580601 \nL 144.694492 255.580601 \nL 149.597481 265.120936 \nL 149.506085 265.133872 \nL 149.949765 266.234958 \nL 149.949765 266.234958 \nL 149.8248 266.258292 \nL 149.8248 266.258292 \nL 141.418712 255.115491 \nL 140.939527 254.955536 \nL 140.939527 254.955536 \nL 140.624656 255.210848 \nL 140.624656 255.210848 \nL 140.644785 255.402197 \nL 140.644785 255.402197 \nL 141.39963 256.712758 \nL 149.957808 268.325415 \nL 149.957808 268.325415 \nL 147.055359 262.839508 \nL 147.055359 262.839508 \nL 141.753288 257.688299 \nL 141.753288 257.688299 \nL 143.528142 260.774722 \nL 143.219064 260.072978 \nL 144.631549 262.196336 \nL 144.631549 262.196336 \nL 155.769294 279.454994 \nL 155.769294 279.454994 \nL 154.547263 277.014668 \nL 154.547263 277.014668 \nL 146.727128 264.979198 \nL 155.61097 278.790384 \nL 155.61097 278.790384 \nL 155.552525 278.802842 \nL 155.262203 278.465108 \nL 155.479201 278.882189 \nL 155.45612 278.868572 \nL 155.45612 278.868572 \nL 154.701543 277.468571 \nL 154.701543 277.468571 \nL 146.242294 264.31146 \nL 146.343305 264.700525 \nL 146.343305 264.700525 \nL 145.739299 264.728476 \nL 145.739299 264.728476 \nL 145.963858 265.134121 \nL 145.963858 265.134121 \nL 146.782932 265.914164 \nL 146.63106 265.652153 \nL 146.464146 265.371851 \nL 147.001248 266.147275 \nL 152.534266 274.373554 \nL 152.524778 274.373453 \nL 146.654795 265.436606 \nL 147.055457 266.193178 \nL 147.227417 266.677903 \nL 145.401515 263.733742 \nL 145.401515 263.733742 \nL 149.70559 270.177469 \nL 149.690417 270.16284 \nL 148.363396 268.797535 \nL 148.363396 268.797535 \nL 147.552584 267.504704 \nL 147.552584 267.504704 \nL 147.828842 267.21326 \nL 147.662746 266.965805 \nL 148.793937 268.669257 \nL 148.41449 267.967127 \nL 147.735009 267.311745 \nL 147.735009 267.311745 \nL 147.175237 266.544059 \nL 148.592851 268.374069 \nL 148.592851 268.374069 \nL 148.356265 268.42816 \nL 146.919199 266.424706 \nL 147.572916 267.238571 \nL 146.676043 265.692618 \nL 147.020457 266.471355 \nL 146.302694 265.409694 \nL 146.302694 265.409694 \nL 146.71815 265.627872 \nL 146.71815 265.627872 \nL 146.580957 265.32627 \nL 146.607026 265.346245 \nL 147.241351 266.478227 \nL 147.16632 266.510384 \nL 145.917103 264.828195 \nL 145.917103 264.828195 \nL 145.947777 264.833117 \nL 145.947777 264.833117 \nL 146.992752 266.244371 \nL 146.992752 266.244371 \nL 147.094623 266.235483 \nL 147.756051 267.264472 \nL 147.756051 267.264472 \nL 146.248541 264.331941 \nL 146.321047 264.318406 \nL 147.424191 266.307387 \nL 147.007711 265.732632 \nL 146.638565 265.022055 \nL 146.638565 265.022055 \nL 145.818725 263.625063 \nL 146.64788 265.100888 \nL 146.589968 264.721318 \nL 147.188297 265.670085 \nL 147.179558 265.456452 \nL 147.323391 265.536297 \nL 147.323391 265.536297 \nL 147.663807 266.091343 \nL 146.706802 264.80085 \nL 146.902623 264.917543 \nL 147.087067 265.029858 \nL 147.087067 265.029858 \nL 147.148257 264.73972 \nL 147.67827 265.396169 \nL 147.416401 265.007269 \nL 147.680042 265.156037 \nL 147.680042 265.156037 \nL 148.411273 266.313395 \nL 147.702927 265.111238 \nL 148.076159 265.684264 \nL 148.639597 266.293697 \nL 148.639597 266.293697 \nL 148.506527 266.049011 \nL 148.506527 266.049011 \nL 149.132469 266.62279 \nL 149.132469 266.62279 \nL 148.461343 265.321228 \nL 148.461343 265.321228 \nL 149.214242 266.505305 \nL 149.214079 266.505324 \nL 148.836189 266.074156 \nL 148.302234 265.087951 \nL 148.531876 265.612829 \nL 149.750933 267.357915 \nL 148.491012 265.472094 \nL 148.972415 266.090791 \nL 148.918711 265.907972 \nL 148.918711 265.907972 \nL 149.225829 266.219253 \nL 149.95136 267.450171 \nL 149.282521 266.385447 \nL 149.913779 267.120084 \nL 149.745434 266.877385 \nL 149.044102 265.636962 \nL 149.987552 267.198005 \nL 149.044102 265.636962 \nL 149.221186 265.59578 \nL 149.211638 265.59578 \nL 148.802288 265.128278 \nL 148.812978 265.159322 \nL 148.812978 265.159322 \nL 149.027741 265.226221 \nL 149.027741 265.226221 \nL 149.778012 266.410169 \nL 149.778012 266.410169 \nL 149.894561 266.277485 \nL 149.894561 266.277485 \nL 149.562458 266.028125 \nL 149.562458 266.028125 \nL 150.188203 266.721643 \nL 150.078102 266.509087 \nL 149.659139 265.668889 \nL 149.492314 265.710486 \nL 149.492314 265.710486 \nL 148.583153 264.2022 \nL 149.560284 265.820178 \nL 149.310764 265.504996 \nL 149.071709 265.559326 \nL 149.419041 266.068029 \nL 149.565086 266.13191 \nL 149.564922 266.131928 \nL 149.71107 266.360623 \nL 149.007597 265.248781 \nL 149.196305 265.603094 \nL 149.638078 265.464337 \nL 149.523718 265.489308 \nL 150.160802 266.717623 \nL 149.671853 265.755027 \nL 149.499819 265.781056 \nL 149.530727 265.842582 \nL 149.603345 266.025972 \nL 149.404639 265.778839 \nL 149.404639 265.778839 \nL 149.341742 265.762139 \nL 149.341742 265.762139 \nL 148.962899 265.326583 \nL 148.962899 265.326583 \nL 149.034904 265.31315 \nL 149.034904 265.31315 \nL 149.763582 266.576851 \nL 149.002013 265.193585 \nL 149.094743 265.241218 \nL 149.19631 265.289393 \nL 149.19631 265.289393 \nL 149.384972 265.6477 \nL 149.321795 265.523737 \nL 148.425399 264.432588 \nL 148.86806 265.035065 \nL 147.872894 263.422185 \nL 147.778776 263.544141 \nL 148.093287 264.208485 \nL 148.093287 264.208485 \nL 148.429636 264.12473 \nL 148.429636 264.12473 \nL 148.209953 263.68553 \nL 148.209953 263.68553 \nL 147.382098 262.589026 \nL 147.481234 262.765 \nL 147.295312 262.398303 \nL 147.295312 262.398303 \nL 146.769203 261.702438 \nL 147.272647 262.420541 \nL 147.237928 262.404237 \nL 147.400994 262.761504 \nL 147.400994 262.761504 \nL 147.465565 263.279711 \nL 147.465859 263.279665 \nL 147.04979 262.532128 \nL 147.050075 262.532082 \nL 146.424195 261.692115 \nL 146.639711 262.079891 \nL 146.620147 262.079293 \nL 146.620147 262.079293 \nL 146.024057 261.24549 \nL 146.554009 262.136862 \nL 146.554009 262.136862 \nL 147.519301 263.676099 \nL 146.228276 261.630046 \nL 147.21258 263.106156 \nL 147.32875 263.078177 \nL 147.199791 263.074368 \nL 147.199791 263.074368 \nL 147.061513 262.850338 \nL 147.061513 262.850338 \nL 146.5833 262.046695 \nL 147.378628 263.513107 \nL 147.378628 263.513107 \nL 147.24815 263.556241 \nL 147.24815 263.556241 \nL 147.116273 263.208497 \nL 147.301372 263.437118 \nL 147.621621 264.050332 \nL 147.621621 264.050332 \nL 147.756527 264.023061 \nL 147.756527 264.023061 \nL 147.781437 263.790116 \nL 147.781437 263.790116 \nL 146.91911 262.294316 \nL 147.8241 263.915439 \nL 147.124956 262.771919 \nL 147.081343 262.786374 \nL 147.081343 262.786374 \nL 147.295335 263.146465 \nL 147.29512 263.146253 \nL 147.352929 263.615218 \nL 147.352929 263.615218 \nL 147.040854 263.028171 \nL 147.157454 263.250186 \nL 146.626632 263.31311 \nL 146.626632 263.31311 \nL 146.478128 263.195082 \nL 146.478128 263.195082 \nL 146.122813 263.263481 \nL 146.122813 263.263481 \nL 145.330113 263.252513 \nL 145.330113 263.252513 \nL 145.452399 263.941809 \nL 145.452399 263.941809 \nL 144.989219 263.603247 \nL 144.821964 263.625458 \nL 144.821964 263.625458 \nL 144.682517 263.403416 \nL 144.682517 263.403416 \nL 144.303163 263.218811 \nL 144.303163 263.218811 \nL 145.762973 265.832746 \nL 145.762973 265.832746 \nL 145.448541 265.653965 \nL 145.47851 265.654563 \nL 145.555528 266.096882 \nL 145.536945 266.097333 \nL 144.988649 265.016654 \nL 145.048665 265.126015 \nL 145.097688 265.126944 \nL 145.097688 265.126944 \nL 144.815997 264.566368 \nL 145.223608 265.283597 \nL 144.898197 264.5531 \nL 145.745143 266.044346 \nL 145.673914 266.057935 \nL 145.664183 266.345386 \nL 145.664183 266.345386 \nL 145.892302 266.758097 \nL 145.892302 266.758097 \nL 145.088944 265.846704 \nL 145.213119 266.077827 \nL 145.67859 266.768862 \nL 145.66748 266.764915 \nL 146.23102 267.495844 \nL 145.720468 266.751012 \nL 146.308908 267.681176 \nL 146.263144 267.530779 \nL 146.334252 267.517484 \nL 146.334252 267.517484 \nL 146.158094 267.244534 \nL 146.109599 267.347739 \nL 146.073674 267.301946 \nL 146.4988 267.713866 \nL 146.4988 267.713866 \nL 146.252357 267.246631 \nL 146.252357 267.246631 \nL 146.615789 267.67145 \nL 146.603767 267.536558 \nL 145.994874 266.412331 \nL 146.417695 267.024147 \nL 147.090457 267.994803 \nL 147.090457 267.994803 \nL 147.1845 267.967265 \nL 147.1845 267.967265 \nL 146.764293 267.407866 \nL 146.764293 267.407866 \nL 146.7823 267.273884 \nL 146.782141 267.273903 \nL 147.129427 267.999072 \nL 147.108862 267.995281 \nL 146.536891 267.043561 \nL 146.536891 267.043561 \nL 146.734759 266.958012 \nL 146.734759 266.958012 \nL 147.38553 268.106252 \nL 146.700218 266.941772 \nL 147.38553 268.106252 \nL 147.626063 268.170391 \nL 147.626063 268.170391 \nL 147.658 268.259509 \nL 147.648503 268.259307 \nL 147.17736 267.815829 \nL 147.17736 267.815829 \nL 146.623251 266.880274 \nL 146.736896 267.137446 \nL 146.627357 267.149885 \nL 146.627357 267.149885 \nL 146.27209 266.510725 \nL 146.437956 266.755935 \nL 146.822098 267.15869 \nL 146.822098 267.15869 \nL 147.14842 267.747348 \nL 146.331119 266.246018 \nL 146.331274 266.245999 \nL 147.177505 267.238535 \nL 147.177505 267.238535 \nL 146.944468 266.828087 \nL 146.944468 266.828087 \nL 146.772715 266.854116 \nL 146.772715 266.854116 \nL 147.156505 267.549972 \nL 147.156505 267.549972 \nL 147.289453 267.523152 \nL 147.26662 267.433177 \nL 146.972052 267.037065 \nL 147.439098 267.811164 \nL 147.130633 267.297935 \nL 147.030529 267.310614 \nL 147.035865 267.299398 \nL 147.125162 267.495108 \nL 146.766781 266.949207 \nL 146.766781 266.949207 \nL 146.727956 266.948379 \nL 146.727956 266.948379 \nL 146.999084 267.463154 \nL 147.001038 267.284576 \nL 147.2496 267.632862 \nL 146.891887 266.983645 \nL 146.928785 267.059708 \nL 146.906214 266.864734 \nL 146.906214 266.864734 \nL 146.806017 266.877413 \nL 146.806017 266.877413 \nL 147.029473 267.286535 \nL 147.029473 267.286535 \nL 147.288924 267.426783 \nL 147.288924 267.426783 \nL 146.879449 266.683718 \nL 147.125821 267.075368 \nL 147.23423 267.033017 \nL 147.23423 267.033017 \nL 146.88859 266.333407 \nL 146.997961 266.531896 \nL 147.26042 266.838558 \nL 147.212496 266.837445 \nL 147.283257 266.928891 \nL 147.153405 266.670588 \nL 147.153405 266.670588 \nL 147.323831 266.720245 \nL 147.323831 266.720245 \nL 147.005513 266.014627 \nL 147.048336 266.212693 \nL 147.53642 266.751031 \nL 147.53642 266.751031 \nL 147.877561 267.282533 \nL 147.437883 266.553573 \nL 147.674174 267.219912 \nL 147.384118 267.393503 \nL 147.384118 267.393503 \nL 146.837009 267.485631 \nL 146.837009 267.485631 \nL 146.538205 267.345301 \nL 146.538205 267.345301 \nL 146.387203 267.819509 \nL 146.387203 267.819509 \nL 146.244721 267.846367 \nL 146.244721 267.846367 \nL 146.614124 268.520692 \nL 146.614124 268.520692 \nL 147.281901 269.501009 \nL 147.026873 269.160239 \nL 147.233107 269.105991 \nL 147.21936 269.119802 \nL 147.269795 269.387131 \nL 147.269795 269.387131 \nL 147.536485 269.552699 \nL 147.434951 269.375832 \nL 147.161106 268.826076 \nL 147.739292 269.904951 \nL 147.301797 268.977686 \nL 147.693664 269.382171 \nL 147.693664 269.382171 \nL 147.301587 268.68638 \nL 147.781072 269.412865 \nL 147.781072 269.412865 \nL 148.026014 269.650457 \nL 147.715585 269.204136 \nL 147.715585 269.204136 \nL 147.720083 269.189608 \nL 147.720083 269.189608 \nL 147.95918 269.515012 \nL 147.465265 268.873699 \nL 147.465265 268.873699 \nL 148.002587 269.687224 \nL 147.608014 268.930256 \nL 147.746979 269.003366 \nL 147.746979 269.003366 \nL 148.197146 269.814038 \nL 147.60547 268.641085 \nL 147.978894 269.23782 \nL 147.387139 268.008843 \nL 147.387139 268.008843 \nL 147.455081 268.013683 \nL 147.455081 268.013683 \nL 147.778018 268.598605 \nL 147.112878 267.562172 \nL 147.447529 268.14289 \nL 147.376216 268.153056 \nL 147.386377 268.153194 \nL 146.850079 267.162278 \nL 147.567599 268.272022 \nL 147.567599 268.272022 \nL 147.743931 268.122022 \nL 147.743931 268.122022 \nL 147.535428 267.818957 \nL 147.535428 267.818957 \nL 147.346196 267.918114 \nL 147.346196 267.918114 \nL 147.15506 267.37398 \nL 147.15506 267.37398 \nL 147.283533 267.33207 \nL 147.283533 267.33207 \nL 147.064706 267.087853 \nL 147.064706 267.087853 \nL 146.697796 266.595317 \nL 146.697796 266.595317 \nL 146.345231 266.647044 \nL 146.345231 266.647044 \nL 146.481882 266.826717 \nL 146.496392 266.811949 \nL 146.383097 266.418441 \nL 146.379661 266.478614 \nL 146.246783 266.50548 \nL 146.246783 266.50548 \nL 146.609509 267.10055 \nL 146.237543 266.412037 \nL 146.545055 267.037553 \nL 147.009558 267.259062 \nL 147.009558 267.259062 \nL 146.650629 266.60668 \nL 146.913784 267.120387 \nL 146.709425 267.055632 \nL 146.542002 266.751491 \nL 146.816155 267.058457 \nL 146.764013 266.967222 \nL 146.829879 266.91222 \nL 146.829879 266.91222 \nL 146.755769 266.760333 \nL 146.755769 266.760333 \nL 146.876662 266.751831 \nL 146.849363 266.78477 \nL 147.385764 267.455121 \nL 146.951019 266.804947 \nL 146.676997 266.392495 \nL 146.653374 266.40728 \nL 146.498604 266.482708 \nL 146.49209 266.466377 \nL 146.816299 267.044738 \nL 146.581378 266.558937 \nL 146.726979 266.596614 \nL 146.726665 266.596651 \nL 146.205092 265.615617 \nL 147.092533 267.219793 \nL 146.399683 265.757373 \nL 147.149566 266.697151 \nL 146.635773 266.097306 \nL 146.511336 266.124558 \nL 146.563871 266.21686 \nL 146.87164 266.541612 \nL 146.790441 266.554741 \nL 147.034532 266.756524 \nL 147.034532 266.756524 \nL 147.068765 266.772303 \nL 147.068765 266.772303 \nL 147.183229 266.984952 \nL 146.908285 266.513513 \nL 147.022323 266.486168 \nL 147.10853 266.593863 \nL 147.10853 266.593863 \nL 147.244353 266.867633 \nL 147.244353 266.867633 \nL 146.998022 266.951783 \nL 146.998022 266.951783 \nL 147.200787 267.330405 \nL 146.800855 267.514981 \nL 146.800855 267.514981 \nL 146.686602 267.541995 \nL 146.686602 267.541995 \nL 146.40428 267.342347 \nL 146.715686 267.677633 \nL 146.715686 267.677633 \nL 146.891377 267.770488 \nL 146.891377 267.770488 \nL 147.036029 267.803528 \nL 147.036029 267.803528 \nL 147.512941 268.313941 \nL 147.347047 268.222108 \nL 147.614046 268.570202 \nL 147.220286 267.927205 \nL 147.300469 267.914195 \nL 147.512792 268.111055 \nL 147.512792 268.111055 \nL 147.501125 268.184808 \nL 147.486102 268.169765 \nL 147.312683 267.899336 \nL 147.531159 268.21783 \nL 147.441338 268.230638 \nL 147.381486 268.273771 \nL 147.381486 268.273771 \nL 147.438149 268.378439 \nL 146.813424 267.253734 \nL 147.077018 267.588008 \nL 147.496169 268.145861 \nL 147.470423 268.072752 \nL 147.715318 267.990175 \nL 147.715318 267.990175 \nL 147.23162 267.039126 \nL 147.720499 267.867804 \nL 147.706925 267.749537 \nL 147.707004 267.749786 \nL 147.724427 267.453116 \nL 147.831979 267.648531 \nL 148.469419 268.694643 \nL 147.970954 267.690367 \nL 148.005337 267.733684 \nL 148.005337 267.733684 \nL 148.258742 267.754101 \nL 148.258742 267.754101 \nL 148.782836 268.489354 \nL 148.008769 267.475989 \nL 148.782836 268.489354 \nL 148.888836 268.65656 \nL 148.501912 267.855383 \nL 148.501912 267.855383 \nL 148.6091 267.783681 \nL 148.6091 267.783681 \nL 148.922045 268.002808 \nL 148.922045 268.002808 \nL 148.799412 268.029664 \nL 148.799412 268.029664 \nL 148.423183 267.337397 \nL 148.537693 267.339495 \nL 148.569761 267.321774 \nL 148.569761 267.321774 \nL 148.870001 267.448607 \nL 148.870001 267.448607 \nL 148.956273 267.613936 \nL 148.956273 267.613936 \nL 148.849974 267.715651 \nL 148.849974 267.715651 \nL 148.288107 266.656575 \nL 148.421312 266.900038 \nL 148.57352 266.87364 \nL 148.554222 266.873208 \nL 148.974262 267.584926 \nL 148.778786 267.189145 \nL 149.134194 267.718834 \nL 148.691603 267.022942 \nL 149.040791 267.669675 \nL 148.585743 267.183054 \nL 148.585743 267.183054 \nL 147.711853 267.404406 \nL 147.711853 267.404406 \nL 147.516738 267.206111 \nL 147.516738 267.206111 \nL 147.382664 267.233833 \nL 147.382664 267.233833 \nL 147.73333 267.526354 \nL 147.73333 267.526354 \nL 148.226492 268.221087 \nL 148.15732 268.001906 \nL 148.095752 267.8819 \nL 148.536416 268.513433 \nL 148.536416 268.513433 \nL 148.613991 268.574131 \nL 148.291596 268.331506 \nL 148.291596 268.331506 \nL 147.904929 267.697792 \nL 148.156306 268.03352 \nL 148.631516 268.310491 \nL 148.631348 268.3105 \nL 147.743206 267.043119 \nL 147.742518 267.177782 \nL 147.328147 266.312889 \nL 147.327749 266.313193 \nL 148.483905 267.870647 \nL 147.997481 267.115262 \nL 148.097575 267.103375 \nL 148.087363 267.103219 \nL 147.920972 266.931293 \nL 147.920972 266.931293 \nL 148.367024 267.764047 \nL 147.557312 266.4729 \nL 147.557312 266.4729 \nL 147.586298 266.74574 \nL 147.586298 266.74574 \nL 147.73117 267.020016 \nL 147.73117 267.020016 \nL 147.765561 266.796262 \nL 147.765561 266.796262 \nL 147.666389 266.598656 \nL 147.666389 266.598656 \nL 147.194011 265.998112 \nL 147.194011 265.998112 \nL 147.365971 265.836482 \nL 147.365812 265.8365 \nL 147.964412 266.997566 \nL 147.614953 266.140991 \nL 148.266084 267.121234 \nL 147.573215 265.908717 \nL 147.700949 266.18763 \nL 147.858876 266.146999 \nL 147.832583 266.070586 \nL 147.790601 265.978652 \nL 148.176885 266.773628 \nL 148.109284 266.470002 \nL 148.614706 266.902586 \nL 148.614706 266.902586 \nL 148.844255 267.177175 \nL 148.844255 267.177175 \nL 149.151977 267.213978 \nL 149.151977 267.213978 \nL 149.187884 267.289121 \nL 149.102299 267.121841 \nL 149.102299 267.121841 \nL 162.442953 238.381242 \nL 162.442953 238.381242 \nL 162.870214 235.061036 \nL 162.870214 235.061036 \nM 164.146047 273.258703 \nL 164.130859 273.256367 \nL 164.130859 273.256367 \nL 155.071245 272.820663 \nL 155.071245 272.820663 \nL 155.231407 271.677529 \nL 155.231407 271.677529 \nL 158.660058 223.528987 \nL 158.659974 223.529061 \nL 146.031931 259.137267 \nL 146.031931 259.137267 \nL 145.758648 259.209971 \nL 145.758648 259.209971 \nL 145.348877 258.414158 \nL 145.532096 258.765693 \nL 145.222008 259.216421 \nL 145.222008 259.216421 \nL 144.612349 258.143563 \nL 144.612349 258.143563 \nL 144.396351 258.441982 \nL 144.396351 258.441982 \nL 144.282472 258.488133 \nL 144.282472 258.488133 \n\" style=\"fill:none;stroke:#1f77b4;stroke-linecap:square;stroke-width:2;\"/>\n   </g>\n   <g id=\"patch_3\">\n    <path d=\"M 43.78125 388.76 \nL 43.78125 49.16 \n\" style=\"fill:none;stroke:#000000;stroke-linecap:square;stroke-linejoin:miter;stroke-width:0.8;\"/>\n   </g>\n   <g id=\"patch_4\">\n    <path d=\"M 357.58125 388.76 \nL 357.58125 49.16 \n\" style=\"fill:none;stroke:#000000;stroke-linecap:square;stroke-linejoin:miter;stroke-width:0.8;\"/>\n   </g>\n   <g id=\"patch_5\">\n    <path d=\"M 43.78125 388.76 \nL 357.58125 388.76 \n\" style=\"fill:none;stroke:#000000;stroke-linecap:square;stroke-linejoin:miter;stroke-width:0.8;\"/>\n   </g>\n   <g id=\"patch_6\">\n    <path d=\"M 43.78125 49.16 \nL 357.58125 49.16 \n\" style=\"fill:none;stroke:#000000;stroke-linecap:square;stroke-linejoin:miter;stroke-width:0.8;\"/>\n   </g>\n   <g id=\"text_14\">\n    <!-- 4.74 -->\n    <g transform=\"translate(319.625625 73.738438)scale(0.1 -0.1)\">\n     <defs>\n      <path d=\"M 8.203125 72.90625 \nL 55.078125 72.90625 \nL 55.078125 68.703125 \nL 28.609375 0 \nL 18.3125 0 \nL 43.21875 64.59375 \nL 8.203125 64.59375 \nz\n\" id=\"DejaVuSans-55\"/>\n     </defs>\n     <use xlink:href=\"#DejaVuSans-52\"/>\n     <use x=\"63.623047\" xlink:href=\"#DejaVuSans-46\"/>\n     <use x=\"95.410156\" xlink:href=\"#DejaVuSans-55\"/>\n     <use x=\"159.033203\" xlink:href=\"#DejaVuSans-52\"/>\n    </g>\n   </g>\n   <g id=\"text_15\">\n    <!-- Total time (s) -->\n    <g transform=\"translate(279.715187 63.550438)scale(0.1 -0.1)\">\n     <defs>\n      <path d=\"M -0.296875 72.90625 \nL 61.375 72.90625 \nL 61.375 64.59375 \nL 35.5 64.59375 \nL 35.5 0 \nL 25.59375 0 \nL 25.59375 64.59375 \nL -0.296875 64.59375 \nz\n\" id=\"DejaVuSans-84\"/>\n      <path d=\"M 9.421875 75.984375 \nL 18.40625 75.984375 \nL 18.40625 0 \nL 9.421875 0 \nz\n\" id=\"DejaVuSans-108\"/>\n     </defs>\n     <use xlink:href=\"#DejaVuSans-84\"/>\n     <use x=\"44.083984\" xlink:href=\"#DejaVuSans-111\"/>\n     <use x=\"105.265625\" xlink:href=\"#DejaVuSans-116\"/>\n     <use x=\"144.474609\" xlink:href=\"#DejaVuSans-97\"/>\n     <use x=\"205.753906\" xlink:href=\"#DejaVuSans-108\"/>\n     <use x=\"233.537109\" xlink:href=\"#DejaVuSans-32\"/>\n     <use x=\"265.324219\" xlink:href=\"#DejaVuSans-116\"/>\n     <use x=\"304.533203\" xlink:href=\"#DejaVuSans-105\"/>\n     <use x=\"332.316406\" xlink:href=\"#DejaVuSans-109\"/>\n     <use x=\"429.728516\" xlink:href=\"#DejaVuSans-101\"/>\n     <use x=\"491.251953\" xlink:href=\"#DejaVuSans-32\"/>\n     <use x=\"523.039062\" xlink:href=\"#DejaVuSans-40\"/>\n     <use x=\"562.052734\" xlink:href=\"#DejaVuSans-115\"/>\n     <use x=\"614.152344\" xlink:href=\"#DejaVuSans-41\"/>\n    </g>\n   </g>\n   <g id=\"text_16\">\n    <!-- Original -->\n    <g transform=\"translate(177.2025 43.16)scale(0.12 -0.12)\">\n     <defs>\n      <path d=\"M 39.40625 66.21875 \nQ 28.65625 66.21875 22.328125 58.203125 \nQ 16.015625 50.203125 16.015625 36.375 \nQ 16.015625 22.609375 22.328125 14.59375 \nQ 28.65625 6.59375 39.40625 6.59375 \nQ 50.140625 6.59375 56.421875 14.59375 \nQ 62.703125 22.609375 62.703125 36.375 \nQ 62.703125 50.203125 56.421875 58.203125 \nQ 50.140625 66.21875 39.40625 66.21875 \nz\nM 39.40625 74.21875 \nQ 54.734375 74.21875 63.90625 63.9375 \nQ 73.09375 53.65625 73.09375 36.375 \nQ 73.09375 19.140625 63.90625 8.859375 \nQ 54.734375 -1.421875 39.40625 -1.421875 \nQ 24.03125 -1.421875 14.8125 8.828125 \nQ 5.609375 19.09375 5.609375 36.375 \nQ 5.609375 53.65625 14.8125 63.9375 \nQ 24.03125 74.21875 39.40625 74.21875 \nz\n\" id=\"DejaVuSans-79\"/>\n      <path d=\"M 41.109375 46.296875 \nQ 39.59375 47.171875 37.8125 47.578125 \nQ 36.03125 48 33.890625 48 \nQ 26.265625 48 22.1875 43.046875 \nQ 18.109375 38.09375 18.109375 28.8125 \nL 18.109375 0 \nL 9.078125 0 \nL 9.078125 54.6875 \nL 18.109375 54.6875 \nL 18.109375 46.1875 \nQ 20.953125 51.171875 25.484375 53.578125 \nQ 30.03125 56 36.53125 56 \nQ 37.453125 56 38.578125 55.875 \nQ 39.703125 55.765625 41.0625 55.515625 \nz\n\" id=\"DejaVuSans-114\"/>\n      <path d=\"M 45.40625 27.984375 \nQ 45.40625 37.75 41.375 43.109375 \nQ 37.359375 48.484375 30.078125 48.484375 \nQ 22.859375 48.484375 18.828125 43.109375 \nQ 14.796875 37.75 14.796875 27.984375 \nQ 14.796875 18.265625 18.828125 12.890625 \nQ 22.859375 7.515625 30.078125 7.515625 \nQ 37.359375 7.515625 41.375 12.890625 \nQ 45.40625 18.265625 45.40625 27.984375 \nz\nM 54.390625 6.78125 \nQ 54.390625 -7.171875 48.1875 -13.984375 \nQ 42 -20.796875 29.203125 -20.796875 \nQ 24.46875 -20.796875 20.265625 -20.09375 \nQ 16.0625 -19.390625 12.109375 -17.921875 \nL 12.109375 -9.1875 \nQ 16.0625 -11.328125 19.921875 -12.34375 \nQ 23.78125 -13.375 27.78125 -13.375 \nQ 36.625 -13.375 41.015625 -8.765625 \nQ 45.40625 -4.15625 45.40625 5.171875 \nL 45.40625 9.625 \nQ 42.625 4.78125 38.28125 2.390625 \nQ 33.9375 0 27.875 0 \nQ 17.828125 0 11.671875 7.65625 \nQ 5.515625 15.328125 5.515625 27.984375 \nQ 5.515625 40.671875 11.671875 48.328125 \nQ 17.828125 56 27.875 56 \nQ 33.9375 56 38.28125 53.609375 \nQ 42.625 51.21875 45.40625 46.390625 \nL 45.40625 54.6875 \nL 54.390625 54.6875 \nz\n\" id=\"DejaVuSans-103\"/>\n     </defs>\n     <use xlink:href=\"#DejaVuSans-79\"/>\n     <use x=\"78.710938\" xlink:href=\"#DejaVuSans-114\"/>\n     <use x=\"119.824219\" xlink:href=\"#DejaVuSans-105\"/>\n     <use x=\"147.607422\" xlink:href=\"#DejaVuSans-103\"/>\n     <use x=\"211.083984\" xlink:href=\"#DejaVuSans-105\"/>\n     <use x=\"238.867188\" xlink:href=\"#DejaVuSans-110\"/>\n     <use x=\"302.246094\" xlink:href=\"#DejaVuSans-97\"/>\n     <use x=\"363.525391\" xlink:href=\"#DejaVuSans-108\"/>\n    </g>\n   </g>\n  </g>\n  <g id=\"axes_2\">\n   <g id=\"patch_7\">\n    <path d=\"M 391.38125 388.76 \nL 705.18125 388.76 \nL 705.18125 49.16 \nL 391.38125 49.16 \nz\n\" style=\"fill:#ffffff;\"/>\n   </g>\n   <g id=\"matplotlib.axis_3\">\n    <g id=\"xtick_6\">\n     <g id=\"line2d_13\">\n      <g>\n       <use style=\"stroke:#000000;stroke-width:0.8;\" x=\"422.76125\" xlink:href=\"#m29fb7ec006\" y=\"388.76\"/>\n      </g>\n     </g>\n     <g id=\"text_17\">\n      <!-- −0.4 -->\n      <g transform=\"translate(410.619844 403.358437)scale(0.1 -0.1)\">\n       <use xlink:href=\"#DejaVuSans-8722\"/>\n       <use x=\"83.789062\" xlink:href=\"#DejaVuSans-48\"/>\n       <use x=\"147.412109\" xlink:href=\"#DejaVuSans-46\"/>\n       <use x=\"179.199219\" xlink:href=\"#DejaVuSans-52\"/>\n      </g>\n     </g>\n    </g>\n    <g id=\"xtick_7\">\n     <g id=\"line2d_14\">\n      <g>\n       <use style=\"stroke:#000000;stroke-width:0.8;\" x=\"485.52125\" xlink:href=\"#m29fb7ec006\" y=\"388.76\"/>\n      </g>\n     </g>\n     <g id=\"text_18\">\n      <!-- −0.2 -->\n      <g transform=\"translate(473.379844 403.358437)scale(0.1 -0.1)\">\n       <use xlink:href=\"#DejaVuSans-8722\"/>\n       <use x=\"83.789062\" xlink:href=\"#DejaVuSans-48\"/>\n       <use x=\"147.412109\" xlink:href=\"#DejaVuSans-46\"/>\n       <use x=\"179.199219\" xlink:href=\"#DejaVuSans-50\"/>\n      </g>\n     </g>\n    </g>\n    <g id=\"xtick_8\">\n     <g id=\"line2d_15\">\n      <g>\n       <use style=\"stroke:#000000;stroke-width:0.8;\" x=\"548.28125\" xlink:href=\"#m29fb7ec006\" y=\"388.76\"/>\n      </g>\n     </g>\n     <g id=\"text_19\">\n      <!-- 0.0 -->\n      <g transform=\"translate(540.329687 403.358437)scale(0.1 -0.1)\">\n       <use xlink:href=\"#DejaVuSans-48\"/>\n       <use x=\"63.623047\" xlink:href=\"#DejaVuSans-46\"/>\n       <use x=\"95.410156\" xlink:href=\"#DejaVuSans-48\"/>\n      </g>\n     </g>\n    </g>\n    <g id=\"xtick_9\">\n     <g id=\"line2d_16\">\n      <g>\n       <use style=\"stroke:#000000;stroke-width:0.8;\" x=\"611.04125\" xlink:href=\"#m29fb7ec006\" y=\"388.76\"/>\n      </g>\n     </g>\n     <g id=\"text_20\">\n      <!-- 0.2 -->\n      <g transform=\"translate(603.089687 403.358437)scale(0.1 -0.1)\">\n       <use xlink:href=\"#DejaVuSans-48\"/>\n       <use x=\"63.623047\" xlink:href=\"#DejaVuSans-46\"/>\n       <use x=\"95.410156\" xlink:href=\"#DejaVuSans-50\"/>\n      </g>\n     </g>\n    </g>\n    <g id=\"xtick_10\">\n     <g id=\"line2d_17\">\n      <g>\n       <use style=\"stroke:#000000;stroke-width:0.8;\" x=\"673.80125\" xlink:href=\"#m29fb7ec006\" y=\"388.76\"/>\n      </g>\n     </g>\n     <g id=\"text_21\">\n      <!-- 0.4 -->\n      <g transform=\"translate(665.849687 403.358437)scale(0.1 -0.1)\">\n       <use xlink:href=\"#DejaVuSans-48\"/>\n       <use x=\"63.623047\" xlink:href=\"#DejaVuSans-46\"/>\n       <use x=\"95.410156\" xlink:href=\"#DejaVuSans-52\"/>\n      </g>\n     </g>\n    </g>\n    <g id=\"text_22\">\n     <!-- Gaze X position (m) -->\n     <g transform=\"translate(498.873438 417.036562)scale(0.1 -0.1)\">\n      <use xlink:href=\"#DejaVuSans-71\"/>\n      <use x=\"77.490234\" xlink:href=\"#DejaVuSans-97\"/>\n      <use x=\"138.769531\" xlink:href=\"#DejaVuSans-122\"/>\n      <use x=\"191.259766\" xlink:href=\"#DejaVuSans-101\"/>\n      <use x=\"252.783203\" xlink:href=\"#DejaVuSans-32\"/>\n      <use x=\"284.570312\" xlink:href=\"#DejaVuSans-88\"/>\n      <use x=\"353.076172\" xlink:href=\"#DejaVuSans-32\"/>\n      <use x=\"384.863281\" xlink:href=\"#DejaVuSans-112\"/>\n      <use x=\"448.339844\" xlink:href=\"#DejaVuSans-111\"/>\n      <use x=\"509.521484\" xlink:href=\"#DejaVuSans-115\"/>\n      <use x=\"561.621094\" xlink:href=\"#DejaVuSans-105\"/>\n      <use x=\"589.404297\" xlink:href=\"#DejaVuSans-116\"/>\n      <use x=\"628.613281\" xlink:href=\"#DejaVuSans-105\"/>\n      <use x=\"656.396484\" xlink:href=\"#DejaVuSans-111\"/>\n      <use x=\"717.578125\" xlink:href=\"#DejaVuSans-110\"/>\n      <use x=\"780.957031\" xlink:href=\"#DejaVuSans-32\"/>\n      <use x=\"812.744141\" xlink:href=\"#DejaVuSans-40\"/>\n      <use x=\"851.757812\" xlink:href=\"#DejaVuSans-109\"/>\n      <use x=\"949.169922\" xlink:href=\"#DejaVuSans-41\"/>\n     </g>\n    </g>\n   </g>\n   <g id=\"matplotlib.axis_4\">\n    <g id=\"ytick_7\">\n     <g id=\"line2d_18\">\n      <g>\n       <use style=\"stroke:#000000;stroke-width:0.8;\" x=\"391.38125\" xlink:href=\"#m106f3a41cb\" y=\"357.887273\"/>\n      </g>\n     </g>\n     <g id=\"text_23\">\n      <!-- 0.0 -->\n      <g transform=\"translate(368.478125 361.686491)scale(0.1 -0.1)\">\n       <use xlink:href=\"#DejaVuSans-48\"/>\n       <use x=\"63.623047\" xlink:href=\"#DejaVuSans-46\"/>\n       <use x=\"95.410156\" xlink:href=\"#DejaVuSans-48\"/>\n      </g>\n     </g>\n    </g>\n    <g id=\"ytick_8\">\n     <g id=\"line2d_19\">\n      <g>\n       <use style=\"stroke:#000000;stroke-width:0.8;\" x=\"391.38125\" xlink:href=\"#m106f3a41cb\" y=\"296.141818\"/>\n      </g>\n     </g>\n     <g id=\"text_24\">\n      <!-- 0.2 -->\n      <g transform=\"translate(368.478125 299.941037)scale(0.1 -0.1)\">\n       <use xlink:href=\"#DejaVuSans-48\"/>\n       <use x=\"63.623047\" xlink:href=\"#DejaVuSans-46\"/>\n       <use x=\"95.410156\" xlink:href=\"#DejaVuSans-50\"/>\n      </g>\n     </g>\n    </g>\n    <g id=\"ytick_9\">\n     <g id=\"line2d_20\">\n      <g>\n       <use style=\"stroke:#000000;stroke-width:0.8;\" x=\"391.38125\" xlink:href=\"#m106f3a41cb\" y=\"234.396364\"/>\n      </g>\n     </g>\n     <g id=\"text_25\">\n      <!-- 0.4 -->\n      <g transform=\"translate(368.478125 238.195582)scale(0.1 -0.1)\">\n       <use xlink:href=\"#DejaVuSans-48\"/>\n       <use x=\"63.623047\" xlink:href=\"#DejaVuSans-46\"/>\n       <use x=\"95.410156\" xlink:href=\"#DejaVuSans-52\"/>\n      </g>\n     </g>\n    </g>\n    <g id=\"ytick_10\">\n     <g id=\"line2d_21\">\n      <g>\n       <use style=\"stroke:#000000;stroke-width:0.8;\" x=\"391.38125\" xlink:href=\"#m106f3a41cb\" y=\"172.650909\"/>\n      </g>\n     </g>\n     <g id=\"text_26\">\n      <!-- 0.6 -->\n      <g transform=\"translate(368.478125 176.450128)scale(0.1 -0.1)\">\n       <use xlink:href=\"#DejaVuSans-48\"/>\n       <use x=\"63.623047\" xlink:href=\"#DejaVuSans-46\"/>\n       <use x=\"95.410156\" xlink:href=\"#DejaVuSans-54\"/>\n      </g>\n     </g>\n    </g>\n    <g id=\"ytick_11\">\n     <g id=\"line2d_22\">\n      <g>\n       <use style=\"stroke:#000000;stroke-width:0.8;\" x=\"391.38125\" xlink:href=\"#m106f3a41cb\" y=\"110.905455\"/>\n      </g>\n     </g>\n     <g id=\"text_27\">\n      <!-- 0.8 -->\n      <g transform=\"translate(368.478125 114.704673)scale(0.1 -0.1)\">\n       <use xlink:href=\"#DejaVuSans-48\"/>\n       <use x=\"63.623047\" xlink:href=\"#DejaVuSans-46\"/>\n       <use x=\"95.410156\" xlink:href=\"#DejaVuSans-56\"/>\n      </g>\n     </g>\n    </g>\n    <g id=\"ytick_12\">\n     <g id=\"line2d_23\">\n      <g>\n       <use style=\"stroke:#000000;stroke-width:0.8;\" x=\"391.38125\" xlink:href=\"#m106f3a41cb\" y=\"49.16\"/>\n      </g>\n     </g>\n     <g id=\"text_28\">\n      <!-- 1.0 -->\n      <g transform=\"translate(368.478125 52.959219)scale(0.1 -0.1)\">\n       <use xlink:href=\"#DejaVuSans-49\"/>\n       <use x=\"63.623047\" xlink:href=\"#DejaVuSans-46\"/>\n       <use x=\"95.410156\" xlink:href=\"#DejaVuSans-48\"/>\n      </g>\n     </g>\n    </g>\n   </g>\n   <g id=\"line2d_24\">\n    <path clip-path=\"url(#p4468707842)\" d=\"M 591.161893 178.504407 \nL 595.334923 179.217726 \nL 591.161893 179.931045 \nL 591.161893 179.931045 \nL 585.545184 264.492715 \nL 585.545184 264.492715 \nM 513.040479 251.64476 \nL 512.402637 249.569715 \nL 512.402637 249.569715 \nL 491.7909 209.081806 \nL 491.662963 208.981802 \nL 490.670663 207.702 \nL 490.670663 207.702 \nL 490.732362 209.814189 \nL 493.547118 215.690209 \nL 494.666768 218.296296 \nL 495.428159 221.002303 \nL 495.53588 221.040974 \nL 495.653438 221.5547 \nL 496.062236 222.010029 \nL 498.234788 225.180179 \nL 499.345474 236.583951 \nL 500.019489 236.85012 \nL 500.019489 243.422162 \nL 499.221191 243.422162 \nL 499.146923 247.149457 \nL 498.75299 251.566636 \nL 498.666788 255.142165 \nL 497.455469 255.370799 \nL 494.252878 255.901101 \nL 493.4991 256.108137 \nL 493.398805 258.278971 \nL 492.998223 259.230765 \nL 491.724936 259.471067 \nL 490.220136 259.587213 \nL 488.969077 257.759605 \nL 488.969077 257.759605 \nL 489.210979 259.276282 \nL 489.183576 259.276282 \nL 489.09689 259.271847 \nL 489.09689 259.256233 \nL 487.635869 256.88795 \nL 487.262436 256.791802 \nL 486.338102 255.191628 \nL 486.511938 255.768646 \nL 486.564382 255.940149 \nL 486.454412 255.927553 \nL 484.899493 253.596588 \nL 485.011613 253.913923 \nL 484.473347 253.517517 \nL 484.386219 253.373957 \nL 484.306311 253.248513 \nL 484.608747 253.825214 \nL 484.634294 254.146262 \nL 484.966659 254.204208 \nL 485.743536 256.218565 \nL 485.943215 261.31307 \nL 485.943215 263.149695 \nL 483.471489 264.087706 \nL 482.779682 264.683659 \nL 482.269752 265.41664 \nL 481.22874 265.544076 \nL 480.887498 265.656211 \nL 479.468342 265.675606 \nL 479.210905 266.890671 \nL 478.572479 268.258617 \nL 477.75428 268.413034 \nL 477.348853 271.400549 \nL 476.371849 271.628876 \nL 474.179532 271.525219 \nL 474.00761 271.493725 \nL 469.226683 266.407446 \nL 469.219341 266.113296 \nL 468.882484 266.02876 \nL 469.219341 266.113296 \nL 495.844672 297.576018 \nL 495.734389 297.572605 \nL 495.678876 297.522704 \nL 495.837527 297.498487 \nL 495.837527 297.498487 \nL 495.840127 297.22866 \nL 495.75163 297.105094 \nL 495.207682 296.606793 \nL 495.348686 296.706939 \nL 495.823827 296.971705 \nL 495.703191 297.005725 \nL 495.63293 297.017507 \nL 495.864428 296.908905 \nL 495.838809 296.868141 \nL 495.845771 296.782298 \nL 495.914284 296.827524 \nL 496.008781 296.841408 \nL 496.022074 296.783708 \nL 496.155031 296.674755 \nL 496.267311 296.674317 \nL 496.107231 296.573026 \nL 496.014401 296.522155 \nL 496.2114 296.522482 \nL 496.2114 296.512982 \nL 496.183026 296.519547 \nL 496.183057 295.448878 \nL 496.084069 295.383824 \nL 496.289559 295.389713 \nL 496.338423 295.290661 \nL 496.318144 294.990697 \nL 475.327449 270.329793 \nL 475.405133 270.372747 \nL 475.72325 270.372747 \nL 475.72325 270.286973 \nL 475.735188 270.155986 \nL 475.821939 270.299932 \nL 476.038517 270.455747 \nL 476.726459 270.4708 \nL 476.696853 270.4708 \nL 476.696853 270.436168 \nL 477.625368 270.4708 \nL 477.625368 270.4708 \nL 479.629104 272.571556 \nL 480.926108 274.145963 \nL 481.57181 274.240832 \nL 481.57181 274.240832 \nL 483.239785 276.054419 \nL 483.718063 276.1077 \nL 484.37633 276.532574 \nL 484.37633 276.532574 \nL 484.831892 275.615003 \nL 485.124106 275.615003 \nL 498.898362 282.135625 \nL 514.012094 289.636252 \nL 514.012094 289.636252 \nL 516.223473 306.93134 \nL 516.223473 306.93134 \nL 519.198783 306.93134 \nL 516.223473 307.816957 \nL 516.223473 307.816957 \nM 528.445677 286.528349 \nL 495.649165 258.621296 \nL 495.649165 258.621296 \nL 497.151783 265.120936 \nL 497.151783 265.120936 \nL 493.062398 260.165892 \nL 488.813864 255.210848 \nL 488.609017 255.210848 \nL 488.609017 255.306523 \nL 488.609017 255.402197 \nL 489.392375 257.712166 \nL 491.635945 261.485529 \nL 494.327128 264.979198 \nL 494.327128 264.979198 \nL 502.998956 278.465108 \nL 503.027538 278.712311 \nL 502.930579 278.549673 \nL 502.608858 278.019643 \nL 502.301543 277.468571 \nL 502.301543 277.468571 \nL 493.836017 264.712826 \nL 493.886522 264.728688 \nL 493.975934 265.482711 \nL 494.181621 265.463491 \nL 494.500392 266.153637 \nL 494.421476 265.830294 \nL 494.592848 266.070168 \nL 494.214304 265.555604 \nL 493.77315 264.918031 \nL 493.77315 264.918031 \nL 495.963396 268.797535 \nL 495.278177 267.358982 \nL 495.283465 267.330957 \nL 495.358798 267.330957 \nL 495.507134 267.330957 \nL 495.590514 267.462924 \nL 495.422071 267.343704 \nL 495.422071 267.343704 \nL 495.51931 267.390164 \nL 495.172916 267.238571 \nL 494.525051 266.424706 \nL 495.043269 266.95562 \nL 494.665291 266.438926 \nL 494.193255 265.627872 \nL 494.207026 265.627872 \nL 494.193991 265.336258 \nL 493.760009 265.25985 \nL 493.760009 265.25985 \nL 494.592752 266.244371 \nL 494.592752 266.239927 \nL 494.469253 265.748899 \nL 494.520188 265.748899 \nL 494.684972 265.784851 \nL 494.684972 265.784851 \nL 494.012294 264.605793 \nL 493.710782 264.167311 \nL 494.189968 264.734558 \nL 494.877246 265.549334 \nL 494.85132 265.496374 \nL 494.687067 264.80085 \nL 494.832864 265.029858 \nL 495.147336 265.081529 \nL 495.417226 265.349783 \nL 495.676669 265.685975 \nL 495.676669 265.685975 \nL 496.239597 266.293697 \nL 496.732469 266.505305 \nL 496.131876 265.612829 \nL 496.942493 266.674462 \nL 497.038311 266.73654 \nL 497.038311 266.73654 \nL 497.134248 266.926564 \nL 496.919174 266.709848 \nL 496.569833 266.183554 \nL 496.504776 265.91536 \nL 496.545563 266.00677 \nL 496.983349 266.538778 \nL 496.983349 266.538778 \nL 497.476549 267.354658 \nL 497.451471 267.185957 \nL 497.345434 266.877385 \nL 496.882521 266.385447 \nL 497.403627 266.998735 \nL 497.265339 266.64351 \nL 497.033118 266.285324 \nL 496.880171 266.062775 \nL 496.811638 265.636962 \nL 496.644102 265.59578 \nL 496.644102 265.59578 \nL 496.524752 265.215129 \nL 496.435525 265.159322 \nL 496.627741 265.226221 \nL 497.232336 266.311928 \nL 497.162458 266.028125 \nL 497.494561 266.366709 \nL 497.533713 266.294313 \nL 497.322917 265.827589 \nL 496.924785 265.372421 \nL 496.414287 264.608871 \nL 496.254176 264.435523 \nL 496.254176 264.435523 \nL 496.910764 265.687659 \nL 496.977207 266.036544 \nL 497.165086 266.13191 \nL 497.165004 266.13191 \nL 496.657838 265.325819 \nL 496.877768 265.518281 \nL 497.252433 265.622168 \nL 497.271853 265.888807 \nL 497.19855 265.888807 \nL 496.642545 265.225705 \nL 496.694743 265.241218 \nL 496.866964 265.429655 \nL 496.937618 265.569916 \nL 496.731653 265.292154 \nL 495.585501 263.794164 \nL 495.479146 263.548714 \nL 495.655304 263.812243 \nL 495.459811 263.68553 \nL 494.712687 262.130081 \nL 495.000994 262.74624 \nL 494.64979 262.532082 \nL 493.792668 261.585597 \nL 494.015633 261.910744 \nL 494.81258 263.121126 \nL 494.92831 263.121126 \nL 494.799791 263.074285 \nL 494.449691 262.49769 \nL 494.665202 263.020055 \nL 494.876636 263.420828 \nL 494.977822 263.586732 \nL 495.137946 263.736346 \nL 495.351412 263.790116 \nL 495.282399 263.632041 \nL 495.271336 263.585619 \nL 494.724956 262.786374 \nL 494.89512 263.146465 \nL 494.57294 263.250186 \nL 492.421964 263.403416 \nL 492.501226 264.293776 \nL 493.136945 266.082621 \nL 493.03936 265.928407 \nL 492.62147 265.126015 \nL 492.648665 265.126015 \nL 492.760501 265.20527 \nL 493.17934 265.827819 \nL 493.312206 266.058671 \nL 493.264183 266.057935 \nL 492.713759 265.863283 \nL 492.725024 265.969396 \nL 493.728317 267.268005 \nL 493.676252 267.268005 \nL 493.624188 267.268005 \nL 493.624188 267.268005 \nL 493.421703 266.817313 \nL 493.611915 267.038928 \nL 494.104234 267.549439 \nL 494.397516 267.645522 \nL 494.418651 267.660814 \nL 494.317926 267.436066 \nL 494.317926 267.436066 \nL 494.3823 267.436066 \nL 494.382141 267.340884 \nL 494.300218 266.958012 \nL 494.459667 267.251908 \nL 494.98553 268.091374 \nL 495.175076 268.106252 \nL 495.175076 268.080766 \nL 494.77736 267.757496 \nL 494.450196 267.349496 \nL 494.483299 267.445253 \nL 494.037956 266.755935 \nL 494.29564 266.910434 \nL 494.236059 266.585748 \nL 494.39904 266.800789 \nL 494.497185 266.83278 \nL 494.700496 267.251959 \nL 494.777505 267.357436 \nL 494.736833 267.369558 \nL 494.896242 267.599804 \nL 494.60646 267.283844 \nL 494.577055 267.26829 \nL 494.600061 267.402672 \nL 494.622337 267.4488 \nL 494.61097 266.836377 \nL 494.668396 266.955873 \nL 494.736319 267.075368 \nL 494.690324 266.835857 \nL 494.597961 266.531896 \nL 494.697962 266.624552 \nL 494.854556 266.883393 \nL 494.854593 266.928229 \nL 494.753405 266.670588 \nL 494.753405 266.670588 \nL 494.634359 266.121596 \nL 494.775574 266.381785 \nL 495.164195 266.828336 \nL 495.154301 266.828336 \nL 495.083497 267.091207 \nL 494.984118 267.345273 \nL 494.287766 267.426249 \nL 494.138205 267.485631 \nL 494.214124 268.520692 \nL 494.875631 269.427826 \nL 494.724772 269.112897 \nL 494.833107 269.160239 \nL 494.924983 269.403241 \nL 495.136485 269.552699 \nL 495.136485 269.552699 \nL 495.285537 269.756055 \nL 495.060718 269.328655 \nL 494.835899 268.901255 \nL 495.128012 269.231867 \nL 495.144514 269.231867 \nL 495.139534 269.203722 \nL 495.016088 268.923558 \nL 495.210838 269.205135 \nL 495.491179 269.470094 \nL 495.55903 269.515012 \nL 495.371706 269.314656 \nL 495.240353 268.958392 \nL 495.522894 269.515012 \nL 495.346979 269.003366 \nL 495.77832 269.741876 \nL 495.38142 268.883194 \nL 495.169876 268.460188 \nL 494.789887 267.600457 \nL 495.333311 268.598605 \nL 495.17447 268.213239 \nL 495.3127 268.122022 \nL 495.245536 267.997577 \nL 495.01184 267.880718 \nL 494.921675 267.869019 \nL 494.819297 267.395353 \nL 494.744535 267.33207 \nL 494.664706 267.074871 \nL 494.182044 266.822512 \nL 494.036542 266.735344 \nL 493.984472 266.478614 \nL 494.244885 267.099998 \nL 494.424524 267.162766 \nL 494.424524 267.097229 \nL 494.424524 267.032014 \nL 494.394767 267.043823 \nL 494.309425 267.055632 \nL 494.309425 267.055632 \nL 494.258176 266.766405 \nL 494.390084 266.91222 \nL 494.429862 266.836276 \nL 494.326109 266.499076 \nL 494.150339 266.482708 \nL 494.326979 266.596651 \nL 494.657402 267.174221 \nL 494.328543 266.465797 \nL 493.999683 265.757373 \nL 494.152525 265.890228 \nL 494.305366 266.023101 \nL 494.235773 266.097306 \nL 494.319906 266.296641 \nL 494.403291 266.328889 \nL 494.515061 266.756524 \nL 494.634532 266.768227 \nL 494.622323 266.680755 \nL 494.622323 266.532806 \nL 494.598022 267.342347 \nL 494.315686 267.436007 \nL 494.421915 267.722699 \nL 494.956885 268.222283 \nL 494.956885 268.222283 \nL 495.127659 268.439836 \nL 495.156007 268.56573 \nL 495.000477 268.144481 \nL 494.785973 267.916035 \nL 495.038149 268.273771 \nL 495.052794 267.998097 \nL 495.159454 267.998097 \nL 495.159454 267.990175 \nL 495.139272 267.524817 \nL 495.258916 267.750549 \nL 495.331245 267.856773 \nL 495.362924 267.749537 \nL 495.545133 267.859597 \nL 495.896047 268.564217 \nL 496.059959 268.692168 \nL 495.973811 268.557376 \nL 495.880109 268.320566 \nL 495.607768 267.754101 \nL 495.607768 267.754101 \nL 495.907782 267.852016 \nL 496.285304 268.413075 \nL 496.382836 268.489354 \nL 496.369257 268.47812 \nL 496.132965 267.863572 \nL 496.2091 267.863572 \nL 496.432504 267.882084 \nL 496.399412 267.882084 \nL 496.120841 267.399144 \nL 496.169761 267.443307 \nL 496.446418 267.531271 \nL 496.449974 267.613936 \nL 496.442862 267.613936 \nL 496.154222 266.873208 \nL 496.467726 267.370161 \nL 496.597749 267.653591 \nL 496.597749 267.653591 \nL 495.897053 267.283287 \nL 495.116738 267.233833 \nL 495.116738 267.233833 \nL 495.24692 267.457012 \nL 495.47284 267.738335 \nL 495.984968 268.325001 \nL 496.136416 268.513433 \nL 495.638452 267.744693 \nL 495.560648 267.361687 \nL 495.342518 267.043101 \nL 495.000816 266.434974 \nL 495.584124 267.254935 \nL 495.697575 267.234008 \nL 495.616966 267.017256 \nL 495.426071 266.925855 \nL 495.33117 266.931293 \nL 495.33117 266.863777 \nL 495.226344 266.684233 \nL 495.076135 266.298384 \nL 494.965971 265.998057 \nL 495.025491 265.980695 \nL 495.119638 265.913851 \nL 495.132861 266.033526 \nL 495.374021 266.551585 \nL 495.374021 266.551309 \nL 495.866009 267.061787 \nL 495.45011 266.486057 \nL 495.390601 266.099919 \nL 495.489447 266.284128 \nL 496.636492 267.187369 \nL 496.787809 267.197564 \nL 496.787884 267.121841 \nL 510.042953 238.381242 \nL 510.042953 238.381242 \nL 510.470214 235.061036 \nL 510.470214 235.061036 \nM 511.746047 273.258703 \nL 511.730859 273.256367 \nL 511.730859 273.256367 \nL 502.831407 272.820663 \nL 504.498648 272.820663 \nL 506.165888 272.820663 \nL 506.165888 272.820663 \nL 506.165888 271.677529 \nL 502.831407 259.137267 \nL 502.831407 259.137267 \nL 493.631931 258.414158 \nL 493.386087 258.95148 \nL 493.245372 259.154578 \nL 492.95576 259.171889 \nL 492.885443 258.593197 \nL 492.822008 258.4207 \nL 492.100298 258.441982 \nL 492.100209 258.4207 \n\" style=\"fill:none;stroke:#1f77b4;stroke-linecap:square;stroke-width:2;\"/>\n   </g>\n   <g id=\"patch_8\">\n    <path d=\"M 391.38125 388.76 \nL 391.38125 49.16 \n\" style=\"fill:none;stroke:#000000;stroke-linecap:square;stroke-linejoin:miter;stroke-width:0.8;\"/>\n   </g>\n   <g id=\"patch_9\">\n    <path d=\"M 705.18125 388.76 \nL 705.18125 49.16 \n\" style=\"fill:none;stroke:#000000;stroke-linecap:square;stroke-linejoin:miter;stroke-width:0.8;\"/>\n   </g>\n   <g id=\"patch_10\">\n    <path d=\"M 391.38125 388.76 \nL 705.18125 388.76 \n\" style=\"fill:none;stroke:#000000;stroke-linecap:square;stroke-linejoin:miter;stroke-width:0.8;\"/>\n   </g>\n   <g id=\"patch_11\">\n    <path d=\"M 391.38125 49.16 \nL 705.18125 49.16 \n\" style=\"fill:none;stroke:#000000;stroke-linecap:square;stroke-linejoin:miter;stroke-width:0.8;\"/>\n   </g>\n   <g id=\"text_29\">\n    <!-- Filtered: 7 (ms) median -->\n    <g transform=\"translate(478.352188 43.16)scale(0.12 -0.12)\">\n     <defs>\n      <path d=\"M 9.8125 72.90625 \nL 51.703125 72.90625 \nL 51.703125 64.59375 \nL 19.671875 64.59375 \nL 19.671875 43.109375 \nL 48.578125 43.109375 \nL 48.578125 34.8125 \nL 19.671875 34.8125 \nL 19.671875 0 \nL 9.8125 0 \nz\n\" id=\"DejaVuSans-70\"/>\n      <path d=\"M 45.40625 46.390625 \nL 45.40625 75.984375 \nL 54.390625 75.984375 \nL 54.390625 0 \nL 45.40625 0 \nL 45.40625 8.203125 \nQ 42.578125 3.328125 38.25 0.953125 \nQ 33.9375 -1.421875 27.875 -1.421875 \nQ 17.96875 -1.421875 11.734375 6.484375 \nQ 5.515625 14.40625 5.515625 27.296875 \nQ 5.515625 40.1875 11.734375 48.09375 \nQ 17.96875 56 27.875 56 \nQ 33.9375 56 38.25 53.625 \nQ 42.578125 51.265625 45.40625 46.390625 \nz\nM 14.796875 27.296875 \nQ 14.796875 17.390625 18.875 11.75 \nQ 22.953125 6.109375 30.078125 6.109375 \nQ 37.203125 6.109375 41.296875 11.75 \nQ 45.40625 17.390625 45.40625 27.296875 \nQ 45.40625 37.203125 41.296875 42.84375 \nQ 37.203125 48.484375 30.078125 48.484375 \nQ 22.953125 48.484375 18.875 42.84375 \nQ 14.796875 37.203125 14.796875 27.296875 \nz\n\" id=\"DejaVuSans-100\"/>\n      <path d=\"M 11.71875 12.40625 \nL 22.015625 12.40625 \nL 22.015625 0 \nL 11.71875 0 \nz\nM 11.71875 51.703125 \nL 22.015625 51.703125 \nL 22.015625 39.3125 \nL 11.71875 39.3125 \nz\n\" id=\"DejaVuSans-58\"/>\n     </defs>\n     <use xlink:href=\"#DejaVuSans-70\"/>\n     <use x=\"50.269531\" xlink:href=\"#DejaVuSans-105\"/>\n     <use x=\"78.052734\" xlink:href=\"#DejaVuSans-108\"/>\n     <use x=\"105.835938\" xlink:href=\"#DejaVuSans-116\"/>\n     <use x=\"145.044922\" xlink:href=\"#DejaVuSans-101\"/>\n     <use x=\"206.568359\" xlink:href=\"#DejaVuSans-114\"/>\n     <use x=\"245.431641\" xlink:href=\"#DejaVuSans-101\"/>\n     <use x=\"306.955078\" xlink:href=\"#DejaVuSans-100\"/>\n     <use x=\"370.431641\" xlink:href=\"#DejaVuSans-58\"/>\n     <use x=\"404.123047\" xlink:href=\"#DejaVuSans-32\"/>\n     <use x=\"435.910156\" xlink:href=\"#DejaVuSans-55\"/>\n     <use x=\"499.533203\" xlink:href=\"#DejaVuSans-32\"/>\n     <use x=\"531.320312\" xlink:href=\"#DejaVuSans-40\"/>\n     <use x=\"570.333984\" xlink:href=\"#DejaVuSans-109\"/>\n     <use x=\"667.746094\" xlink:href=\"#DejaVuSans-115\"/>\n     <use x=\"719.845703\" xlink:href=\"#DejaVuSans-41\"/>\n     <use x=\"758.859375\" xlink:href=\"#DejaVuSans-32\"/>\n     <use x=\"790.646484\" xlink:href=\"#DejaVuSans-109\"/>\n     <use x=\"888.058594\" xlink:href=\"#DejaVuSans-101\"/>\n     <use x=\"949.582031\" xlink:href=\"#DejaVuSans-100\"/>\n     <use x=\"1013.058594\" xlink:href=\"#DejaVuSans-105\"/>\n     <use x=\"1040.841797\" xlink:href=\"#DejaVuSans-97\"/>\n     <use x=\"1102.121094\" xlink:href=\"#DejaVuSans-110\"/>\n    </g>\n   </g>\n   <g id=\"legend_1\">\n    <g id=\"patch_12\">\n     <path d=\"M 642.303125 86.51625 \nL 698.18125 86.51625 \nQ 700.18125 86.51625 700.18125 84.51625 \nL 700.18125 56.16 \nQ 700.18125 54.16 698.18125 54.16 \nL 642.303125 54.16 \nQ 640.303125 54.16 640.303125 56.16 \nL 640.303125 84.51625 \nQ 640.303125 86.51625 642.303125 86.51625 \nz\n\" style=\"fill:#ffffff;opacity:0.8;stroke:#cccccc;stroke-linejoin:miter;\"/>\n    </g>\n    <g id=\"text_30\">\n     <!-- Positions -->\n     <g transform=\"translate(648.173437 65.758438)scale(0.1 -0.1)\">\n      <defs>\n       <path d=\"M 19.671875 64.796875 \nL 19.671875 37.40625 \nL 32.078125 37.40625 \nQ 38.96875 37.40625 42.71875 40.96875 \nQ 46.484375 44.53125 46.484375 51.125 \nQ 46.484375 57.671875 42.71875 61.234375 \nQ 38.96875 64.796875 32.078125 64.796875 \nz\nM 9.8125 72.90625 \nL 32.078125 72.90625 \nQ 44.34375 72.90625 50.609375 67.359375 \nQ 56.890625 61.8125 56.890625 51.125 \nQ 56.890625 40.328125 50.609375 34.8125 \nQ 44.34375 29.296875 32.078125 29.296875 \nL 19.671875 29.296875 \nL 19.671875 0 \nL 9.8125 0 \nz\n\" id=\"DejaVuSans-80\"/>\n      </defs>\n      <use xlink:href=\"#DejaVuSans-80\"/>\n      <use x=\"56.677734\" xlink:href=\"#DejaVuSans-111\"/>\n      <use x=\"117.859375\" xlink:href=\"#DejaVuSans-115\"/>\n      <use x=\"169.958984\" xlink:href=\"#DejaVuSans-105\"/>\n      <use x=\"197.742188\" xlink:href=\"#DejaVuSans-116\"/>\n      <use x=\"236.951172\" xlink:href=\"#DejaVuSans-105\"/>\n      <use x=\"264.734375\" xlink:href=\"#DejaVuSans-111\"/>\n      <use x=\"325.916016\" xlink:href=\"#DejaVuSans-110\"/>\n      <use x=\"389.294922\" xlink:href=\"#DejaVuSans-115\"/>\n     </g>\n    </g>\n    <g id=\"line2d_25\">\n     <path d=\"M 644.303125 76.936563 \nL 664.303125 76.936563 \n\" style=\"fill:none;stroke:#1f77b4;stroke-linecap:square;stroke-width:2;\"/>\n    </g>\n    <g id=\"line2d_26\"/>\n    <g id=\"text_31\">\n     <!-- gaze -->\n     <g transform=\"translate(672.303125 80.436563)scale(0.1 -0.1)\">\n      <use xlink:href=\"#DejaVuSans-103\"/>\n      <use x=\"63.476562\" xlink:href=\"#DejaVuSans-97\"/>\n      <use x=\"124.755859\" xlink:href=\"#DejaVuSans-122\"/>\n      <use x=\"177.246094\" xlink:href=\"#DejaVuSans-101\"/>\n     </g>\n    </g>\n   </g>\n  </g>\n  <g id=\"text_32\">\n   <!-- Plot from dataframe  -->\n   <g transform=\"translate(293.68625 16.318125)scale(0.12 -0.12)\">\n    <defs>\n     <path d=\"M 37.109375 75.984375 \nL 37.109375 68.5 \nL 28.515625 68.5 \nQ 23.6875 68.5 21.796875 66.546875 \nQ 19.921875 64.59375 19.921875 59.515625 \nL 19.921875 54.6875 \nL 34.71875 54.6875 \nL 34.71875 47.703125 \nL 19.921875 47.703125 \nL 19.921875 0 \nL 10.890625 0 \nL 10.890625 47.703125 \nL 2.296875 47.703125 \nL 2.296875 54.6875 \nL 10.890625 54.6875 \nL 10.890625 58.5 \nQ 10.890625 67.625 15.140625 71.796875 \nQ 19.390625 75.984375 28.609375 75.984375 \nz\n\" id=\"DejaVuSans-102\"/>\n    </defs>\n    <use xlink:href=\"#DejaVuSans-80\"/>\n    <use x=\"60.302734\" xlink:href=\"#DejaVuSans-108\"/>\n    <use x=\"88.085938\" xlink:href=\"#DejaVuSans-111\"/>\n    <use x=\"149.267578\" xlink:href=\"#DejaVuSans-116\"/>\n    <use x=\"188.476562\" xlink:href=\"#DejaVuSans-32\"/>\n    <use x=\"220.263672\" xlink:href=\"#DejaVuSans-102\"/>\n    <use x=\"255.46875\" xlink:href=\"#DejaVuSans-114\"/>\n    <use x=\"294.332031\" xlink:href=\"#DejaVuSans-111\"/>\n    <use x=\"355.513672\" xlink:href=\"#DejaVuSans-109\"/>\n    <use x=\"452.925781\" xlink:href=\"#DejaVuSans-32\"/>\n    <use x=\"484.712891\" xlink:href=\"#DejaVuSans-100\"/>\n    <use x=\"548.189453\" xlink:href=\"#DejaVuSans-97\"/>\n    <use x=\"609.46875\" xlink:href=\"#DejaVuSans-116\"/>\n    <use x=\"648.677734\" xlink:href=\"#DejaVuSans-97\"/>\n    <use x=\"709.957031\" xlink:href=\"#DejaVuSans-102\"/>\n    <use x=\"745.162109\" xlink:href=\"#DejaVuSans-114\"/>\n    <use x=\"786.275391\" xlink:href=\"#DejaVuSans-97\"/>\n    <use x=\"847.554688\" xlink:href=\"#DejaVuSans-109\"/>\n    <use x=\"944.966797\" xlink:href=\"#DejaVuSans-101\"/>\n    <use x=\"1006.490234\" xlink:href=\"#DejaVuSans-32\"/>\n   </g>\n  </g>\n </g>\n <defs>\n  <clipPath id=\"p6918372099\">\n   <rect height=\"339.6\" width=\"313.8\" x=\"43.78125\" y=\"49.16\"/>\n  </clipPath>\n  <clipPath id=\"p4468707842\">\n   <rect height=\"339.6\" width=\"313.8\" x=\"391.38125\" y=\"49.16\"/>\n  </clipPath>\n </defs>\n</svg>\n",
      "text/plain": [
       "<Figure size 720x432 with 2 Axes>"
      ]
     },
     "metadata": {
      "needs_background": "light"
     },
     "output_type": "display_data"
    }
   ],
   "source": [
    "anim.static_simple_medfilt(df1, filt_df, plot=True, save=False)\n",
    "#         trial = Trial(dfs[i], filename)\n",
    "#         print(trial.duration)\n",
    "#         for s in FILTERS:\n",
    "#             #anim.animate_gaze_single_medfilt(trial, plot=True, save=False, filter=s, speed=1, filename=f[16:21]+str(s))\n",
    "#             anim.static_gaze_single_medfilt(trial, plot=False, save=True, filter=s,filename=f[16:21]+str(s))\n",
    "#     #plt.close()"
   ]
  },
  {
   "cell_type": "code",
   "execution_count": 25,
   "metadata": {},
   "outputs": [
    {
     "name": "stdout",
     "output_type": "stream",
     "text": [
      "Processing file :  ../files/utf8_2/Ball_on_Bar_-_Child_-_RIGHT_-_10_21.csv\n",
      "Trials:  1\n",
      "Process finished -- 2.08 seconds --\n"
     ]
    }
   ],
   "source": [
    "start_time = time.time()\n",
    "\n",
    "DIR = \"../files/utf8_2/\"\n",
    "FILES = []\n",
    "for root, dir, files in os.walk(DIR, topdown=False):\n",
    "    for file in sorted(files):\n",
    "        FILES.append(os.path.join(root, file))\n",
    "\n",
    "# Median filter window sizes to test\n",
    "FILTERS = [90]#, 150, 500]\n",
    "\n",
    "for f in FILES[:1]:\n",
    "    filename = \" \" + f[16:]\n",
    "    dfs = extract_dataframes(f, set=2)\n",
    "    print(\"Processing file : \", f), print(\"Trials: \", len(dfs))\n",
    "    # for i in range(len(dfs)):\n",
    "    #     trial = Trial(dfs[i], filename, 7)\n",
    "    #     #trial.plot_movements()\n",
    "    #     print(\"Trial {} duration : {} (s)\".format((i+1), trial.duration))\n",
    "    #     for s in FILTERS:\n",
    "    #         # animations only work outside of jupyter notebooks, but can still be saved here\n",
    "    #         anim.animate_gaze_single_medfilt(trial, plot=False, save=True, speed=50, filename=f[16:21]+str(s))\n",
    "    #         anim.static_gaze_single_medfilt(trial, plot=False, save=True, speed =2, filter=7,filename=f[16:21]+str(s))\n",
    "    \n",
    "\n",
    "\n",
    "print(\"Process finished -- %s seconds --\" % round((time.time() - start_time),2))"
   ]
  },
  {
   "cell_type": "markdown",
   "metadata": {},
   "source": [
    "### Experimental, to be deleted"
   ]
  },
  {
   "cell_type": "code",
   "execution_count": 26,
   "metadata": {},
   "outputs": [
    {
     "data": {
      "text/plain": [
       "3979"
      ]
     },
     "execution_count": 26,
     "metadata": {},
     "output_type": "execute_result"
    }
   ],
   "source": [
    "newdf = pd.DataFrame()\n",
    "arr = []\n",
    "for i in range(len(df)):\n",
    "    arr.append(np.nanmedian(df['Gaze_X'][i-7:i+6]))\n",
    "\n",
    "newdf['filt 2'] = arr\n",
    "nona_len # 3938\n",
    "\n",
    "len(newdf.dropna())\n"
   ]
  },
  {
   "cell_type": "code",
   "execution_count": null,
   "metadata": {},
   "outputs": [
    {
     "data": {
      "text/plain": [
       "(3938,)"
      ]
     },
     "execution_count": 167,
     "metadata": {},
     "output_type": "execute_result"
    }
   ],
   "source": [
    "x = df['Gaze_X']\n",
    "x = x[np.logical_not(np.isnan(x))]\n",
    "fx = medfilt(df['Gaze_X'], 7)\n",
    "fx = fx[np.logical_not(np.isnan(fx))]\n",
    "np.shape(fx)"
   ]
  },
  {
   "cell_type": "code",
   "execution_count": null,
   "metadata": {},
   "outputs": [
    {
     "data": {
      "text/plain": [
       "array([ True,  True,  True, ..., False, False, False])"
      ]
     },
     "execution_count": 67,
     "metadata": {},
     "output_type": "execute_result"
    }
   ],
   "source": [
    "newdf['filtered'].isnull().values"
   ]
  },
  {
   "cell_type": "code",
   "execution_count": null,
   "metadata": {},
   "outputs": [],
   "source": [
    "# def medfilt(array, f):\n",
    "#     arr = []\n",
    "#     for i, j in enumerate(array[:f]):\n",
    "#         arr.append(np.median(array[:i+f]))\n",
    "#     for i, j in enumerate(array[f:-f]):\n",
    "#         #print(array[i:i+2*f])#, j)\n",
    "#         arr.append(np.median(array[i:i+2*f+1]))\n",
    "#         print(array[i:i+2*f+1])\n",
    "#     for i, j in enumerate(array[-f:]):\n",
    "#         print((array[i-f:]))\n",
    "#     return arr\n",
    "\n",
    "\n",
    "# x = [4,5,6,10,3,2,8,9]\n",
    "# a = medfilt(x, 2)\n",
    "# a\n",
    "# #len(a)"
   ]
  },
  {
   "cell_type": "code",
   "execution_count": null,
   "metadata": {},
   "outputs": [
    {
     "data": {
      "text/plain": [
       "(1, 798)"
      ]
     },
     "execution_count": 139,
     "metadata": {},
     "output_type": "execute_result"
    }
   ],
   "source": [
    "np.shape(np.where(df['Gaze_X'].isnull()))"
   ]
  },
  {
   "cell_type": "code",
   "execution_count": null,
   "metadata": {},
   "outputs": [
    {
     "data": {
      "text/plain": [
       "(1, 795)"
      ]
     },
     "execution_count": 72,
     "metadata": {},
     "output_type": "execute_result"
    }
   ],
   "source": [
    "np.shape(np.where(newdf['filtered'].isnull()))"
   ]
  },
  {
   "cell_type": "code",
   "execution_count": null,
   "metadata": {},
   "outputs": [
    {
     "data": {
      "text/plain": [
       "array([ 4.,  3.,  7.,  5.,  9.,  0.,  0., 10.,  8.,  1.])"
      ]
     },
     "execution_count": 30,
     "metadata": {},
     "output_type": "execute_result"
    }
   ],
   "source": [
    "\n",
    "z = (np.random.rand(10)*10).round()\n",
    "z"
   ]
  },
  {
   "cell_type": "code",
   "execution_count": null,
   "metadata": {},
   "outputs": [
    {
     "data": {
      "text/plain": [
       "array([4., 4., 5., 5., 5., 5., 8., 1., 1., 8.])"
      ]
     },
     "execution_count": 35,
     "metadata": {},
     "output_type": "execute_result"
    }
   ],
   "source": [
    "median_filter(z,5)"
   ]
  },
  {
   "cell_type": "code",
   "execution_count": null,
   "metadata": {},
   "outputs": [],
   "source": [
    "def check_na(df):\n",
    "    trials, nax, nay, lengths, percents = [], [], [], [], []\n",
    "    for i in range(len(df)):\n",
    "        trials.append(i)\n",
    "        na_X, na_Y =  df[i]['Gaze_X'].isna().sum(), df[i]['Gaze_Y'].isna().sum()\n",
    "        nax.append(na_X), nay.append(na_Y)\n",
    "        lengths.append(len(df[i]))\n",
    "        percents.append(round(na_X / len(df[i]) * 100, 2))\n",
    "    d = {'Trial': trials, 'Na X': nax, 'Na Y': nay, 'Total': lengths ,'Na %': percents}\n",
    "    df_na = pd.DataFrame(d)\n",
    "    return df_na.set_index('Trial')"
   ]
  }
 ],
 "metadata": {
  "interpreter": {
   "hash": "40d3a090f54c6569ab1632332b64b2c03c39dcf918b08424e98f38b5ae0af88f"
  },
  "kernelspec": {
   "display_name": "Python 3.8.8 ('base')",
   "language": "python",
   "name": "python3"
  },
  "language_info": {
   "codemirror_mode": {
    "name": "ipython",
    "version": 3
   },
   "file_extension": ".py",
   "mimetype": "text/x-python",
   "name": "python",
   "nbconvert_exporter": "python",
   "pygments_lexer": "ipython3",
   "version": "3.8.8"
  },
  "orig_nbformat": 4
 },
 "nbformat": 4,
 "nbformat_minor": 2
}
