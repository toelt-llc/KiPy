{
 "cells": [
  {
   "cell_type": "markdown",
   "metadata": {},
   "source": [
    "# Notebook for statistical exploration and analysis"
   ]
  },
  {
   "cell_type": "markdown",
   "metadata": {},
   "source": [
    "Imports"
   ]
  },
  {
   "cell_type": "code",
   "execution_count": 62,
   "metadata": {},
   "outputs": [],
   "source": [
    "from csv_load import *\n",
    "import numpy as np\n",
    "import sys\n",
    "sys.path.append('./animations/')\n",
    "import anim"
   ]
  },
  {
   "cell_type": "markdown",
   "metadata": {},
   "source": [
    "Files"
   ]
  },
  {
   "cell_type": "code",
   "execution_count": 29,
   "metadata": {},
   "outputs": [],
   "source": [
    "reaching = \"../files/utf8/Visually_Guided_Reaching_-_[Child_v2_-_practice]_-_LEFT_-_11_49.csv\"\n",
    "reaching2 = \"../files/utf8/Visually_Guided_Reaching_-_Child_v2_(4_target)_-_LEFT_-_11_50.csv\"\n",
    "practice_ball = \"../files/utf8/Ball_on_Bar_-_[Child_-_practice_2_(30s_per_level)]_-_RIGHT_-_11_57.csv\"\n",
    "ball = \"../files/utf8/Ball_on_Bar_-_Child_-_RIGHT_-_11_59.csv\"\n",
    "practice_object = \"../files/utf8/Object_Hit_-_[Child_-_practice]_-_RIGHT_-_12_02.csv\""
   ]
  },
  {
   "cell_type": "markdown",
   "metadata": {},
   "source": [
    "Dataframe loads"
   ]
  },
  {
   "cell_type": "code",
   "execution_count": 30,
   "metadata": {},
   "outputs": [],
   "source": [
    "EXERCISE = reaching\n",
    "dfs = extract_dataframes(EXERCISE)"
   ]
  },
  {
   "cell_type": "markdown",
   "metadata": {},
   "source": [
    "### Tests"
   ]
  },
  {
   "cell_type": "code",
   "execution_count": 48,
   "metadata": {},
   "outputs": [
    {
     "data": {
      "text/plain": [
       "Index(['Trial #', 'TP Row', 'Block Row', 'Sample duration (s)', 'Sample count',\n",
       "       'Event name', 'Event time (s)', 'Video frame sent', 'Video frame ACKed',\n",
       "       'Frame #', 'Frame time (s)', 'Right_L1Ang', 'Right_L2Ang',\n",
       "       'Right_L1Vel', 'Right_L2Vel', 'Right_L1Acc', 'Right_L2Acc',\n",
       "       'Right_M1TorCMD', 'Right_M2TorCMD', 'Right_RecTorque_M1',\n",
       "       'Right_RecTorque_M2', 'Left_L1Ang', 'Left_L2Ang', 'Left_L1Vel',\n",
       "       'Left_L2Vel', 'Left_L1Acc', 'Left_L2Acc', 'Left_M1TorCMD',\n",
       "       'Left_M2TorCMD', 'Left_RecTorque_M1', 'Left_RecTorque_M2', 'Gaze_X',\n",
       "       'Gaze_Y', 'Gaze_TimeStamp', 'Gaze_PupilArea', 'Gaze_Vector_X',\n",
       "       'Gaze_Vector_Y', 'Gaze_Vector_Z', 'Gaze_Pupil_X', 'Gaze_Pupil_Y',\n",
       "       'Gaze_Pupil_Z', 'StatusBits', 'ACH0', 'ACH1', 'ACH2', 'ACH3', 'ACH4',\n",
       "       'ACH5', 'ACH6', 'ACH7', 'ACH8', 'ACH9', 'ACH10', 'ACH11', 'ACH12',\n",
       "       'ACH13', 'ACH14', 'ACH15', 'TTL_bits', 'Right: Hand position X',\n",
       "       'Right: Hand position Y', 'Right: Hand speed', 'Right: Hand velocity X',\n",
       "       'Right: Hand velocity Y', 'Right: Hand acceleration',\n",
       "       'Right: Hand acceleration X', 'Right: Hand acceleration Y',\n",
       "       'Right: Hand cmd force X', 'Right: Hand cmd force Y',\n",
       "       'Right: Hand cmd force', 'Right: Shoulder angle', 'Right: Elbow angle',\n",
       "       'Right: Shoulder velocity', 'Right: Elbow velocity',\n",
       "       'Right: Shoulder acceleration', 'Right: Elbow acceleration',\n",
       "       'Right: Cmd shoulder torque', 'Right: Cmd elbow torque',\n",
       "       'Left: Hand position X', 'Left: Hand position Y', 'Left: Hand speed',\n",
       "       'Left: Hand velocity X', 'Left: Hand velocity Y',\n",
       "       'Left: Hand acceleration', 'Left: Hand acceleration X',\n",
       "       'Left: Hand acceleration Y', 'Left: Hand cmd force X',\n",
       "       'Left: Hand cmd force Y', 'Left: Hand cmd force',\n",
       "       'Left: Shoulder angle', 'Left: Elbow angle', 'Left: Shoulder velocity',\n",
       "       'Left: Elbow velocity', 'Left: Shoulder acceleration',\n",
       "       'Left: Elbow acceleration', 'Left: Cmd shoulder torque',\n",
       "       'Left: Cmd elbow torque', 'Video frame interval time',\n",
       "       'Video frame drop count'],\n",
       "      dtype='object')"
      ]
     },
     "execution_count": 48,
     "metadata": {},
     "output_type": "execute_result"
    }
   ],
   "source": [
    "#dfs[0].columns"
   ]
  },
  {
   "cell_type": "code",
   "execution_count": 33,
   "metadata": {},
   "outputs": [
    {
     "name": "stdout",
     "output_type": "stream",
     "text": [
      "\n"
     ]
    }
   ],
   "source": [
    "trial = Trial(dfs[0])"
   ]
  },
  {
   "cell_type": "code",
   "execution_count": 34,
   "metadata": {},
   "outputs": [
    {
     "data": {
      "text/plain": [
       "['Gaze saccade start',\n",
       " 'TARGET_ON',\n",
       " 'STAY_CENTRE',\n",
       " 'HOLD_AT_TARGET',\n",
       " 'END_OF_REACH',\n",
       " 'WAIT_FOR_START',\n",
       " 'Gaze fixation start',\n",
       " 'Gaze fixation end',\n",
       " 'Gaze saccade end',\n",
       " 'EXIT_START_TARGET']"
      ]
     },
     "execution_count": 34,
     "metadata": {},
     "output_type": "execute_result"
    }
   ],
   "source": [
    "# Unique events\n",
    "list(set(trial.event_list))"
   ]
  },
  {
   "cell_type": "code",
   "execution_count": 35,
   "metadata": {},
   "outputs": [],
   "source": [
    "rowspeed = dfs[0]['Sample duration (s)']"
   ]
  },
  {
   "cell_type": "code",
   "execution_count": 41,
   "metadata": {},
   "outputs": [
    {
     "data": {
      "text/plain": [
       "[(182.0, 0.181999996),\n",
       " (311.0, 0.31099999),\n",
       " (1946.0, 1.94599998),\n",
       " (1988.0, 1.98800004),\n",
       " (2229.0, 2.22900009),\n",
       " (2249.0, 2.24900007),\n",
       " (2765.0, 2.7650001),\n",
       " (2789.0, 2.78900003),\n",
       " (4454.0, 4.454),\n",
       " (4625.0, 4.625),\n",
       " (5247.0, 5.24700022),\n",
       " (5263.0, 5.26300001),\n",
       " (5859.0, 5.85900021),\n",
       " (5899.0, 5.89900017),\n",
       " (7549.0, 7.54899979),\n",
       " (7743.0, 7.74300003)]"
      ]
     },
     "execution_count": 41,
     "metadata": {},
     "output_type": "execute_result"
    }
   ],
   "source": [
    "trial.saccades"
   ]
  },
  {
   "cell_type": "code",
   "execution_count": 37,
   "metadata": {},
   "outputs": [
    {
     "data": {
      "text/plain": [
       "[80.0, 29.0, 21.0, 36.0, 18.0, 26.0, 30.0, 25.0, 24.0, 16.0]"
      ]
     },
     "execution_count": 37,
     "metadata": {},
     "output_type": "execute_result"
    }
   ],
   "source": [
    "durations = []\n",
    "for i in range(1, len(trial.saccades), 2):\n",
    "    durations.append(trial.saccades[i][0]-trial.saccades[i-1][0])\n",
    "durations"
   ]
  },
  {
   "cell_type": "code",
   "execution_count": 80,
   "metadata": {},
   "outputs": [
    {
     "name": "stdout",
     "output_type": "stream",
     "text": [
      "\n",
      "10.0 1.0 0.0\n",
      "{'saccades': (30.5, 17.41), 'fixations': (145.0, 0.0), 'blinks': (nan, nan)}\n",
      "Horizontal :  0.197 . Vertical :  0.084\n",
      "\n",
      "11.0 3.0 0.0\n",
      "{'saccades': (37.64, 37.21), 'fixations': (829.33, 859.14), 'blinks': (nan, nan)}\n",
      "Horizontal :  0.101 . Vertical :  0.15\n",
      "\n",
      "8.0 2.0 2.0\n",
      "{'saccades': (79.5, 68.51), 'fixations': (1119.0, 527.0), 'blinks': (76.5, 8.5)}\n",
      "Horizontal :  0.473 . Vertical :  0.356\n"
     ]
    },
    {
     "name": "stderr",
     "output_type": "stream",
     "text": [
      "/opt/anaconda3/lib/python3.8/site-packages/numpy/core/fromnumeric.py:3474: RuntimeWarning: Mean of empty slice.\n",
      "  return _methods._mean(a, axis=axis, dtype=dtype,\n",
      "/opt/anaconda3/lib/python3.8/site-packages/numpy/core/_methods.py:189: RuntimeWarning: invalid value encountered in double_scalars\n",
      "  ret = ret.dtype.type(ret / rcount)\n",
      "/opt/anaconda3/lib/python3.8/site-packages/numpy/core/_methods.py:264: RuntimeWarning: Degrees of freedom <= 0 for slice\n",
      "  ret = _var(a, axis=axis, dtype=dtype, out=out, ddof=ddof,\n",
      "/opt/anaconda3/lib/python3.8/site-packages/numpy/core/_methods.py:222: RuntimeWarning: invalid value encountered in true_divide\n",
      "  arrmean = um.true_divide(arrmean, div, out=arrmean, casting='unsafe',\n",
      "/opt/anaconda3/lib/python3.8/site-packages/numpy/core/_methods.py:256: RuntimeWarning: invalid value encountered in double_scalars\n",
      "  ret = ret.dtype.type(ret / rcount)\n"
     ]
    }
   ],
   "source": [
    "for i in range(len(dfs)):\n",
    "    trial = Trial(dfs[i])\n",
    "    print(len(trial.saccades)/2, len(trial.fixations)/2, len(trial.blinks)/2)\n",
    "    print(trial.event_mean)\n",
    "\n",
    "    maxX, minX = dfs[i]['Gaze_X'].max(), dfs[i]['Gaze_X'].min()\n",
    "    maxY, minY = dfs[i]['Gaze_Y'].max(), dfs[i]['Gaze_Y'].min()\n",
    "    print('Horizontal : ',round(maxX - minX, 3), '. Vertical : ',round(maxY - minY, 3))"
   ]
  },
  {
   "cell_type": "code",
   "execution_count": 66,
   "metadata": {},
   "outputs": [
    {
     "data": {
      "text/plain": [
       "nan"
      ]
     },
     "execution_count": 66,
     "metadata": {},
     "output_type": "execute_result"
    }
   ],
   "source": [
    "npgazeX = dfs[2]['Gaze_X'].values\n",
    "np.max(npgazeX) - np.min(npgazeX)"
   ]
  },
  {
   "cell_type": "code",
   "execution_count": 72,
   "metadata": {},
   "outputs": [
    {
     "data": {
      "text/plain": [
       "-0.509959519"
      ]
     },
     "execution_count": 72,
     "metadata": {},
     "output_type": "execute_result"
    }
   ],
   "source": [
    "dfs[2]['Gaze_X'].min()"
   ]
  },
  {
   "cell_type": "code",
   "execution_count": null,
   "metadata": {},
   "outputs": [],
   "source": []
  }
 ],
 "metadata": {
  "interpreter": {
   "hash": "40d3a090f54c6569ab1632332b64b2c03c39dcf918b08424e98f38b5ae0af88f"
  },
  "kernelspec": {
   "display_name": "Python 3.8.8 ('base')",
   "language": "python",
   "name": "python3"
  },
  "language_info": {
   "codemirror_mode": {
    "name": "ipython",
    "version": 3
   },
   "file_extension": ".py",
   "mimetype": "text/x-python",
   "name": "python",
   "nbconvert_exporter": "python",
   "pygments_lexer": "ipython3",
   "version": "3.8.8"
  },
  "orig_nbformat": 4
 },
 "nbformat": 4,
 "nbformat_minor": 2
}
