{
 "cells": [
  {
   "cell_type": "markdown",
   "metadata": {},
   "source": [
    "# Notebook for statistical exploration and analysis"
   ]
  },
  {
   "cell_type": "markdown",
   "metadata": {},
   "source": [
    "Imports"
   ]
  },
  {
   "cell_type": "code",
   "execution_count": 1,
   "metadata": {},
   "outputs": [],
   "source": [
    "from csv_load import *\n",
    "import numpy as np\n",
    "import sys\n",
    "sys.path.append('./animations/')\n",
    "import anim"
   ]
  },
  {
   "cell_type": "markdown",
   "metadata": {},
   "source": [
    "Files"
   ]
  },
  {
   "cell_type": "code",
   "execution_count": 2,
   "metadata": {},
   "outputs": [],
   "source": [
    "reaching = \"../files/utf8/Visually_Guided_Reaching_-_[Child_v2_-_practice]_-_LEFT_-_11_49.csv\"\n",
    "reaching2 = \"../files/utf8/Visually_Guided_Reaching_-_Child_v2_(4_target)_-_LEFT_-_11_50.csv\"\n",
    "practice_ball = \"../files/utf8/Ball_on_Bar_-_[Child_-_practice_2_(30s_per_level)]_-_RIGHT_-_11_57.csv\"\n",
    "ball = \"../files/utf8/Ball_on_Bar_-_Child_-_RIGHT_-_11_59.csv\"\n",
    "practice_object = \"../files/utf8/Object_Hit_-_[Child_-_practice]_-_RIGHT_-_12_02.csv\""
   ]
  },
  {
   "cell_type": "markdown",
   "metadata": {},
   "source": [
    "Dataframe loads"
   ]
  },
  {
   "cell_type": "code",
   "execution_count": 3,
   "metadata": {},
   "outputs": [],
   "source": [
    "EXERCISE = reaching\n",
    "dfs = extract_dataframes(EXERCISE)"
   ]
  },
  {
   "cell_type": "markdown",
   "metadata": {},
   "source": [
    "### Tests"
   ]
  },
  {
   "cell_type": "code",
   "execution_count": 4,
   "metadata": {},
   "outputs": [],
   "source": [
    "#dfs[0].columns"
   ]
  },
  {
   "cell_type": "code",
   "execution_count": 6,
   "metadata": {},
   "outputs": [
    {
     "name": "stdout",
     "output_type": "stream",
     "text": [
      "\n"
     ]
    },
    {
     "name": "stderr",
     "output_type": "stream",
     "text": [
      "/opt/anaconda3/lib/python3.8/site-packages/numpy/core/fromnumeric.py:3474: RuntimeWarning: Mean of empty slice.\n",
      "  return _methods._mean(a, axis=axis, dtype=dtype,\n",
      "/opt/anaconda3/lib/python3.8/site-packages/numpy/core/_methods.py:189: RuntimeWarning: invalid value encountered in double_scalars\n",
      "  ret = ret.dtype.type(ret / rcount)\n",
      "/opt/anaconda3/lib/python3.8/site-packages/numpy/core/_methods.py:264: RuntimeWarning: Degrees of freedom <= 0 for slice\n",
      "  ret = _var(a, axis=axis, dtype=dtype, out=out, ddof=ddof,\n",
      "/opt/anaconda3/lib/python3.8/site-packages/numpy/core/_methods.py:222: RuntimeWarning: invalid value encountered in true_divide\n",
      "  arrmean = um.true_divide(arrmean, div, out=arrmean, casting='unsafe',\n",
      "/opt/anaconda3/lib/python3.8/site-packages/numpy/core/_methods.py:256: RuntimeWarning: invalid value encountered in double_scalars\n",
      "  ret = ret.dtype.type(ret / rcount)\n"
     ]
    }
   ],
   "source": [
    "trial = Trial(dfs[0], EXERCISE)"
   ]
  },
  {
   "cell_type": "code",
   "execution_count": 7,
   "metadata": {},
   "outputs": [
    {
     "data": {
      "text/plain": [
       "['HOLD_AT_TARGET',\n",
       " 'STAY_CENTRE',\n",
       " 'EXIT_START_TARGET',\n",
       " 'Gaze saccade start',\n",
       " 'TARGET_ON',\n",
       " 'Gaze fixation start',\n",
       " 'Gaze fixation end',\n",
       " 'Gaze saccade end',\n",
       " 'WAIT_FOR_START',\n",
       " 'END_OF_REACH']"
      ]
     },
     "execution_count": 7,
     "metadata": {},
     "output_type": "execute_result"
    }
   ],
   "source": [
    "# Unique events\n",
    "list(set(trial.event_list))"
   ]
  },
  {
   "cell_type": "code",
   "execution_count": 8,
   "metadata": {},
   "outputs": [],
   "source": [
    "rowspeed = dfs[0]['Sample duration (s)']"
   ]
  },
  {
   "cell_type": "code",
   "execution_count": 9,
   "metadata": {},
   "outputs": [
    {
     "data": {
      "text/plain": [
       "[(272.0, 0.272000015),\n",
       " (352.0, 0.351999998),\n",
       " (528.0, 0.527999997),\n",
       " (557.0, 0.556999981),\n",
       " (1025.0, 1.02499998),\n",
       " (1046.0, 1.046),\n",
       " (3302.0, 3.30200005),\n",
       " (3338.0, 3.33800006),\n",
       " (3523.0, 3.523),\n",
       " (3541.0, 3.54099989),\n",
       " (7208.0, 7.20800018),\n",
       " (7234.0, 7.23400021),\n",
       " (7381.0, 7.38100004),\n",
       " (7411.0, 7.41099977),\n",
       " (7755.0, 7.75500011),\n",
       " (7780.0, 7.78000021),\n",
       " (8021.0, 8.02099991),\n",
       " (8045.0, 8.04500008),\n",
       " (8271.0, 8.27099991),\n",
       " (8287.0, 8.2869997)]"
      ]
     },
     "execution_count": 9,
     "metadata": {},
     "output_type": "execute_result"
    }
   ],
   "source": [
    "trial.saccades"
   ]
  },
  {
   "cell_type": "code",
   "execution_count": 10,
   "metadata": {},
   "outputs": [
    {
     "data": {
      "text/plain": [
       "[80.0, 29.0, 21.0, 36.0, 18.0, 26.0, 30.0, 25.0, 24.0, 16.0]"
      ]
     },
     "execution_count": 10,
     "metadata": {},
     "output_type": "execute_result"
    }
   ],
   "source": [
    "durations = []\n",
    "for i in range(1, len(trial.saccades), 2):\n",
    "    durations.append(trial.saccades[i][0]-trial.saccades[i-1][0])\n",
    "durations"
   ]
  },
  {
   "cell_type": "code",
   "execution_count": 12,
   "metadata": {},
   "outputs": [
    {
     "name": "stdout",
     "output_type": "stream",
     "text": [
      "\n",
      "10.0 1.0 0.0\n",
      "{'saccades': (30.5, 17.41), 'fixations': (145.0, 0.0), 'blinks': (nan, nan)}\n",
      "Horizontal :  0.197 . Vertical :  0.084\n",
      "\n",
      "11.0 3.0 0.0\n",
      "{'saccades': (37.64, 37.21), 'fixations': (829.33, 859.14), 'blinks': (nan, nan)}\n",
      "Horizontal :  0.101 . Vertical :  0.15\n",
      "\n",
      "8.0 2.0 2.0\n",
      "{'saccades': (79.5, 68.51), 'fixations': (1119.0, 527.0), 'blinks': (76.5, 8.5)}\n",
      "Horizontal :  0.473 . Vertical :  0.356\n"
     ]
    },
    {
     "name": "stderr",
     "output_type": "stream",
     "text": [
      "/opt/anaconda3/lib/python3.8/site-packages/numpy/core/fromnumeric.py:3474: RuntimeWarning: Mean of empty slice.\n",
      "  return _methods._mean(a, axis=axis, dtype=dtype,\n",
      "/opt/anaconda3/lib/python3.8/site-packages/numpy/core/_methods.py:189: RuntimeWarning: invalid value encountered in double_scalars\n",
      "  ret = ret.dtype.type(ret / rcount)\n",
      "/opt/anaconda3/lib/python3.8/site-packages/numpy/core/_methods.py:264: RuntimeWarning: Degrees of freedom <= 0 for slice\n",
      "  ret = _var(a, axis=axis, dtype=dtype, out=out, ddof=ddof,\n",
      "/opt/anaconda3/lib/python3.8/site-packages/numpy/core/_methods.py:222: RuntimeWarning: invalid value encountered in true_divide\n",
      "  arrmean = um.true_divide(arrmean, div, out=arrmean, casting='unsafe',\n",
      "/opt/anaconda3/lib/python3.8/site-packages/numpy/core/_methods.py:256: RuntimeWarning: invalid value encountered in double_scalars\n",
      "  ret = ret.dtype.type(ret / rcount)\n"
     ]
    }
   ],
   "source": [
    "for i in range(len(dfs)):\n",
    "    trial = Trial(dfs[i], EXERCISE)\n",
    "    print(len(trial.saccades)/2, len(trial.fixations)/2, len(trial.blinks)/2)\n",
    "    print(trial.event_mean)\n",
    "\n",
    "    maxX, minX = dfs[i]['Gaze_X'].max(), dfs[i]['Gaze_X'].min()\n",
    "    maxY, minY = dfs[i]['Gaze_Y'].max(), dfs[i]['Gaze_Y'].min()\n",
    "    print('Horizontal : ',round(maxX - minX, 3), '. Vertical : ',round(maxY - minY, 3))"
   ]
  },
  {
   "cell_type": "code",
   "execution_count": 15,
   "metadata": {},
   "outputs": [
    {
     "data": {
      "text/plain": [
       "nan"
      ]
     },
     "execution_count": 15,
     "metadata": {},
     "output_type": "execute_result"
    }
   ],
   "source": [
    "npgazeX = dfs[2]['Gaze_X'].values\n",
    "np.max(npgazeX) - np.min(npgazeX)"
   ]
  },
  {
   "cell_type": "code",
   "execution_count": 14,
   "metadata": {},
   "outputs": [
    {
     "data": {
      "text/plain": [
       "-0.509959519"
      ]
     },
     "execution_count": 14,
     "metadata": {},
     "output_type": "execute_result"
    }
   ],
   "source": [
    "dfs[2]['Gaze_X'].min()"
   ]
  },
  {
   "cell_type": "code",
   "execution_count": null,
   "metadata": {},
   "outputs": [],
   "source": []
  }
 ],
 "metadata": {
  "interpreter": {
   "hash": "40d3a090f54c6569ab1632332b64b2c03c39dcf918b08424e98f38b5ae0af88f"
  },
  "kernelspec": {
   "display_name": "Python 3.8.8 ('base')",
   "language": "python",
   "name": "python3"
  },
  "language_info": {
   "codemirror_mode": {
    "name": "ipython",
    "version": 3
   },
   "file_extension": ".py",
   "mimetype": "text/x-python",
   "name": "python",
   "nbconvert_exporter": "python",
   "pygments_lexer": "ipython3",
   "version": "3.8.8"
  },
  "orig_nbformat": 4
 },
 "nbformat": 4,
 "nbformat_minor": 2
}
